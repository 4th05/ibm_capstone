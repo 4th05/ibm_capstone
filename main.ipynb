{
 "cells": [
  {
   "cell_type": "code",
   "execution_count": 2,
   "metadata": {},
   "outputs": [],
   "source": [
    "import pandas as pd \n",
    "import numpy as np \n",
    "import matplotlib.pyplot as plt \n",
    "import seaborn as sns \n",
    "import datetime "
   ]
  },
  {
   "cell_type": "markdown",
   "metadata": {},
   "source": [
    "## Introduction"
   ]
  },
  {
   "cell_type": "markdown",
   "metadata": {},
   "source": [
    "- An estimated 1.2 million people are killed in road crashes each year, and as many as 50 million are injured. Road traffic injuries are predictable and preventable, but the study of data is of utmost importance. Understanding the factors around which these tragedies occurs, will give us the insight needed in order to prevent them."
   ]
  },
  {
   "cell_type": "markdown",
   "metadata": {},
   "source": [
    "- Using the Database of the SDOT Traffic Management Division of Seattle, the main objectives of this project are to build a model that can predict the probability of each type of accident (property damage or injury) as well as the key factors involved in them. "
   ]
  },
  {
   "cell_type": "markdown",
   "metadata": {},
   "source": [
    "## Readind Data"
   ]
  },
  {
   "cell_type": "code",
   "execution_count": 3,
   "metadata": {},
   "outputs": [
    {
     "name": "stderr",
     "output_type": "stream",
     "text": [
      "/home/amoraes/anaconda3/lib/python3.7/site-packages/IPython/core/interactiveshell.py:3058: DtypeWarning: Columns (33) have mixed types.Specify dtype option on import or set low_memory=False.\n",
      "  interactivity=interactivity, compiler=compiler, result=result)\n"
     ]
    }
   ],
   "source": [
    "database = pd.read_csv('../../Data-Collisions.csv')"
   ]
  },
  {
   "cell_type": "code",
   "execution_count": 4,
   "metadata": {},
   "outputs": [],
   "source": [
    "np.random.seed(1)"
   ]
  },
  {
   "cell_type": "markdown",
   "metadata": {},
   "source": [
    "## Understanding data"
   ]
  },
  {
   "cell_type": "code",
   "execution_count": 6,
   "metadata": {},
   "outputs": [
    {
     "data": {
      "text/html": [
       "<div>\n",
       "<style scoped>\n",
       "    .dataframe tbody tr th:only-of-type {\n",
       "        vertical-align: middle;\n",
       "    }\n",
       "\n",
       "    .dataframe tbody tr th {\n",
       "        vertical-align: top;\n",
       "    }\n",
       "\n",
       "    .dataframe thead th {\n",
       "        text-align: right;\n",
       "    }\n",
       "</style>\n",
       "<table border=\"1\" class=\"dataframe\">\n",
       "  <thead>\n",
       "    <tr style=\"text-align: right;\">\n",
       "      <th></th>\n",
       "      <th>count</th>\n",
       "      <th>mean</th>\n",
       "      <th>std</th>\n",
       "      <th>min</th>\n",
       "      <th>25%</th>\n",
       "      <th>50%</th>\n",
       "      <th>75%</th>\n",
       "      <th>max</th>\n",
       "    </tr>\n",
       "  </thead>\n",
       "  <tbody>\n",
       "    <tr>\n",
       "      <th>SEVERITYCODE</th>\n",
       "      <td>194673.0</td>\n",
       "      <td>1.298901e+00</td>\n",
       "      <td>4.577776e-01</td>\n",
       "      <td>1.000000e+00</td>\n",
       "      <td>1.000000e+00</td>\n",
       "      <td>1.000000e+00</td>\n",
       "      <td>2.000000e+00</td>\n",
       "      <td>2.000000e+00</td>\n",
       "    </tr>\n",
       "    <tr>\n",
       "      <th>X</th>\n",
       "      <td>189339.0</td>\n",
       "      <td>-1.223305e+02</td>\n",
       "      <td>2.997605e-02</td>\n",
       "      <td>-1.224191e+02</td>\n",
       "      <td>-1.223487e+02</td>\n",
       "      <td>-1.223302e+02</td>\n",
       "      <td>-1.223119e+02</td>\n",
       "      <td>-1.222389e+02</td>\n",
       "    </tr>\n",
       "    <tr>\n",
       "      <th>Y</th>\n",
       "      <td>189339.0</td>\n",
       "      <td>4.761954e+01</td>\n",
       "      <td>5.615664e-02</td>\n",
       "      <td>4.749557e+01</td>\n",
       "      <td>4.757596e+01</td>\n",
       "      <td>4.761537e+01</td>\n",
       "      <td>4.766366e+01</td>\n",
       "      <td>4.773414e+01</td>\n",
       "    </tr>\n",
       "    <tr>\n",
       "      <th>OBJECTID</th>\n",
       "      <td>194673.0</td>\n",
       "      <td>1.084794e+05</td>\n",
       "      <td>6.264972e+04</td>\n",
       "      <td>1.000000e+00</td>\n",
       "      <td>5.426700e+04</td>\n",
       "      <td>1.069120e+05</td>\n",
       "      <td>1.622720e+05</td>\n",
       "      <td>2.195470e+05</td>\n",
       "    </tr>\n",
       "    <tr>\n",
       "      <th>INCKEY</th>\n",
       "      <td>194673.0</td>\n",
       "      <td>1.410915e+05</td>\n",
       "      <td>8.663440e+04</td>\n",
       "      <td>1.001000e+03</td>\n",
       "      <td>7.038300e+04</td>\n",
       "      <td>1.233630e+05</td>\n",
       "      <td>2.033190e+05</td>\n",
       "      <td>3.314540e+05</td>\n",
       "    </tr>\n",
       "    <tr>\n",
       "      <th>COLDETKEY</th>\n",
       "      <td>194673.0</td>\n",
       "      <td>1.412988e+05</td>\n",
       "      <td>8.698654e+04</td>\n",
       "      <td>1.001000e+03</td>\n",
       "      <td>7.038300e+04</td>\n",
       "      <td>1.233630e+05</td>\n",
       "      <td>2.034590e+05</td>\n",
       "      <td>3.329540e+05</td>\n",
       "    </tr>\n",
       "    <tr>\n",
       "      <th>INTKEY</th>\n",
       "      <td>65070.0</td>\n",
       "      <td>3.755845e+04</td>\n",
       "      <td>5.174599e+04</td>\n",
       "      <td>2.380700e+04</td>\n",
       "      <td>2.866700e+04</td>\n",
       "      <td>2.997300e+04</td>\n",
       "      <td>3.397300e+04</td>\n",
       "      <td>7.575800e+05</td>\n",
       "    </tr>\n",
       "    <tr>\n",
       "      <th>SEVERITYCODE.1</th>\n",
       "      <td>194673.0</td>\n",
       "      <td>1.298901e+00</td>\n",
       "      <td>4.577776e-01</td>\n",
       "      <td>1.000000e+00</td>\n",
       "      <td>1.000000e+00</td>\n",
       "      <td>1.000000e+00</td>\n",
       "      <td>2.000000e+00</td>\n",
       "      <td>2.000000e+00</td>\n",
       "    </tr>\n",
       "    <tr>\n",
       "      <th>PERSONCOUNT</th>\n",
       "      <td>194673.0</td>\n",
       "      <td>2.444427e+00</td>\n",
       "      <td>1.345929e+00</td>\n",
       "      <td>0.000000e+00</td>\n",
       "      <td>2.000000e+00</td>\n",
       "      <td>2.000000e+00</td>\n",
       "      <td>3.000000e+00</td>\n",
       "      <td>8.100000e+01</td>\n",
       "    </tr>\n",
       "    <tr>\n",
       "      <th>PEDCOUNT</th>\n",
       "      <td>194673.0</td>\n",
       "      <td>3.713920e-02</td>\n",
       "      <td>1.981499e-01</td>\n",
       "      <td>0.000000e+00</td>\n",
       "      <td>0.000000e+00</td>\n",
       "      <td>0.000000e+00</td>\n",
       "      <td>0.000000e+00</td>\n",
       "      <td>6.000000e+00</td>\n",
       "    </tr>\n",
       "    <tr>\n",
       "      <th>PEDCYLCOUNT</th>\n",
       "      <td>194673.0</td>\n",
       "      <td>2.839120e-02</td>\n",
       "      <td>1.674128e-01</td>\n",
       "      <td>0.000000e+00</td>\n",
       "      <td>0.000000e+00</td>\n",
       "      <td>0.000000e+00</td>\n",
       "      <td>0.000000e+00</td>\n",
       "      <td>2.000000e+00</td>\n",
       "    </tr>\n",
       "    <tr>\n",
       "      <th>VEHCOUNT</th>\n",
       "      <td>194673.0</td>\n",
       "      <td>1.920780e+00</td>\n",
       "      <td>6.310467e-01</td>\n",
       "      <td>0.000000e+00</td>\n",
       "      <td>2.000000e+00</td>\n",
       "      <td>2.000000e+00</td>\n",
       "      <td>2.000000e+00</td>\n",
       "      <td>1.200000e+01</td>\n",
       "    </tr>\n",
       "    <tr>\n",
       "      <th>SDOT_COLCODE</th>\n",
       "      <td>194673.0</td>\n",
       "      <td>1.386777e+01</td>\n",
       "      <td>6.868755e+00</td>\n",
       "      <td>0.000000e+00</td>\n",
       "      <td>1.100000e+01</td>\n",
       "      <td>1.300000e+01</td>\n",
       "      <td>1.400000e+01</td>\n",
       "      <td>6.900000e+01</td>\n",
       "    </tr>\n",
       "    <tr>\n",
       "      <th>SDOTCOLNUM</th>\n",
       "      <td>114936.0</td>\n",
       "      <td>7.972521e+06</td>\n",
       "      <td>2.553533e+06</td>\n",
       "      <td>1.007024e+06</td>\n",
       "      <td>6.040015e+06</td>\n",
       "      <td>8.023022e+06</td>\n",
       "      <td>1.015501e+07</td>\n",
       "      <td>1.307202e+07</td>\n",
       "    </tr>\n",
       "    <tr>\n",
       "      <th>SEGLANEKEY</th>\n",
       "      <td>194673.0</td>\n",
       "      <td>2.694011e+02</td>\n",
       "      <td>3.315776e+03</td>\n",
       "      <td>0.000000e+00</td>\n",
       "      <td>0.000000e+00</td>\n",
       "      <td>0.000000e+00</td>\n",
       "      <td>0.000000e+00</td>\n",
       "      <td>5.252410e+05</td>\n",
       "    </tr>\n",
       "    <tr>\n",
       "      <th>CROSSWALKKEY</th>\n",
       "      <td>194673.0</td>\n",
       "      <td>9.782452e+03</td>\n",
       "      <td>7.226926e+04</td>\n",
       "      <td>0.000000e+00</td>\n",
       "      <td>0.000000e+00</td>\n",
       "      <td>0.000000e+00</td>\n",
       "      <td>0.000000e+00</td>\n",
       "      <td>5.239700e+06</td>\n",
       "    </tr>\n",
       "  </tbody>\n",
       "</table>\n",
       "</div>"
      ],
      "text/plain": [
       "                   count          mean           std           min  \\\n",
       "SEVERITYCODE    194673.0  1.298901e+00  4.577776e-01  1.000000e+00   \n",
       "X               189339.0 -1.223305e+02  2.997605e-02 -1.224191e+02   \n",
       "Y               189339.0  4.761954e+01  5.615664e-02  4.749557e+01   \n",
       "OBJECTID        194673.0  1.084794e+05  6.264972e+04  1.000000e+00   \n",
       "INCKEY          194673.0  1.410915e+05  8.663440e+04  1.001000e+03   \n",
       "COLDETKEY       194673.0  1.412988e+05  8.698654e+04  1.001000e+03   \n",
       "INTKEY           65070.0  3.755845e+04  5.174599e+04  2.380700e+04   \n",
       "SEVERITYCODE.1  194673.0  1.298901e+00  4.577776e-01  1.000000e+00   \n",
       "PERSONCOUNT     194673.0  2.444427e+00  1.345929e+00  0.000000e+00   \n",
       "PEDCOUNT        194673.0  3.713920e-02  1.981499e-01  0.000000e+00   \n",
       "PEDCYLCOUNT     194673.0  2.839120e-02  1.674128e-01  0.000000e+00   \n",
       "VEHCOUNT        194673.0  1.920780e+00  6.310467e-01  0.000000e+00   \n",
       "SDOT_COLCODE    194673.0  1.386777e+01  6.868755e+00  0.000000e+00   \n",
       "SDOTCOLNUM      114936.0  7.972521e+06  2.553533e+06  1.007024e+06   \n",
       "SEGLANEKEY      194673.0  2.694011e+02  3.315776e+03  0.000000e+00   \n",
       "CROSSWALKKEY    194673.0  9.782452e+03  7.226926e+04  0.000000e+00   \n",
       "\n",
       "                         25%           50%           75%           max  \n",
       "SEVERITYCODE    1.000000e+00  1.000000e+00  2.000000e+00  2.000000e+00  \n",
       "X              -1.223487e+02 -1.223302e+02 -1.223119e+02 -1.222389e+02  \n",
       "Y               4.757596e+01  4.761537e+01  4.766366e+01  4.773414e+01  \n",
       "OBJECTID        5.426700e+04  1.069120e+05  1.622720e+05  2.195470e+05  \n",
       "INCKEY          7.038300e+04  1.233630e+05  2.033190e+05  3.314540e+05  \n",
       "COLDETKEY       7.038300e+04  1.233630e+05  2.034590e+05  3.329540e+05  \n",
       "INTKEY          2.866700e+04  2.997300e+04  3.397300e+04  7.575800e+05  \n",
       "SEVERITYCODE.1  1.000000e+00  1.000000e+00  2.000000e+00  2.000000e+00  \n",
       "PERSONCOUNT     2.000000e+00  2.000000e+00  3.000000e+00  8.100000e+01  \n",
       "PEDCOUNT        0.000000e+00  0.000000e+00  0.000000e+00  6.000000e+00  \n",
       "PEDCYLCOUNT     0.000000e+00  0.000000e+00  0.000000e+00  2.000000e+00  \n",
       "VEHCOUNT        2.000000e+00  2.000000e+00  2.000000e+00  1.200000e+01  \n",
       "SDOT_COLCODE    1.100000e+01  1.300000e+01  1.400000e+01  6.900000e+01  \n",
       "SDOTCOLNUM      6.040015e+06  8.023022e+06  1.015501e+07  1.307202e+07  \n",
       "SEGLANEKEY      0.000000e+00  0.000000e+00  0.000000e+00  5.252410e+05  \n",
       "CROSSWALKKEY    0.000000e+00  0.000000e+00  0.000000e+00  5.239700e+06  "
      ]
     },
     "execution_count": 6,
     "metadata": {},
     "output_type": "execute_result"
    }
   ],
   "source": [
    "database.describe().T"
   ]
  },
  {
   "cell_type": "code",
   "execution_count": 5,
   "metadata": {},
   "outputs": [
    {
     "data": {
      "text/plain": [
       "(194673, 38)"
      ]
     },
     "execution_count": 5,
     "metadata": {},
     "output_type": "execute_result"
    }
   ],
   "source": [
    "#First check the shape of the database\n",
    "database.shape"
   ]
  },
  {
   "cell_type": "code",
   "execution_count": 6,
   "metadata": {},
   "outputs": [
    {
     "data": {
      "text/plain": [
       "Index(['SEVERITYCODE', 'X', 'Y', 'OBJECTID', 'INCKEY', 'COLDETKEY', 'REPORTNO',\n",
       "       'STATUS', 'ADDRTYPE', 'INTKEY', 'LOCATION', 'EXCEPTRSNCODE',\n",
       "       'EXCEPTRSNDESC', 'SEVERITYCODE.1', 'SEVERITYDESC', 'COLLISIONTYPE',\n",
       "       'PERSONCOUNT', 'PEDCOUNT', 'PEDCYLCOUNT', 'VEHCOUNT', 'INCDATE',\n",
       "       'INCDTTM', 'JUNCTIONTYPE', 'SDOT_COLCODE', 'SDOT_COLDESC',\n",
       "       'INATTENTIONIND', 'UNDERINFL', 'WEATHER', 'ROADCOND', 'LIGHTCOND',\n",
       "       'PEDROWNOTGRNT', 'SDOTCOLNUM', 'SPEEDING', 'ST_COLCODE', 'ST_COLDESC',\n",
       "       'SEGLANEKEY', 'CROSSWALKKEY', 'HITPARKEDCAR'],\n",
       "      dtype='object')"
      ]
     },
     "execution_count": 6,
     "metadata": {},
     "output_type": "execute_result"
    }
   ],
   "source": [
    "#Check what are the type of columns that we will be working with\n",
    "database.columns"
   ]
  },
  {
   "cell_type": "code",
   "execution_count": 7,
   "metadata": {},
   "outputs": [
    {
     "data": {
      "text/plain": [
       "array([2, 1])"
      ]
     },
     "execution_count": 7,
     "metadata": {},
     "output_type": "execute_result"
    }
   ],
   "source": [
    "#Target:\n",
    "database['SEVERITYCODE'].unique()"
   ]
  },
  {
   "cell_type": "markdown",
   "metadata": {},
   "source": [
    "### Missing Values"
   ]
  },
  {
   "cell_type": "code",
   "execution_count": 9,
   "metadata": {},
   "outputs": [
    {
     "data": {
      "text/plain": [
       "<AxesSubplot:>"
      ]
     },
     "execution_count": 9,
     "metadata": {},
     "output_type": "execute_result"
    },
    {
     "data": {
      "image/png": "[encoded data removed]",
      "text/plain": [
       "<Figure size 432x288 with 1 Axes>"
      ]
     },
     "metadata": {
      "needs_background": "light"
     },
     "output_type": "display_data"
    }
   ],
   "source": [
    "#We have a lot of features. Let's check which of them have null values and drop the ones we will not be able to use\n",
    "missing_values_count = pd.DataFrame({'Null': database.isnull().sum()})\n",
    "missing_values_count.sort_values(by= 'Null' , ascending = False).plot(kind=\"bar\")"
   ]
  },
  {
   "cell_type": "code",
   "execution_count": 9,
   "metadata": {},
   "outputs": [],
   "source": [
    "#We drop the features with the highest ratio of missing values.\n",
    "# Aside from that, we will drop some features that don't add any value to the data (number of report and such).\n",
    "drop_features = ['PEDROWNOTGRNT', 'EXCEPTRSNDESC', 'SPEEDING', 'INATTENTIONIND', 'INTKEY', 'EXCEPTRSNCODE', 'SDOTCOLNUM', 'REPORTNO', \n",
    "                 'LOCATION', 'INCDATE', 'INCKEY','COLDETKEY']\n",
    "database.drop(drop_features, axis = 1, inplace = True)"
   ]
  },
  {
   "cell_type": "code",
   "execution_count": 10,
   "metadata": {},
   "outputs": [
    {
     "data": {
      "text/plain": [
       "(194673, 26)"
      ]
     },
     "execution_count": 10,
     "metadata": {},
     "output_type": "execute_result"
    }
   ],
   "source": [
    "#Now it looks much cleaner\n",
    "database.shape"
   ]
  },
  {
   "cell_type": "code",
   "execution_count": 11,
   "metadata": {
    "scrolled": false
   },
   "outputs": [
    {
     "data": {
      "text/html": [
       "<div>\n",
       "<style scoped>\n",
       "    .dataframe tbody tr th:only-of-type {\n",
       "        vertical-align: middle;\n",
       "    }\n",
       "\n",
       "    .dataframe tbody tr th {\n",
       "        vertical-align: top;\n",
       "    }\n",
       "\n",
       "    .dataframe thead th {\n",
       "        text-align: right;\n",
       "    }\n",
       "</style>\n",
       "<table border=\"1\" class=\"dataframe\">\n",
       "  <thead>\n",
       "    <tr style=\"text-align: right;\">\n",
       "      <th></th>\n",
       "      <th>STATUS</th>\n",
       "      <th>ADDRTYPE</th>\n",
       "      <th>SEVERITYDESC</th>\n",
       "      <th>COLLISIONTYPE</th>\n",
       "      <th>INCDTTM</th>\n",
       "      <th>JUNCTIONTYPE</th>\n",
       "      <th>SDOT_COLDESC</th>\n",
       "      <th>UNDERINFL</th>\n",
       "      <th>WEATHER</th>\n",
       "      <th>ROADCOND</th>\n",
       "      <th>LIGHTCOND</th>\n",
       "      <th>ST_COLCODE</th>\n",
       "      <th>ST_COLDESC</th>\n",
       "      <th>HITPARKEDCAR</th>\n",
       "    </tr>\n",
       "  </thead>\n",
       "  <tbody>\n",
       "    <tr>\n",
       "      <th>0</th>\n",
       "      <td>Matched</td>\n",
       "      <td>Intersection</td>\n",
       "      <td>Injury Collision</td>\n",
       "      <td>Angles</td>\n",
       "      <td>3/27/2013 2:54:00 PM</td>\n",
       "      <td>At Intersection (intersection related)</td>\n",
       "      <td>MOTOR VEHICLE STRUCK MOTOR VEHICLE, FRONT END ...</td>\n",
       "      <td>N</td>\n",
       "      <td>Overcast</td>\n",
       "      <td>Wet</td>\n",
       "      <td>Daylight</td>\n",
       "      <td>10</td>\n",
       "      <td>Entering at angle</td>\n",
       "      <td>N</td>\n",
       "    </tr>\n",
       "    <tr>\n",
       "      <th>1</th>\n",
       "      <td>Matched</td>\n",
       "      <td>Block</td>\n",
       "      <td>Property Damage Only Collision</td>\n",
       "      <td>Sideswipe</td>\n",
       "      <td>12/20/2006 6:55:00 PM</td>\n",
       "      <td>Mid-Block (not related to intersection)</td>\n",
       "      <td>MOTOR VEHICLE STRUCK MOTOR VEHICLE, LEFT SIDE ...</td>\n",
       "      <td>0</td>\n",
       "      <td>Raining</td>\n",
       "      <td>Wet</td>\n",
       "      <td>Dark - Street Lights On</td>\n",
       "      <td>11</td>\n",
       "      <td>From same direction - both going straight - bo...</td>\n",
       "      <td>N</td>\n",
       "    </tr>\n",
       "    <tr>\n",
       "      <th>2</th>\n",
       "      <td>Matched</td>\n",
       "      <td>Block</td>\n",
       "      <td>Property Damage Only Collision</td>\n",
       "      <td>Parked Car</td>\n",
       "      <td>11/18/2004 10:20:00 AM</td>\n",
       "      <td>Mid-Block (not related to intersection)</td>\n",
       "      <td>MOTOR VEHICLE STRUCK MOTOR VEHICLE, REAR END</td>\n",
       "      <td>0</td>\n",
       "      <td>Overcast</td>\n",
       "      <td>Dry</td>\n",
       "      <td>Daylight</td>\n",
       "      <td>32</td>\n",
       "      <td>One parked--one moving</td>\n",
       "      <td>N</td>\n",
       "    </tr>\n",
       "    <tr>\n",
       "      <th>3</th>\n",
       "      <td>Matched</td>\n",
       "      <td>Block</td>\n",
       "      <td>Property Damage Only Collision</td>\n",
       "      <td>Other</td>\n",
       "      <td>3/29/2013 9:26:00 AM</td>\n",
       "      <td>Mid-Block (not related to intersection)</td>\n",
       "      <td>MOTOR VEHICLE STRUCK MOTOR VEHICLE, FRONT END ...</td>\n",
       "      <td>N</td>\n",
       "      <td>Clear</td>\n",
       "      <td>Dry</td>\n",
       "      <td>Daylight</td>\n",
       "      <td>23</td>\n",
       "      <td>From same direction - all others</td>\n",
       "      <td>N</td>\n",
       "    </tr>\n",
       "    <tr>\n",
       "      <th>4</th>\n",
       "      <td>Matched</td>\n",
       "      <td>Intersection</td>\n",
       "      <td>Injury Collision</td>\n",
       "      <td>Angles</td>\n",
       "      <td>1/28/2004 8:04:00 AM</td>\n",
       "      <td>At Intersection (intersection related)</td>\n",
       "      <td>MOTOR VEHICLE STRUCK MOTOR VEHICLE, FRONT END ...</td>\n",
       "      <td>0</td>\n",
       "      <td>Raining</td>\n",
       "      <td>Wet</td>\n",
       "      <td>Daylight</td>\n",
       "      <td>10</td>\n",
       "      <td>Entering at angle</td>\n",
       "      <td>N</td>\n",
       "    </tr>\n",
       "  </tbody>\n",
       "</table>\n",
       "</div>"
      ],
      "text/plain": [
       "    STATUS      ADDRTYPE                    SEVERITYDESC COLLISIONTYPE  \\\n",
       "0  Matched  Intersection                Injury Collision        Angles   \n",
       "1  Matched         Block  Property Damage Only Collision     Sideswipe   \n",
       "2  Matched         Block  Property Damage Only Collision    Parked Car   \n",
       "3  Matched         Block  Property Damage Only Collision         Other   \n",
       "4  Matched  Intersection                Injury Collision        Angles   \n",
       "\n",
       "                  INCDTTM                             JUNCTIONTYPE  \\\n",
       "0    3/27/2013 2:54:00 PM   At Intersection (intersection related)   \n",
       "1   12/20/2006 6:55:00 PM  Mid-Block (not related to intersection)   \n",
       "2  11/18/2004 10:20:00 AM  Mid-Block (not related to intersection)   \n",
       "3    3/29/2013 9:26:00 AM  Mid-Block (not related to intersection)   \n",
       "4    1/28/2004 8:04:00 AM   At Intersection (intersection related)   \n",
       "\n",
       "                                        SDOT_COLDESC UNDERINFL   WEATHER  \\\n",
       "0  MOTOR VEHICLE STRUCK MOTOR VEHICLE, FRONT END ...         N  Overcast   \n",
       "1  MOTOR VEHICLE STRUCK MOTOR VEHICLE, LEFT SIDE ...         0   Raining   \n",
       "2       MOTOR VEHICLE STRUCK MOTOR VEHICLE, REAR END         0  Overcast   \n",
       "3  MOTOR VEHICLE STRUCK MOTOR VEHICLE, FRONT END ...         N     Clear   \n",
       "4  MOTOR VEHICLE STRUCK MOTOR VEHICLE, FRONT END ...         0   Raining   \n",
       "\n",
       "  ROADCOND                LIGHTCOND ST_COLCODE  \\\n",
       "0      Wet                 Daylight         10   \n",
       "1      Wet  Dark - Street Lights On         11   \n",
       "2      Dry                 Daylight         32   \n",
       "3      Dry                 Daylight         23   \n",
       "4      Wet                 Daylight         10   \n",
       "\n",
       "                                          ST_COLDESC HITPARKEDCAR  \n",
       "0                                  Entering at angle            N  \n",
       "1  From same direction - both going straight - bo...            N  \n",
       "2                             One parked--one moving            N  \n",
       "3                   From same direction - all others            N  \n",
       "4                                  Entering at angle            N  "
      ]
     },
     "execution_count": 11,
     "metadata": {},
     "output_type": "execute_result"
    }
   ],
   "source": [
    "#We now check which features are categorical. \n",
    "database.select_dtypes(include=[\"object\"]).head(5)"
   ]
  },
  {
   "cell_type": "markdown",
   "metadata": {},
   "source": [
    "## Feature Engineering"
   ]
  },
  {
   "cell_type": "markdown",
   "metadata": {},
   "source": [
    "### Dates"
   ]
  },
  {
   "cell_type": "code",
   "execution_count": 12,
   "metadata": {},
   "outputs": [
    {
     "data": {
      "text/html": [
       "<div>\n",
       "<style scoped>\n",
       "    .dataframe tbody tr th:only-of-type {\n",
       "        vertical-align: middle;\n",
       "    }\n",
       "\n",
       "    .dataframe tbody tr th {\n",
       "        vertical-align: top;\n",
       "    }\n",
       "\n",
       "    .dataframe thead th {\n",
       "        text-align: right;\n",
       "    }\n",
       "</style>\n",
       "<table border=\"1\" class=\"dataframe\">\n",
       "  <thead>\n",
       "    <tr style=\"text-align: right;\">\n",
       "      <th></th>\n",
       "      <th>SEVERITYCODE</th>\n",
       "      <th>Time</th>\n",
       "      <th>X</th>\n",
       "      <th>Y</th>\n",
       "      <th>OBJECTID</th>\n",
       "      <th>STATUS</th>\n",
       "      <th>ADDRTYPE</th>\n",
       "      <th>SEVERITYCODE.1</th>\n",
       "      <th>SEVERITYDESC</th>\n",
       "      <th>COLLISIONTYPE</th>\n",
       "      <th>...</th>\n",
       "      <th>SDOT_COLDESC</th>\n",
       "      <th>UNDERINFL</th>\n",
       "      <th>WEATHER</th>\n",
       "      <th>ROADCOND</th>\n",
       "      <th>LIGHTCOND</th>\n",
       "      <th>ST_COLCODE</th>\n",
       "      <th>ST_COLDESC</th>\n",
       "      <th>SEGLANEKEY</th>\n",
       "      <th>CROSSWALKKEY</th>\n",
       "      <th>HITPARKEDCAR</th>\n",
       "    </tr>\n",
       "  </thead>\n",
       "  <tbody>\n",
       "    <tr>\n",
       "      <th>0</th>\n",
       "      <td>2</td>\n",
       "      <td>2:54:00 PM</td>\n",
       "      <td>-122.323148</td>\n",
       "      <td>47.703140</td>\n",
       "      <td>1</td>\n",
       "      <td>Matched</td>\n",
       "      <td>Intersection</td>\n",
       "      <td>2</td>\n",
       "      <td>Injury Collision</td>\n",
       "      <td>Angles</td>\n",
       "      <td>...</td>\n",
       "      <td>MOTOR VEHICLE STRUCK MOTOR VEHICLE, FRONT END ...</td>\n",
       "      <td>N</td>\n",
       "      <td>Overcast</td>\n",
       "      <td>Wet</td>\n",
       "      <td>Daylight</td>\n",
       "      <td>10</td>\n",
       "      <td>Entering at angle</td>\n",
       "      <td>0</td>\n",
       "      <td>0</td>\n",
       "      <td>N</td>\n",
       "    </tr>\n",
       "    <tr>\n",
       "      <th>1</th>\n",
       "      <td>1</td>\n",
       "      <td>6:55:00 PM</td>\n",
       "      <td>-122.347294</td>\n",
       "      <td>47.647172</td>\n",
       "      <td>2</td>\n",
       "      <td>Matched</td>\n",
       "      <td>Block</td>\n",
       "      <td>1</td>\n",
       "      <td>Property Damage Only Collision</td>\n",
       "      <td>Sideswipe</td>\n",
       "      <td>...</td>\n",
       "      <td>MOTOR VEHICLE STRUCK MOTOR VEHICLE, LEFT SIDE ...</td>\n",
       "      <td>0</td>\n",
       "      <td>Raining</td>\n",
       "      <td>Wet</td>\n",
       "      <td>Dark - Street Lights On</td>\n",
       "      <td>11</td>\n",
       "      <td>From same direction - both going straight - bo...</td>\n",
       "      <td>0</td>\n",
       "      <td>0</td>\n",
       "      <td>N</td>\n",
       "    </tr>\n",
       "    <tr>\n",
       "      <th>2</th>\n",
       "      <td>1</td>\n",
       "      <td>10:20:00 AM</td>\n",
       "      <td>-122.334540</td>\n",
       "      <td>47.607871</td>\n",
       "      <td>3</td>\n",
       "      <td>Matched</td>\n",
       "      <td>Block</td>\n",
       "      <td>1</td>\n",
       "      <td>Property Damage Only Collision</td>\n",
       "      <td>Parked Car</td>\n",
       "      <td>...</td>\n",
       "      <td>MOTOR VEHICLE STRUCK MOTOR VEHICLE, REAR END</td>\n",
       "      <td>0</td>\n",
       "      <td>Overcast</td>\n",
       "      <td>Dry</td>\n",
       "      <td>Daylight</td>\n",
       "      <td>32</td>\n",
       "      <td>One parked--one moving</td>\n",
       "      <td>0</td>\n",
       "      <td>0</td>\n",
       "      <td>N</td>\n",
       "    </tr>\n",
       "    <tr>\n",
       "      <th>3</th>\n",
       "      <td>1</td>\n",
       "      <td>9:26:00 AM</td>\n",
       "      <td>-122.334803</td>\n",
       "      <td>47.604803</td>\n",
       "      <td>4</td>\n",
       "      <td>Matched</td>\n",
       "      <td>Block</td>\n",
       "      <td>1</td>\n",
       "      <td>Property Damage Only Collision</td>\n",
       "      <td>Other</td>\n",
       "      <td>...</td>\n",
       "      <td>MOTOR VEHICLE STRUCK MOTOR VEHICLE, FRONT END ...</td>\n",
       "      <td>N</td>\n",
       "      <td>Clear</td>\n",
       "      <td>Dry</td>\n",
       "      <td>Daylight</td>\n",
       "      <td>23</td>\n",
       "      <td>From same direction - all others</td>\n",
       "      <td>0</td>\n",
       "      <td>0</td>\n",
       "      <td>N</td>\n",
       "    </tr>\n",
       "    <tr>\n",
       "      <th>4</th>\n",
       "      <td>2</td>\n",
       "      <td>8:04:00 AM</td>\n",
       "      <td>-122.306426</td>\n",
       "      <td>47.545739</td>\n",
       "      <td>5</td>\n",
       "      <td>Matched</td>\n",
       "      <td>Intersection</td>\n",
       "      <td>2</td>\n",
       "      <td>Injury Collision</td>\n",
       "      <td>Angles</td>\n",
       "      <td>...</td>\n",
       "      <td>MOTOR VEHICLE STRUCK MOTOR VEHICLE, FRONT END ...</td>\n",
       "      <td>0</td>\n",
       "      <td>Raining</td>\n",
       "      <td>Wet</td>\n",
       "      <td>Daylight</td>\n",
       "      <td>10</td>\n",
       "      <td>Entering at angle</td>\n",
       "      <td>0</td>\n",
       "      <td>0</td>\n",
       "      <td>N</td>\n",
       "    </tr>\n",
       "  </tbody>\n",
       "</table>\n",
       "<p>5 rows × 26 columns</p>\n",
       "</div>"
      ],
      "text/plain": [
       "   SEVERITYCODE         Time           X          Y  OBJECTID   STATUS  \\\n",
       "0             2   2:54:00 PM -122.323148  47.703140         1  Matched   \n",
       "1             1   6:55:00 PM -122.347294  47.647172         2  Matched   \n",
       "2             1  10:20:00 AM -122.334540  47.607871         3  Matched   \n",
       "3             1   9:26:00 AM -122.334803  47.604803         4  Matched   \n",
       "4             2   8:04:00 AM -122.306426  47.545739         5  Matched   \n",
       "\n",
       "       ADDRTYPE  SEVERITYCODE.1                    SEVERITYDESC COLLISIONTYPE  \\\n",
       "0  Intersection               2                Injury Collision        Angles   \n",
       "1         Block               1  Property Damage Only Collision     Sideswipe   \n",
       "2         Block               1  Property Damage Only Collision    Parked Car   \n",
       "3         Block               1  Property Damage Only Collision         Other   \n",
       "4  Intersection               2                Injury Collision        Angles   \n",
       "\n",
       "   ...                                       SDOT_COLDESC  UNDERINFL  \\\n",
       "0  ...  MOTOR VEHICLE STRUCK MOTOR VEHICLE, FRONT END ...          N   \n",
       "1  ...  MOTOR VEHICLE STRUCK MOTOR VEHICLE, LEFT SIDE ...          0   \n",
       "2  ...       MOTOR VEHICLE STRUCK MOTOR VEHICLE, REAR END          0   \n",
       "3  ...  MOTOR VEHICLE STRUCK MOTOR VEHICLE, FRONT END ...          N   \n",
       "4  ...  MOTOR VEHICLE STRUCK MOTOR VEHICLE, FRONT END ...          0   \n",
       "\n",
       "    WEATHER  ROADCOND                LIGHTCOND  ST_COLCODE  \\\n",
       "0  Overcast       Wet                 Daylight          10   \n",
       "1   Raining       Wet  Dark - Street Lights On          11   \n",
       "2  Overcast       Dry                 Daylight          32   \n",
       "3     Clear       Dry                 Daylight          23   \n",
       "4   Raining       Wet                 Daylight          10   \n",
       "\n",
       "                                          ST_COLDESC SEGLANEKEY CROSSWALKKEY  \\\n",
       "0                                  Entering at angle          0            0   \n",
       "1  From same direction - both going straight - bo...          0            0   \n",
       "2                             One parked--one moving          0            0   \n",
       "3                   From same direction - all others          0            0   \n",
       "4                                  Entering at angle          0            0   \n",
       "\n",
       "  HITPARKEDCAR  \n",
       "0            N  \n",
       "1            N  \n",
       "2            N  \n",
       "3            N  \n",
       "4            N  \n",
       "\n",
       "[5 rows x 26 columns]"
      ]
     },
     "execution_count": 12,
     "metadata": {},
     "output_type": "execute_result"
    }
   ],
   "source": [
    "#Let's play with dates. We are interested in the time of the accidents only. \n",
    "#We will get it, put it in a new column and drop the \"INCDTTM\" column.\n",
    "dates_regex = [ ]\n",
    "\n",
    "import re\n",
    "prefixRegex = re.compile(r'(\\d{0,2}/\\d{0,2}/\\d{0,4})(\\s)(\\d{0,2}:\\d{0,2}:\\d{0,2}\\s[P|A]M)')\n",
    "for i in range(len(database)):\n",
    "    try:\n",
    "        pf = prefixRegex.search(database['INCDTTM'][i]).group(3)\n",
    "    except AttributeError:\n",
    "        pf1 = np.nan\n",
    "        dates_regex.append(pf1)\n",
    "    else:\n",
    "        dates_regex.append(pf)\n",
    "database.insert(1, 'Time', dates_regex, True)\n",
    "database.drop('INCDTTM', axis = 1, inplace = True)\n",
    "database.head(5)"
   ]
  },
  {
   "cell_type": "code",
   "execution_count": 13,
   "metadata": {},
   "outputs": [
    {
     "data": {
      "text/plain": [
       "30526"
      ]
     },
     "execution_count": 13,
     "metadata": {},
     "output_type": "execute_result"
    }
   ],
   "source": [
    "#Let's check if we had any null value.\n",
    "database['Time'].isnull().sum()"
   ]
  },
  {
   "cell_type": "code",
   "execution_count": 14,
   "metadata": {
    "scrolled": true
   },
   "outputs": [
    {
     "name": "stderr",
     "output_type": "stream",
     "text": [
      "<ipython-input-14-caf5a83040e3>:4: SettingWithCopyWarning: \n",
      "A value is trying to be set on a copy of a slice from a DataFrame\n",
      "\n",
      "See the caveats in the documentation: https://pandas.pydata.org/pandas-docs/stable/user_guide/indexing.html#returning-a-view-versus-a-copy\n",
      "  database['Time'][i] = pd.to_datetime(database['Time'][i], format=\"%I:%M:%S %p\")\n"
     ]
    },
    {
     "name": "stdout",
     "output_type": "stream",
     "text": [
      "Done!\n"
     ]
    }
   ],
   "source": [
    "#We have a lot of Null values but we will leave it at that for now. \n",
    "#We do some parsing to the dates.\n",
    "for i in range(len(database)):\n",
    "    database['Time'][i] = pd.to_datetime(database['Time'][i], format=\"%I:%M:%S %p\")\n",
    "print('Done!')\n",
    "day_parts = database['Time'].dt.hour\n",
    "database['Frame'] = day_parts"
   ]
  },
  {
   "cell_type": "code",
   "execution_count": 15,
   "metadata": {
    "scrolled": true
   },
   "outputs": [
    {
     "name": "stderr",
     "output_type": "stream",
     "text": [
      "<ipython-input-15-c691b127bb9c>:9: SettingWithCopyWarning: \n",
      "A value is trying to be set on a copy of a slice from a DataFrame\n",
      "\n",
      "See the caveats in the documentation: https://pandas.pydata.org/pandas-docs/stable/user_guide/indexing.html#returning-a-view-versus-a-copy\n",
      "  database['Frame'][i] = 'Afternoon'\n",
      "/Applications/anaconda3/lib/python3.8/site-packages/pandas/core/indexing.py:671: SettingWithCopyWarning: \n",
      "A value is trying to be set on a copy of a slice from a DataFrame\n",
      "\n",
      "See the caveats in the documentation: https://pandas.pydata.org/pandas-docs/stable/user_guide/indexing.html#returning-a-view-versus-a-copy\n",
      "  self._setitem_with_indexer(indexer, value)\n",
      "<ipython-input-15-c691b127bb9c>:11: SettingWithCopyWarning: \n",
      "A value is trying to be set on a copy of a slice from a DataFrame\n",
      "\n",
      "See the caveats in the documentation: https://pandas.pydata.org/pandas-docs/stable/user_guide/indexing.html#returning-a-view-versus-a-copy\n",
      "  database['Frame'][i] = 'Evening'\n",
      "<ipython-input-15-c691b127bb9c>:7: SettingWithCopyWarning: \n",
      "A value is trying to be set on a copy of a slice from a DataFrame\n",
      "\n",
      "See the caveats in the documentation: https://pandas.pydata.org/pandas-docs/stable/user_guide/indexing.html#returning-a-view-versus-a-copy\n",
      "  database['Frame'][i] = 'Late Morning'\n",
      "<ipython-input-15-c691b127bb9c>:5: SettingWithCopyWarning: \n",
      "A value is trying to be set on a copy of a slice from a DataFrame\n",
      "\n",
      "See the caveats in the documentation: https://pandas.pydata.org/pandas-docs/stable/user_guide/indexing.html#returning-a-view-versus-a-copy\n",
      "  database['Frame'][i] = 'Early Morning'\n",
      "<ipython-input-15-c691b127bb9c>:15: SettingWithCopyWarning: \n",
      "A value is trying to be set on a copy of a slice from a DataFrame\n",
      "\n",
      "See the caveats in the documentation: https://pandas.pydata.org/pandas-docs/stable/user_guide/indexing.html#returning-a-view-versus-a-copy\n",
      "  database['Frame'][i] = 'Night'\n",
      "<ipython-input-15-c691b127bb9c>:13: SettingWithCopyWarning: \n",
      "A value is trying to be set on a copy of a slice from a DataFrame\n",
      "\n",
      "See the caveats in the documentation: https://pandas.pydata.org/pandas-docs/stable/user_guide/indexing.html#returning-a-view-versus-a-copy\n",
      "  database['Frame'][i] = 'Night'\n"
     ]
    },
    {
     "data": {
      "text/html": [
       "<div>\n",
       "<style scoped>\n",
       "    .dataframe tbody tr th:only-of-type {\n",
       "        vertical-align: middle;\n",
       "    }\n",
       "\n",
       "    .dataframe tbody tr th {\n",
       "        vertical-align: top;\n",
       "    }\n",
       "\n",
       "    .dataframe thead th {\n",
       "        text-align: right;\n",
       "    }\n",
       "</style>\n",
       "<table border=\"1\" class=\"dataframe\">\n",
       "  <thead>\n",
       "    <tr style=\"text-align: right;\">\n",
       "      <th></th>\n",
       "      <th>SEVERITYCODE</th>\n",
       "      <th>X</th>\n",
       "      <th>Y</th>\n",
       "      <th>OBJECTID</th>\n",
       "      <th>STATUS</th>\n",
       "      <th>ADDRTYPE</th>\n",
       "      <th>SEVERITYCODE.1</th>\n",
       "      <th>SEVERITYDESC</th>\n",
       "      <th>COLLISIONTYPE</th>\n",
       "      <th>PERSONCOUNT</th>\n",
       "      <th>...</th>\n",
       "      <th>UNDERINFL</th>\n",
       "      <th>WEATHER</th>\n",
       "      <th>ROADCOND</th>\n",
       "      <th>LIGHTCOND</th>\n",
       "      <th>ST_COLCODE</th>\n",
       "      <th>ST_COLDESC</th>\n",
       "      <th>SEGLANEKEY</th>\n",
       "      <th>CROSSWALKKEY</th>\n",
       "      <th>HITPARKEDCAR</th>\n",
       "      <th>Frame</th>\n",
       "    </tr>\n",
       "  </thead>\n",
       "  <tbody>\n",
       "    <tr>\n",
       "      <th>0</th>\n",
       "      <td>2</td>\n",
       "      <td>-122.323148</td>\n",
       "      <td>47.703140</td>\n",
       "      <td>1</td>\n",
       "      <td>Matched</td>\n",
       "      <td>Intersection</td>\n",
       "      <td>2</td>\n",
       "      <td>Injury Collision</td>\n",
       "      <td>Angles</td>\n",
       "      <td>2</td>\n",
       "      <td>...</td>\n",
       "      <td>N</td>\n",
       "      <td>Overcast</td>\n",
       "      <td>Wet</td>\n",
       "      <td>Daylight</td>\n",
       "      <td>10</td>\n",
       "      <td>Entering at angle</td>\n",
       "      <td>0</td>\n",
       "      <td>0</td>\n",
       "      <td>N</td>\n",
       "      <td>Afternoon</td>\n",
       "    </tr>\n",
       "    <tr>\n",
       "      <th>1</th>\n",
       "      <td>1</td>\n",
       "      <td>-122.347294</td>\n",
       "      <td>47.647172</td>\n",
       "      <td>2</td>\n",
       "      <td>Matched</td>\n",
       "      <td>Block</td>\n",
       "      <td>1</td>\n",
       "      <td>Property Damage Only Collision</td>\n",
       "      <td>Sideswipe</td>\n",
       "      <td>2</td>\n",
       "      <td>...</td>\n",
       "      <td>0</td>\n",
       "      <td>Raining</td>\n",
       "      <td>Wet</td>\n",
       "      <td>Dark - Street Lights On</td>\n",
       "      <td>11</td>\n",
       "      <td>From same direction - both going straight - bo...</td>\n",
       "      <td>0</td>\n",
       "      <td>0</td>\n",
       "      <td>N</td>\n",
       "      <td>Evening</td>\n",
       "    </tr>\n",
       "    <tr>\n",
       "      <th>2</th>\n",
       "      <td>1</td>\n",
       "      <td>-122.334540</td>\n",
       "      <td>47.607871</td>\n",
       "      <td>3</td>\n",
       "      <td>Matched</td>\n",
       "      <td>Block</td>\n",
       "      <td>1</td>\n",
       "      <td>Property Damage Only Collision</td>\n",
       "      <td>Parked Car</td>\n",
       "      <td>4</td>\n",
       "      <td>...</td>\n",
       "      <td>0</td>\n",
       "      <td>Overcast</td>\n",
       "      <td>Dry</td>\n",
       "      <td>Daylight</td>\n",
       "      <td>32</td>\n",
       "      <td>One parked--one moving</td>\n",
       "      <td>0</td>\n",
       "      <td>0</td>\n",
       "      <td>N</td>\n",
       "      <td>Late Morning</td>\n",
       "    </tr>\n",
       "    <tr>\n",
       "      <th>3</th>\n",
       "      <td>1</td>\n",
       "      <td>-122.334803</td>\n",
       "      <td>47.604803</td>\n",
       "      <td>4</td>\n",
       "      <td>Matched</td>\n",
       "      <td>Block</td>\n",
       "      <td>1</td>\n",
       "      <td>Property Damage Only Collision</td>\n",
       "      <td>Other</td>\n",
       "      <td>3</td>\n",
       "      <td>...</td>\n",
       "      <td>N</td>\n",
       "      <td>Clear</td>\n",
       "      <td>Dry</td>\n",
       "      <td>Daylight</td>\n",
       "      <td>23</td>\n",
       "      <td>From same direction - all others</td>\n",
       "      <td>0</td>\n",
       "      <td>0</td>\n",
       "      <td>N</td>\n",
       "      <td>Late Morning</td>\n",
       "    </tr>\n",
       "    <tr>\n",
       "      <th>4</th>\n",
       "      <td>2</td>\n",
       "      <td>-122.306426</td>\n",
       "      <td>47.545739</td>\n",
       "      <td>5</td>\n",
       "      <td>Matched</td>\n",
       "      <td>Intersection</td>\n",
       "      <td>2</td>\n",
       "      <td>Injury Collision</td>\n",
       "      <td>Angles</td>\n",
       "      <td>2</td>\n",
       "      <td>...</td>\n",
       "      <td>0</td>\n",
       "      <td>Raining</td>\n",
       "      <td>Wet</td>\n",
       "      <td>Daylight</td>\n",
       "      <td>10</td>\n",
       "      <td>Entering at angle</td>\n",
       "      <td>0</td>\n",
       "      <td>0</td>\n",
       "      <td>N</td>\n",
       "      <td>Early Morning</td>\n",
       "    </tr>\n",
       "    <tr>\n",
       "      <th>...</th>\n",
       "      <td>...</td>\n",
       "      <td>...</td>\n",
       "      <td>...</td>\n",
       "      <td>...</td>\n",
       "      <td>...</td>\n",
       "      <td>...</td>\n",
       "      <td>...</td>\n",
       "      <td>...</td>\n",
       "      <td>...</td>\n",
       "      <td>...</td>\n",
       "      <td>...</td>\n",
       "      <td>...</td>\n",
       "      <td>...</td>\n",
       "      <td>...</td>\n",
       "      <td>...</td>\n",
       "      <td>...</td>\n",
       "      <td>...</td>\n",
       "      <td>...</td>\n",
       "      <td>...</td>\n",
       "      <td>...</td>\n",
       "      <td>...</td>\n",
       "    </tr>\n",
       "    <tr>\n",
       "      <th>194668</th>\n",
       "      <td>2</td>\n",
       "      <td>-122.290826</td>\n",
       "      <td>47.565408</td>\n",
       "      <td>219543</td>\n",
       "      <td>Matched</td>\n",
       "      <td>Block</td>\n",
       "      <td>2</td>\n",
       "      <td>Injury Collision</td>\n",
       "      <td>Head On</td>\n",
       "      <td>3</td>\n",
       "      <td>...</td>\n",
       "      <td>N</td>\n",
       "      <td>Clear</td>\n",
       "      <td>Dry</td>\n",
       "      <td>Daylight</td>\n",
       "      <td>24</td>\n",
       "      <td>From opposite direction - both moving - head-on</td>\n",
       "      <td>0</td>\n",
       "      <td>0</td>\n",
       "      <td>N</td>\n",
       "      <td>Early Morning</td>\n",
       "    </tr>\n",
       "    <tr>\n",
       "      <th>194669</th>\n",
       "      <td>1</td>\n",
       "      <td>-122.344526</td>\n",
       "      <td>47.690924</td>\n",
       "      <td>219544</td>\n",
       "      <td>Matched</td>\n",
       "      <td>Block</td>\n",
       "      <td>1</td>\n",
       "      <td>Property Damage Only Collision</td>\n",
       "      <td>Rear Ended</td>\n",
       "      <td>2</td>\n",
       "      <td>...</td>\n",
       "      <td>N</td>\n",
       "      <td>Raining</td>\n",
       "      <td>Wet</td>\n",
       "      <td>Daylight</td>\n",
       "      <td>13</td>\n",
       "      <td>From same direction - both going straight - bo...</td>\n",
       "      <td>0</td>\n",
       "      <td>0</td>\n",
       "      <td>N</td>\n",
       "      <td>Late Morning</td>\n",
       "    </tr>\n",
       "    <tr>\n",
       "      <th>194670</th>\n",
       "      <td>2</td>\n",
       "      <td>-122.306689</td>\n",
       "      <td>47.683047</td>\n",
       "      <td>219545</td>\n",
       "      <td>Matched</td>\n",
       "      <td>Intersection</td>\n",
       "      <td>2</td>\n",
       "      <td>Injury Collision</td>\n",
       "      <td>Left Turn</td>\n",
       "      <td>3</td>\n",
       "      <td>...</td>\n",
       "      <td>N</td>\n",
       "      <td>Clear</td>\n",
       "      <td>Dry</td>\n",
       "      <td>Daylight</td>\n",
       "      <td>28</td>\n",
       "      <td>From opposite direction - one left turn - one ...</td>\n",
       "      <td>0</td>\n",
       "      <td>0</td>\n",
       "      <td>N</td>\n",
       "      <td>Late Morning</td>\n",
       "    </tr>\n",
       "    <tr>\n",
       "      <th>194671</th>\n",
       "      <td>2</td>\n",
       "      <td>-122.355317</td>\n",
       "      <td>47.678734</td>\n",
       "      <td>219546</td>\n",
       "      <td>Matched</td>\n",
       "      <td>Intersection</td>\n",
       "      <td>2</td>\n",
       "      <td>Injury Collision</td>\n",
       "      <td>Cycles</td>\n",
       "      <td>2</td>\n",
       "      <td>...</td>\n",
       "      <td>N</td>\n",
       "      <td>Clear</td>\n",
       "      <td>Dry</td>\n",
       "      <td>Dusk</td>\n",
       "      <td>5</td>\n",
       "      <td>Vehicle Strikes Pedalcyclist</td>\n",
       "      <td>4308</td>\n",
       "      <td>0</td>\n",
       "      <td>N</td>\n",
       "      <td>Afternoon</td>\n",
       "    </tr>\n",
       "    <tr>\n",
       "      <th>194672</th>\n",
       "      <td>1</td>\n",
       "      <td>-122.289360</td>\n",
       "      <td>47.611017</td>\n",
       "      <td>219547</td>\n",
       "      <td>Matched</td>\n",
       "      <td>Block</td>\n",
       "      <td>1</td>\n",
       "      <td>Property Damage Only Collision</td>\n",
       "      <td>Rear Ended</td>\n",
       "      <td>2</td>\n",
       "      <td>...</td>\n",
       "      <td>N</td>\n",
       "      <td>Clear</td>\n",
       "      <td>Wet</td>\n",
       "      <td>Daylight</td>\n",
       "      <td>14</td>\n",
       "      <td>From same direction - both going straight - on...</td>\n",
       "      <td>0</td>\n",
       "      <td>0</td>\n",
       "      <td>N</td>\n",
       "      <td>Afternoon</td>\n",
       "    </tr>\n",
       "  </tbody>\n",
       "</table>\n",
       "<p>194673 rows × 26 columns</p>\n",
       "</div>"
      ],
      "text/plain": [
       "        SEVERITYCODE           X          Y  OBJECTID   STATUS      ADDRTYPE  \\\n",
       "0                  2 -122.323148  47.703140         1  Matched  Intersection   \n",
       "1                  1 -122.347294  47.647172         2  Matched         Block   \n",
       "2                  1 -122.334540  47.607871         3  Matched         Block   \n",
       "3                  1 -122.334803  47.604803         4  Matched         Block   \n",
       "4                  2 -122.306426  47.545739         5  Matched  Intersection   \n",
       "...              ...         ...        ...       ...      ...           ...   \n",
       "194668             2 -122.290826  47.565408    219543  Matched         Block   \n",
       "194669             1 -122.344526  47.690924    219544  Matched         Block   \n",
       "194670             2 -122.306689  47.683047    219545  Matched  Intersection   \n",
       "194671             2 -122.355317  47.678734    219546  Matched  Intersection   \n",
       "194672             1 -122.289360  47.611017    219547  Matched         Block   \n",
       "\n",
       "        SEVERITYCODE.1                    SEVERITYDESC COLLISIONTYPE  \\\n",
       "0                    2                Injury Collision        Angles   \n",
       "1                    1  Property Damage Only Collision     Sideswipe   \n",
       "2                    1  Property Damage Only Collision    Parked Car   \n",
       "3                    1  Property Damage Only Collision         Other   \n",
       "4                    2                Injury Collision        Angles   \n",
       "...                ...                             ...           ...   \n",
       "194668               2                Injury Collision       Head On   \n",
       "194669               1  Property Damage Only Collision    Rear Ended   \n",
       "194670               2                Injury Collision     Left Turn   \n",
       "194671               2                Injury Collision        Cycles   \n",
       "194672               1  Property Damage Only Collision    Rear Ended   \n",
       "\n",
       "        PERSONCOUNT  ...  UNDERINFL   WEATHER  ROADCOND  \\\n",
       "0                 2  ...          N  Overcast       Wet   \n",
       "1                 2  ...          0   Raining       Wet   \n",
       "2                 4  ...          0  Overcast       Dry   \n",
       "3                 3  ...          N     Clear       Dry   \n",
       "4                 2  ...          0   Raining       Wet   \n",
       "...             ...  ...        ...       ...       ...   \n",
       "194668            3  ...          N     Clear       Dry   \n",
       "194669            2  ...          N   Raining       Wet   \n",
       "194670            3  ...          N     Clear       Dry   \n",
       "194671            2  ...          N     Clear       Dry   \n",
       "194672            2  ...          N     Clear       Wet   \n",
       "\n",
       "                      LIGHTCOND  ST_COLCODE  \\\n",
       "0                      Daylight          10   \n",
       "1       Dark - Street Lights On          11   \n",
       "2                      Daylight          32   \n",
       "3                      Daylight          23   \n",
       "4                      Daylight          10   \n",
       "...                         ...         ...   \n",
       "194668                 Daylight          24   \n",
       "194669                 Daylight          13   \n",
       "194670                 Daylight          28   \n",
       "194671                     Dusk           5   \n",
       "194672                 Daylight          14   \n",
       "\n",
       "                                               ST_COLDESC SEGLANEKEY  \\\n",
       "0                                       Entering at angle          0   \n",
       "1       From same direction - both going straight - bo...          0   \n",
       "2                                  One parked--one moving          0   \n",
       "3                        From same direction - all others          0   \n",
       "4                                       Entering at angle          0   \n",
       "...                                                   ...        ...   \n",
       "194668    From opposite direction - both moving - head-on          0   \n",
       "194669  From same direction - both going straight - bo...          0   \n",
       "194670  From opposite direction - one left turn - one ...          0   \n",
       "194671                       Vehicle Strikes Pedalcyclist       4308   \n",
       "194672  From same direction - both going straight - on...          0   \n",
       "\n",
       "       CROSSWALKKEY HITPARKEDCAR          Frame  \n",
       "0                 0            N      Afternoon  \n",
       "1                 0            N        Evening  \n",
       "2                 0            N   Late Morning  \n",
       "3                 0            N   Late Morning  \n",
       "4                 0            N  Early Morning  \n",
       "...             ...          ...            ...  \n",
       "194668            0            N  Early Morning  \n",
       "194669            0            N   Late Morning  \n",
       "194670            0            N   Late Morning  \n",
       "194671            0            N      Afternoon  \n",
       "194672            0            N      Afternoon  \n",
       "\n",
       "[194673 rows x 26 columns]"
      ]
     },
     "execution_count": 15,
     "metadata": {},
     "output_type": "execute_result"
    }
   ],
   "source": [
    "#Now that we have it in date format, we can work with it. \n",
    "#We will divide our \"Time\" in 5 categorical variables according to different parts of the day.\n",
    "for i in range(len(database)):\n",
    "    if database['Frame'][i] >= 5 and database['Frame'][i] <=8:\n",
    "        database['Frame'][i] = 'Early Morning'\n",
    "    elif database['Frame'][i] >=9 and database['Frame'][i] <=12:\n",
    "        database['Frame'][i] = 'Late Morning'\n",
    "    elif database['Frame'][i] >= 13 and database['Frame'][i] <=16:\n",
    "        database['Frame'][i] = 'Afternoon'\n",
    "    elif database['Frame'][i] >= 17 and database['Frame'][i] <=20:\n",
    "        database['Frame'][i] = 'Evening'\n",
    "    elif database['Frame'][i] >= 21 and database['Frame'][i] <=23:\n",
    "        database['Frame'][i] = 'Night'\n",
    "    elif database['Frame'][i] >= 0 and database['Frame'][i] <=4:\n",
    "        database['Frame'][i] = 'Night'\n",
    "database.drop('Time', axis=1, inplace= True)\n",
    "database"
   ]
  },
  {
   "cell_type": "code",
   "execution_count": 16,
   "metadata": {},
   "outputs": [
    {
     "name": "stderr",
     "output_type": "stream",
     "text": [
      "<ipython-input-16-d9b238f18f1d>:5: SettingWithCopyWarning: \n",
      "A value is trying to be set on a copy of a slice from a DataFrame\n",
      "\n",
      "See the caveats in the documentation: https://pandas.pydata.org/pandas-docs/stable/user_guide/indexing.html#returning-a-view-versus-a-copy\n",
      "  database['LIGHTCOND'][i] = np.nan\n"
     ]
    }
   ],
   "source": [
    "#Finally, we have to go for the dates with NaN. We will use 'LIGHTCOND' column to get a grasp on what time of day it happened.\n",
    "#LIGHTCOND has some values (\"Other\" & \"Unknown\") that don't bring any data so we will transform them to NaN\n",
    "for i in range(len(database)):\n",
    "    if database['LIGHTCOND'][i] == \"Unknown\":\n",
    "        database['LIGHTCOND'][i] = np.nan"
   ]
  },
  {
   "cell_type": "code",
   "execution_count": 17,
   "metadata": {},
   "outputs": [
    {
     "data": {
      "text/plain": [
       "(187781, 26)"
      ]
     },
     "execution_count": 17,
     "metadata": {},
     "output_type": "execute_result"
    }
   ],
   "source": [
    "#Since LIGHTCOND  also had NaN values, we will delete the rows that are null both in LIGHTCOND and FRAME.\n",
    "#I am deleting rows instead of whole columns because we have a lot of rows so I  think we will lose less information this way.\n",
    "drop = database.loc[database.LIGHTCOND.isnull() & database.Frame.isnull()] #unusable rows\n",
    "database = database.loc[database.LIGHTCOND.isnull() & database.Frame.notnull() | database.LIGHTCOND.notnull() & database.Frame.isnull() \n",
    "                         | database.LIGHTCOND.notnull() & database.Frame.notnull()] #the dataframe with the usable rows\n",
    "database.shape"
   ]
  },
  {
   "cell_type": "code",
   "execution_count": 18,
   "metadata": {},
   "outputs": [
    {
     "data": {
      "text/plain": [
       "LIGHTCOND                 Frame        \n",
       "Dark - No Street Lights   Afternoon           50\n",
       "                          Early Morning      118\n",
       "                          Evening            348\n",
       "                          Late Morning        21\n",
       "                          Night              800\n",
       "Dark - Street Lights Off  Afternoon           41\n",
       "                          Early Morning      108\n",
       "                          Evening            323\n",
       "                          Late Morning        17\n",
       "                          Night              535\n",
       "Dark - Street Lights On   Afternoon         1272\n",
       "                          Early Morning     2282\n",
       "                          Evening          13473\n",
       "                          Late Morning       222\n",
       "                          Night            24705\n",
       "Dark - Unknown Lighting   Early Morning        3\n",
       "                          Evening              5\n",
       "                          Night                2\n",
       "Dawn                      Afternoon           59\n",
       "                          Early Morning     1869\n",
       "                          Evening             84\n",
       "                          Late Morning        40\n",
       "                          Night              100\n",
       "Daylight                  Afternoon        39492\n",
       "                          Early Morning    14089\n",
       "                          Evening          15703\n",
       "                          Late Morning     31143\n",
       "                          Night              301\n",
       "Dusk                      Afternoon         1154\n",
       "                          Early Morning       23\n",
       "                          Evening           3412\n",
       "                          Late Morning        20\n",
       "                          Night              384\n",
       "Other                     Afternoon           53\n",
       "                          Early Morning       23\n",
       "                          Evening             32\n",
       "                          Late Morning        54\n",
       "                          Night               36\n",
       "Name: Frame, dtype: int64"
      ]
     },
     "execution_count": 18,
     "metadata": {},
     "output_type": "execute_result"
    }
   ],
   "source": [
    "#Now let's infer the null values of FRAME from LIGHTCOND. To that end we use Group By:\n",
    "test= database[['LIGHTCOND', 'Frame']]\n",
    "test.groupby(['LIGHTCOND','Frame']).Frame.count()"
   ]
  },
  {
   "cell_type": "code",
   "execution_count": 19,
   "metadata": {},
   "outputs": [
    {
     "name": "stderr",
     "output_type": "stream",
     "text": [
      "/Applications/anaconda3/lib/python3.8/site-packages/pandas/core/indexing.py:966: SettingWithCopyWarning: \n",
      "A value is trying to be set on a copy of a slice from a DataFrame.\n",
      "Try using .loc[row_indexer,col_indexer] = value instead\n",
      "\n",
      "See the caveats in the documentation: https://pandas.pydata.org/pandas-docs/stable/user_guide/indexing.html#returning-a-view-versus-a-copy\n",
      "  self.obj[item] = s\n"
     ]
    }
   ],
   "source": [
    "#We add a value to the Nan values of Frame using LIGHTCOND .\n",
    "\n",
    "import math\n",
    "\n",
    "values = {\"Dark - No Street Lights\" : \"Night\",\n",
    "         \"Dark - Street Lights Off\" : \"Night\",\n",
    "         \"Dark - Street Lights On\" : \"Night\",\n",
    "         \"Dark - Unknown Lighting\" : \"Evening\",\n",
    "         \"Dawn\" : \"Early Morning\",\n",
    "         \"Daylight\": \"Afternoon\",\n",
    "         \"Dusk\" : \"Evening\",\n",
    "         \"Other\": 'Late Morning'}\n",
    "\n",
    "database.loc[database[\"Frame\"].isna(), 'Frame'] = database.loc[database[\"Frame\"].isna(), 'LIGHTCOND'].map(lambda x: values[x])"
   ]
  },
  {
   "cell_type": "code",
   "execution_count": 20,
   "metadata": {},
   "outputs": [],
   "source": [
    "#Finally, we do the same for  LIGHTCOND \n",
    "values = {\"Afternoon\" : \"Daylight\",\n",
    "         \"Early Morning\" : \"Daylight\",\n",
    "         \"Evening\" : \"Dark - Street Lights On\",\n",
    "         \"Late Morning\" : \"Daylight\",\n",
    "         \"Night\" : \"Dark - Street Lights On\"\n",
    "         }\n",
    "\n",
    "database.loc[database[\"LIGHTCOND\"].isna(), 'LIGHTCOND'] = database.loc[database[\"LIGHTCOND\"].isna(), 'Frame'].map(lambda x: values[x])"
   ]
  },
  {
   "cell_type": "code",
   "execution_count": 21,
   "metadata": {},
   "outputs": [
    {
     "data": {
      "text/html": [
       "<div>\n",
       "<style scoped>\n",
       "    .dataframe tbody tr th:only-of-type {\n",
       "        vertical-align: middle;\n",
       "    }\n",
       "\n",
       "    .dataframe tbody tr th {\n",
       "        vertical-align: top;\n",
       "    }\n",
       "\n",
       "    .dataframe thead th {\n",
       "        text-align: right;\n",
       "    }\n",
       "</style>\n",
       "<table border=\"1\" class=\"dataframe\">\n",
       "  <thead>\n",
       "    <tr style=\"text-align: right;\">\n",
       "      <th></th>\n",
       "      <th>Null</th>\n",
       "    </tr>\n",
       "  </thead>\n",
       "  <tbody>\n",
       "    <tr>\n",
       "      <th>JUNCTIONTYPE</th>\n",
       "      <td>5948</td>\n",
       "    </tr>\n",
       "    <tr>\n",
       "      <th>Y</th>\n",
       "      <td>5057</td>\n",
       "    </tr>\n",
       "    <tr>\n",
       "      <th>X</th>\n",
       "      <td>5057</td>\n",
       "    </tr>\n",
       "    <tr>\n",
       "      <th>ADDRTYPE</th>\n",
       "      <td>1731</td>\n",
       "    </tr>\n",
       "    <tr>\n",
       "      <th>WEATHER</th>\n",
       "      <td>193</td>\n",
       "    </tr>\n",
       "    <tr>\n",
       "      <th>ROADCOND</th>\n",
       "      <td>122</td>\n",
       "    </tr>\n",
       "    <tr>\n",
       "      <th>ST_COLDESC</th>\n",
       "      <td>21</td>\n",
       "    </tr>\n",
       "    <tr>\n",
       "      <th>COLLISIONTYPE</th>\n",
       "      <td>21</td>\n",
       "    </tr>\n",
       "    <tr>\n",
       "      <th>ST_COLCODE</th>\n",
       "      <td>18</td>\n",
       "    </tr>\n",
       "    <tr>\n",
       "      <th>SDOT_COLDESC</th>\n",
       "      <td>0</td>\n",
       "    </tr>\n",
       "    <tr>\n",
       "      <th>HITPARKEDCAR</th>\n",
       "      <td>0</td>\n",
       "    </tr>\n",
       "    <tr>\n",
       "      <th>CROSSWALKKEY</th>\n",
       "      <td>0</td>\n",
       "    </tr>\n",
       "    <tr>\n",
       "      <th>SEGLANEKEY</th>\n",
       "      <td>0</td>\n",
       "    </tr>\n",
       "    <tr>\n",
       "      <th>LIGHTCOND</th>\n",
       "      <td>0</td>\n",
       "    </tr>\n",
       "    <tr>\n",
       "      <th>UNDERINFL</th>\n",
       "      <td>0</td>\n",
       "    </tr>\n",
       "    <tr>\n",
       "      <th>SEVERITYCODE</th>\n",
       "      <td>0</td>\n",
       "    </tr>\n",
       "    <tr>\n",
       "      <th>SDOT_COLCODE</th>\n",
       "      <td>0</td>\n",
       "    </tr>\n",
       "    <tr>\n",
       "      <th>VEHCOUNT</th>\n",
       "      <td>0</td>\n",
       "    </tr>\n",
       "    <tr>\n",
       "      <th>PEDCYLCOUNT</th>\n",
       "      <td>0</td>\n",
       "    </tr>\n",
       "    <tr>\n",
       "      <th>PEDCOUNT</th>\n",
       "      <td>0</td>\n",
       "    </tr>\n",
       "    <tr>\n",
       "      <th>PERSONCOUNT</th>\n",
       "      <td>0</td>\n",
       "    </tr>\n",
       "    <tr>\n",
       "      <th>SEVERITYDESC</th>\n",
       "      <td>0</td>\n",
       "    </tr>\n",
       "    <tr>\n",
       "      <th>SEVERITYCODE.1</th>\n",
       "      <td>0</td>\n",
       "    </tr>\n",
       "    <tr>\n",
       "      <th>STATUS</th>\n",
       "      <td>0</td>\n",
       "    </tr>\n",
       "    <tr>\n",
       "      <th>OBJECTID</th>\n",
       "      <td>0</td>\n",
       "    </tr>\n",
       "    <tr>\n",
       "      <th>Frame</th>\n",
       "      <td>0</td>\n",
       "    </tr>\n",
       "  </tbody>\n",
       "</table>\n",
       "</div>"
      ],
      "text/plain": [
       "                Null\n",
       "JUNCTIONTYPE    5948\n",
       "Y               5057\n",
       "X               5057\n",
       "ADDRTYPE        1731\n",
       "WEATHER          193\n",
       "ROADCOND         122\n",
       "ST_COLDESC        21\n",
       "COLLISIONTYPE     21\n",
       "ST_COLCODE        18\n",
       "SDOT_COLDESC       0\n",
       "HITPARKEDCAR       0\n",
       "CROSSWALKKEY       0\n",
       "SEGLANEKEY         0\n",
       "LIGHTCOND          0\n",
       "UNDERINFL          0\n",
       "SEVERITYCODE       0\n",
       "SDOT_COLCODE       0\n",
       "VEHCOUNT           0\n",
       "PEDCYLCOUNT        0\n",
       "PEDCOUNT           0\n",
       "PERSONCOUNT        0\n",
       "SEVERITYDESC       0\n",
       "SEVERITYCODE.1     0\n",
       "STATUS             0\n",
       "OBJECTID           0\n",
       "Frame              0"
      ]
     },
     "execution_count": 21,
     "metadata": {},
     "output_type": "execute_result"
    }
   ],
   "source": [
    "#After what we have been doing let's check what columns still have Null values\n",
    "missing_values_count = pd.DataFrame({'Null': database.isnull().sum()})\n",
    "missing_values_count.sort_values(by= 'Null' , ascending = False)"
   ]
  },
  {
   "cell_type": "markdown",
   "metadata": {},
   "source": [
    "### Collisions"
   ]
  },
  {
   "cell_type": "code",
   "execution_count": 22,
   "metadata": {},
   "outputs": [
    {
     "data": {
      "text/html": [
       "<div>\n",
       "<style scoped>\n",
       "    .dataframe tbody tr th:only-of-type {\n",
       "        vertical-align: middle;\n",
       "    }\n",
       "\n",
       "    .dataframe tbody tr th {\n",
       "        vertical-align: top;\n",
       "    }\n",
       "\n",
       "    .dataframe thead th {\n",
       "        text-align: right;\n",
       "    }\n",
       "</style>\n",
       "<table border=\"1\" class=\"dataframe\">\n",
       "  <thead>\n",
       "    <tr style=\"text-align: right;\">\n",
       "      <th></th>\n",
       "      <th>ST_COLCODE</th>\n",
       "      <th>ST_COLDESC</th>\n",
       "    </tr>\n",
       "  </thead>\n",
       "  <tbody>\n",
       "    <tr>\n",
       "      <th>176476</th>\n",
       "      <td></td>\n",
       "      <td>NaN</td>\n",
       "    </tr>\n",
       "    <tr>\n",
       "      <th>177334</th>\n",
       "      <td></td>\n",
       "      <td>NaN</td>\n",
       "    </tr>\n",
       "    <tr>\n",
       "      <th>177451</th>\n",
       "      <td></td>\n",
       "      <td>NaN</td>\n",
       "    </tr>\n",
       "  </tbody>\n",
       "</table>\n",
       "</div>"
      ],
      "text/plain": [
       "       ST_COLCODE ST_COLDESC\n",
       "176476                   NaN\n",
       "177334                   NaN\n",
       "177451                   NaN"
      ]
     },
     "execution_count": 22,
     "metadata": {},
     "output_type": "execute_result"
    }
   ],
   "source": [
    "#Instead of just dropping the columns or the rows with Nan values, let's try to infer those Nan Values using other similar columns.\n",
    "#Thanks to SDOT Traffic Management Division of Seattle, we know that they are some pair-columns in the dataset so we will work with that.\n",
    "#We start with a pair of columns: ST_COLDESC and ST_COLCODE\n",
    "test = database[['ST_COLCODE', 'ST_COLDESC']]\n",
    "test.loc[test.ST_COLCODE.isnull() & test.ST_COLDESC.notnull() | test.ST_COLCODE.notnull() & test.ST_COLDESC.isnull()]"
   ]
  },
  {
   "cell_type": "code",
   "execution_count": 23,
   "metadata": {},
   "outputs": [
    {
     "data": {
      "text/html": [
       "<div>\n",
       "<style scoped>\n",
       "    .dataframe tbody tr th:only-of-type {\n",
       "        vertical-align: middle;\n",
       "    }\n",
       "\n",
       "    .dataframe tbody tr th {\n",
       "        vertical-align: top;\n",
       "    }\n",
       "\n",
       "    .dataframe thead th {\n",
       "        text-align: right;\n",
       "    }\n",
       "</style>\n",
       "<table border=\"1\" class=\"dataframe\">\n",
       "  <thead>\n",
       "    <tr style=\"text-align: right;\">\n",
       "      <th></th>\n",
       "      <th>SEVERITYCODE</th>\n",
       "      <th>X</th>\n",
       "      <th>Y</th>\n",
       "      <th>OBJECTID</th>\n",
       "      <th>STATUS</th>\n",
       "      <th>ADDRTYPE</th>\n",
       "      <th>SEVERITYCODE.1</th>\n",
       "      <th>SEVERITYDESC</th>\n",
       "      <th>COLLISIONTYPE</th>\n",
       "      <th>PERSONCOUNT</th>\n",
       "      <th>...</th>\n",
       "      <th>UNDERINFL</th>\n",
       "      <th>WEATHER</th>\n",
       "      <th>ROADCOND</th>\n",
       "      <th>LIGHTCOND</th>\n",
       "      <th>ST_COLCODE</th>\n",
       "      <th>ST_COLDESC</th>\n",
       "      <th>SEGLANEKEY</th>\n",
       "      <th>CROSSWALKKEY</th>\n",
       "      <th>HITPARKEDCAR</th>\n",
       "      <th>Frame</th>\n",
       "    </tr>\n",
       "  </thead>\n",
       "  <tbody>\n",
       "    <tr>\n",
       "      <th>176476</th>\n",
       "      <td>1</td>\n",
       "      <td>-122.388981</td>\n",
       "      <td>47.640587</td>\n",
       "      <td>198040</td>\n",
       "      <td>Matched</td>\n",
       "      <td>Block</td>\n",
       "      <td>1</td>\n",
       "      <td>Property Damage Only Collision</td>\n",
       "      <td>NaN</td>\n",
       "      <td>2</td>\n",
       "      <td>...</td>\n",
       "      <td>N</td>\n",
       "      <td>Unknown</td>\n",
       "      <td>Unknown</td>\n",
       "      <td>Daylight</td>\n",
       "      <td></td>\n",
       "      <td>NaN</td>\n",
       "      <td>0</td>\n",
       "      <td>0</td>\n",
       "      <td>Y</td>\n",
       "      <td>Late Morning</td>\n",
       "    </tr>\n",
       "    <tr>\n",
       "      <th>177334</th>\n",
       "      <td>1</td>\n",
       "      <td>-122.293649</td>\n",
       "      <td>47.607079</td>\n",
       "      <td>199024</td>\n",
       "      <td>Matched</td>\n",
       "      <td>Block</td>\n",
       "      <td>1</td>\n",
       "      <td>Property Damage Only Collision</td>\n",
       "      <td>NaN</td>\n",
       "      <td>2</td>\n",
       "      <td>...</td>\n",
       "      <td>N</td>\n",
       "      <td>Unknown</td>\n",
       "      <td>Unknown</td>\n",
       "      <td>Daylight</td>\n",
       "      <td></td>\n",
       "      <td>NaN</td>\n",
       "      <td>0</td>\n",
       "      <td>0</td>\n",
       "      <td>Y</td>\n",
       "      <td>Late Morning</td>\n",
       "    </tr>\n",
       "    <tr>\n",
       "      <th>177451</th>\n",
       "      <td>1</td>\n",
       "      <td>-122.378157</td>\n",
       "      <td>47.519284</td>\n",
       "      <td>199154</td>\n",
       "      <td>Matched</td>\n",
       "      <td>Intersection</td>\n",
       "      <td>1</td>\n",
       "      <td>Property Damage Only Collision</td>\n",
       "      <td>NaN</td>\n",
       "      <td>2</td>\n",
       "      <td>...</td>\n",
       "      <td>N</td>\n",
       "      <td>Clear</td>\n",
       "      <td>Dry</td>\n",
       "      <td>Daylight</td>\n",
       "      <td></td>\n",
       "      <td>NaN</td>\n",
       "      <td>0</td>\n",
       "      <td>0</td>\n",
       "      <td>N</td>\n",
       "      <td>Afternoon</td>\n",
       "    </tr>\n",
       "  </tbody>\n",
       "</table>\n",
       "<p>3 rows × 26 columns</p>\n",
       "</div>"
      ],
      "text/plain": [
       "        SEVERITYCODE           X          Y  OBJECTID   STATUS      ADDRTYPE  \\\n",
       "176476             1 -122.388981  47.640587    198040  Matched         Block   \n",
       "177334             1 -122.293649  47.607079    199024  Matched         Block   \n",
       "177451             1 -122.378157  47.519284    199154  Matched  Intersection   \n",
       "\n",
       "        SEVERITYCODE.1                    SEVERITYDESC COLLISIONTYPE  \\\n",
       "176476               1  Property Damage Only Collision           NaN   \n",
       "177334               1  Property Damage Only Collision           NaN   \n",
       "177451               1  Property Damage Only Collision           NaN   \n",
       "\n",
       "        PERSONCOUNT  ...  UNDERINFL  WEATHER  ROADCOND LIGHTCOND  ST_COLCODE  \\\n",
       "176476            2  ...          N  Unknown   Unknown  Daylight               \n",
       "177334            2  ...          N  Unknown   Unknown  Daylight               \n",
       "177451            2  ...          N    Clear       Dry  Daylight               \n",
       "\n",
       "       ST_COLDESC SEGLANEKEY CROSSWALKKEY HITPARKEDCAR         Frame  \n",
       "176476        NaN          0            0            Y  Late Morning  \n",
       "177334        NaN          0            0            Y  Late Morning  \n",
       "177451        NaN          0            0            N     Afternoon  \n",
       "\n",
       "[3 rows x 26 columns]"
      ]
     },
     "execution_count": 23,
     "metadata": {},
     "output_type": "execute_result"
    }
   ],
   "source": [
    "#As we can see, in every situation both of them have no values. \n",
    "#What is a problem is that there are cases in which ST_COLCODE has no value whatsoever. We will check if it happens in more instances\n",
    "database[database['ST_COLCODE'] == ' ']"
   ]
  },
  {
   "cell_type": "code",
   "execution_count": 24,
   "metadata": {},
   "outputs": [
    {
     "data": {
      "text/plain": [
       "(187781, 26)"
      ]
     },
     "execution_count": 24,
     "metadata": {},
     "output_type": "execute_result"
    }
   ],
   "source": [
    "database.shape"
   ]
  },
  {
   "cell_type": "code",
   "execution_count": 25,
   "metadata": {
    "scrolled": true
   },
   "outputs": [
    {
     "data": {
      "text/plain": [
       "(187760, 26)"
      ]
     },
     "execution_count": 25,
     "metadata": {},
     "output_type": "execute_result"
    }
   ],
   "source": [
    "#Since it is only in those 3 we can delete all the NaN rows of both columns.\n",
    "drop = database.loc[database.ST_COLCODE.isnull() | database.ST_COLDESC.isnull()] #unusable rows\n",
    "database = database.loc[database.ST_COLCODE.notnull() & database.ST_COLDESC.notnull()] #the dataframe with the usable rows\n",
    "database.shape"
   ]
  },
  {
   "cell_type": "code",
   "execution_count": 26,
   "metadata": {
    "scrolled": true
   },
   "outputs": [],
   "source": [
    "#Finally, we change the data type of ST_COLCODE. It was taken as \"object\" datatype but we want it to be \"int\"\n",
    "database[['ST_COLCODE']] = database[['ST_COLCODE']].astype(int)"
   ]
  },
  {
   "cell_type": "markdown",
   "metadata": {},
   "source": [
    "### Road Conditions"
   ]
  },
  {
   "cell_type": "code",
   "execution_count": 27,
   "metadata": {
    "scrolled": false
   },
   "outputs": [
    {
     "data": {
      "text/html": [
       "<div>\n",
       "<style scoped>\n",
       "    .dataframe tbody tr th:only-of-type {\n",
       "        vertical-align: middle;\n",
       "    }\n",
       "\n",
       "    .dataframe tbody tr th {\n",
       "        vertical-align: top;\n",
       "    }\n",
       "\n",
       "    .dataframe thead th {\n",
       "        text-align: right;\n",
       "    }\n",
       "</style>\n",
       "<table border=\"1\" class=\"dataframe\">\n",
       "  <thead>\n",
       "    <tr style=\"text-align: right;\">\n",
       "      <th></th>\n",
       "      <th>WEATHER</th>\n",
       "      <th>ROADCOND</th>\n",
       "    </tr>\n",
       "  </thead>\n",
       "  <tbody>\n",
       "    <tr>\n",
       "      <th>486</th>\n",
       "      <td>NaN</td>\n",
       "      <td>Unknown</td>\n",
       "    </tr>\n",
       "    <tr>\n",
       "      <th>1319</th>\n",
       "      <td>Raining</td>\n",
       "      <td>NaN</td>\n",
       "    </tr>\n",
       "    <tr>\n",
       "      <th>1922</th>\n",
       "      <td>NaN</td>\n",
       "      <td>Dry</td>\n",
       "    </tr>\n",
       "    <tr>\n",
       "      <th>29619</th>\n",
       "      <td>Overcast</td>\n",
       "      <td>NaN</td>\n",
       "    </tr>\n",
       "    <tr>\n",
       "      <th>32158</th>\n",
       "      <td>Clear</td>\n",
       "      <td>NaN</td>\n",
       "    </tr>\n",
       "    <tr>\n",
       "      <th>...</th>\n",
       "      <td>...</td>\n",
       "      <td>...</td>\n",
       "    </tr>\n",
       "    <tr>\n",
       "      <th>193251</th>\n",
       "      <td>NaN</td>\n",
       "      <td>Wet</td>\n",
       "    </tr>\n",
       "    <tr>\n",
       "      <th>193424</th>\n",
       "      <td>Unknown</td>\n",
       "      <td>NaN</td>\n",
       "    </tr>\n",
       "    <tr>\n",
       "      <th>193514</th>\n",
       "      <td>NaN</td>\n",
       "      <td>Wet</td>\n",
       "    </tr>\n",
       "    <tr>\n",
       "      <th>193823</th>\n",
       "      <td>Raining</td>\n",
       "      <td>NaN</td>\n",
       "    </tr>\n",
       "    <tr>\n",
       "      <th>193955</th>\n",
       "      <td>NaN</td>\n",
       "      <td>Dry</td>\n",
       "    </tr>\n",
       "  </tbody>\n",
       "</table>\n",
       "<p>165 rows × 2 columns</p>\n",
       "</div>"
      ],
      "text/plain": [
       "         WEATHER ROADCOND\n",
       "486          NaN  Unknown\n",
       "1319     Raining      NaN\n",
       "1922         NaN      Dry\n",
       "29619   Overcast      NaN\n",
       "32158      Clear      NaN\n",
       "...          ...      ...\n",
       "193251       NaN      Wet\n",
       "193424   Unknown      NaN\n",
       "193514       NaN      Wet\n",
       "193823   Raining      NaN\n",
       "193955       NaN      Dry\n",
       "\n",
       "[165 rows x 2 columns]"
      ]
     },
     "execution_count": 27,
     "metadata": {},
     "output_type": "execute_result"
    }
   ],
   "source": [
    "#For the second pair of columns, we go with WEATHER and ROADCOND. (I am using \"Test\" as a new variable just to show these 2 columns clearer)\n",
    "#We can infer the type of weather by the condition of the road so we will try to make some sense out of the NaN values. \n",
    "test = database[['WEATHER', 'ROADCOND']]\n",
    "test.loc[test.WEATHER.isnull() & test.ROADCOND.notnull() | test.WEATHER.notnull() & test.ROADCOND.isnull()]"
   ]
  },
  {
   "cell_type": "code",
   "execution_count": 28,
   "metadata": {
    "scrolled": false
   },
   "outputs": [],
   "source": [
    "#First, it seems there is \"Unknown\" and \"Other\" as values in both columns. Since it is meaninful we will change it as NaN\n",
    "database.WEATHER.mask(database.WEATHER.str.lower().isin(['unknown']), np.nan, inplace=True)\n",
    "database.ROADCOND.mask(database.ROADCOND.str.lower().isin(['unknown']), np.nan, inplace=True)"
   ]
  },
  {
   "cell_type": "code",
   "execution_count": 29,
   "metadata": {
    "scrolled": true
   },
   "outputs": [
    {
     "data": {
      "text/plain": [
       "(187760, 26)"
      ]
     },
     "execution_count": 29,
     "metadata": {},
     "output_type": "execute_result"
    }
   ],
   "source": [
    "database.shape"
   ]
  },
  {
   "cell_type": "code",
   "execution_count": 30,
   "metadata": {},
   "outputs": [
    {
     "data": {
      "text/plain": [
       "(175487, 26)"
      ]
     },
     "execution_count": 30,
     "metadata": {},
     "output_type": "execute_result"
    }
   ],
   "source": [
    "#And now we will delete those rows in which both values are NaN since we cannot do any inference out of them.\n",
    "drop = database.loc[database.WEATHER.isnull() & database.ROADCOND.isnull()] #unusable rows\n",
    "database = database.loc[database.WEATHER.isnull() & database.ROADCOND.notnull() | database.WEATHER.notnull() & database.ROADCOND.isnull() \n",
    "                         | database.WEATHER.notnull() & database.ROADCOND.notnull()] #the dataframe with the usable rows\n",
    "database.shape"
   ]
  },
  {
   "cell_type": "code",
   "execution_count": 31,
   "metadata": {},
   "outputs": [
    {
     "data": {
      "text/plain": [
       "WEATHER                   ROADCOND      \n",
       "Blowing Sand/Dirt         Dry                   32\n",
       "                          Ice                    7\n",
       "                          Other                  1\n",
       "                          Snow/Slush             5\n",
       "                          Wet                    8\n",
       "Clear                     Dry               105860\n",
       "                          Ice                  641\n",
       "                          Oil                   19\n",
       "                          Other                 65\n",
       "                          Sand/Mud/Dirt         33\n",
       "                          Snow/Slush            94\n",
       "                          Standing Water         7\n",
       "                          Wet                 3593\n",
       "Fog/Smog/Smoke            Dry                  358\n",
       "                          Ice                   35\n",
       "                          Other                  2\n",
       "                          Sand/Mud/Dirt          2\n",
       "                          Snow/Slush             2\n",
       "                          Wet                  163\n",
       "Other                     Dry                  186\n",
       "                          Ice                   18\n",
       "                          Oil                    1\n",
       "                          Other                 10\n",
       "                          Sand/Mud/Dirt          1\n",
       "                          Snow/Slush             8\n",
       "                          Wet                   65\n",
       "Overcast                  Dry                16137\n",
       "                          Ice                  225\n",
       "                          Oil                    8\n",
       "                          Other                 26\n",
       "                          Sand/Mud/Dirt         17\n",
       "                          Snow/Slush           131\n",
       "                          Standing Water         7\n",
       "                          Wet                10734\n",
       "Partly Cloudy             Dry                    4\n",
       "                          Wet                    1\n",
       "Raining                   Dry                  640\n",
       "                          Ice                   14\n",
       "                          Oil                   33\n",
       "                          Other                  9\n",
       "                          Sand/Mud/Dirt         11\n",
       "                          Snow/Slush            92\n",
       "                          Standing Water        91\n",
       "                          Wet                32165\n",
       "Severe Crosswind          Dry                   10\n",
       "                          Ice                    3\n",
       "                          Wet                   12\n",
       "Sleet/Hail/Freezing Rain  Dry                    6\n",
       "                          Ice                   18\n",
       "                          Other                  3\n",
       "                          Snow/Slush            27\n",
       "                          Standing Water         3\n",
       "                          Wet                   56\n",
       "Snowing                   Dry                   24\n",
       "                          Ice                  168\n",
       "                          Other                  1\n",
       "                          Sand/Mud/Dirt          2\n",
       "                          Snow/Slush           541\n",
       "                          Wet                  155\n",
       "Name: ROADCOND, dtype: int64"
      ]
     },
     "execution_count": 31,
     "metadata": {},
     "output_type": "execute_result"
    }
   ],
   "source": [
    "#As we did in Dates let's infer each one of their values by using Group By\n",
    "database.groupby(['WEATHER','ROADCOND']).ROADCOND.count()"
   ]
  },
  {
   "cell_type": "code",
   "execution_count": 32,
   "metadata": {},
   "outputs": [],
   "source": [
    "#We add a value to the Nan values of ROADCOND using WEATHER \n",
    "values = {\"Blowing Sand/Dirt\" : \"Dry\",\n",
    "         \"Clear\" : \"Dry\",\n",
    "         \"Fog/Smog/Smoke\" : \"Dry\",\n",
    "          \"Other\": \"Dry\",\n",
    "         \"Overcast\" : \"Dry\",\n",
    "         \"Partly Cloudy\" : \"Dry\",\n",
    "         \"Raining\": \"Wet\",\n",
    "         \"Severe Crosswind\" : \"Wet\",\n",
    "         \"Sleet/Hail/Freezing Rain\" : \"Wet\",\n",
    "         \"Snowing\" : \"Snow/Slush\"}\n",
    "\n",
    "database.loc[database[\"ROADCOND\"].isna(), 'ROADCOND'] = database.loc[database[\"ROADCOND\"].isna(), 'WEATHER'].map(lambda x: values[x])"
   ]
  },
  {
   "cell_type": "code",
   "execution_count": 33,
   "metadata": {},
   "outputs": [],
   "source": [
    "#Finally, we do the same for  WEATHER \n",
    "values = {\"Dry\" : \"Clear\",\n",
    "         \"Wet\" : \"Raining\",\n",
    "         \"Snow/Slush\" : \"Snowing\",\n",
    "         'Ice': 'Clear', \n",
    "        'Sand/Mud/Dirt': 'Clear' ,\n",
    "       'Standing Water': 'Raining', \n",
    "          'Oil': 'Raining',\n",
    "         \"Other\": \"Clear\"}\n",
    "\n",
    "database.loc[database[\"WEATHER\"].isna(), 'WEATHER'] = database.loc[database[\"WEATHER\"].isna(), 'ROADCOND'].map(lambda x: values[x])"
   ]
  },
  {
   "cell_type": "markdown",
   "metadata": {},
   "source": [
    "### Place of the accident"
   ]
  },
  {
   "cell_type": "code",
   "execution_count": 34,
   "metadata": {},
   "outputs": [
    {
     "data": {
      "text/html": [
       "<div>\n",
       "<style scoped>\n",
       "    .dataframe tbody tr th:only-of-type {\n",
       "        vertical-align: middle;\n",
       "    }\n",
       "\n",
       "    .dataframe tbody tr th {\n",
       "        vertical-align: top;\n",
       "    }\n",
       "\n",
       "    .dataframe thead th {\n",
       "        text-align: right;\n",
       "    }\n",
       "</style>\n",
       "<table border=\"1\" class=\"dataframe\">\n",
       "  <thead>\n",
       "    <tr style=\"text-align: right;\">\n",
       "      <th></th>\n",
       "      <th>JUNCTIONTYPE</th>\n",
       "      <th>ADDRTYPE</th>\n",
       "    </tr>\n",
       "  </thead>\n",
       "  <tbody>\n",
       "    <tr>\n",
       "      <th>74</th>\n",
       "      <td>Mid-Block (not related to intersection)</td>\n",
       "      <td>NaN</td>\n",
       "    </tr>\n",
       "    <tr>\n",
       "      <th>103</th>\n",
       "      <td>NaN</td>\n",
       "      <td>Block</td>\n",
       "    </tr>\n",
       "    <tr>\n",
       "      <th>127</th>\n",
       "      <td>NaN</td>\n",
       "      <td>Block</td>\n",
       "    </tr>\n",
       "    <tr>\n",
       "      <th>160</th>\n",
       "      <td>NaN</td>\n",
       "      <td>Block</td>\n",
       "    </tr>\n",
       "    <tr>\n",
       "      <th>268</th>\n",
       "      <td>Mid-Block (not related to intersection)</td>\n",
       "      <td>NaN</td>\n",
       "    </tr>\n",
       "    <tr>\n",
       "      <th>...</th>\n",
       "      <td>...</td>\n",
       "      <td>...</td>\n",
       "    </tr>\n",
       "    <tr>\n",
       "      <th>193984</th>\n",
       "      <td>NaN</td>\n",
       "      <td>Alley</td>\n",
       "    </tr>\n",
       "    <tr>\n",
       "      <th>194227</th>\n",
       "      <td>NaN</td>\n",
       "      <td>Block</td>\n",
       "    </tr>\n",
       "    <tr>\n",
       "      <th>194434</th>\n",
       "      <td>NaN</td>\n",
       "      <td>Alley</td>\n",
       "    </tr>\n",
       "    <tr>\n",
       "      <th>194568</th>\n",
       "      <td>Mid-Block (not related to intersection)</td>\n",
       "      <td>NaN</td>\n",
       "    </tr>\n",
       "    <tr>\n",
       "      <th>194659</th>\n",
       "      <td>NaN</td>\n",
       "      <td>Block</td>\n",
       "    </tr>\n",
       "  </tbody>\n",
       "</table>\n",
       "<p>2407 rows × 2 columns</p>\n",
       "</div>"
      ],
      "text/plain": [
       "                                   JUNCTIONTYPE ADDRTYPE\n",
       "74      Mid-Block (not related to intersection)      NaN\n",
       "103                                         NaN    Block\n",
       "127                                         NaN    Block\n",
       "160                                         NaN    Block\n",
       "268     Mid-Block (not related to intersection)      NaN\n",
       "...                                         ...      ...\n",
       "193984                                      NaN    Alley\n",
       "194227                                      NaN    Block\n",
       "194434                                      NaN    Alley\n",
       "194568  Mid-Block (not related to intersection)      NaN\n",
       "194659                                      NaN    Block\n",
       "\n",
       "[2407 rows x 2 columns]"
      ]
     },
     "execution_count": 34,
     "metadata": {},
     "output_type": "execute_result"
    }
   ],
   "source": [
    "#For the final pair of columns, we go with JUNCTIONTYPE and ADDRTYPE. (I am using \"Test\" as a new variable just to show these 2 columns clearer)\n",
    "#We can infer the type of place for the accident in both columns.\n",
    "test = database[['JUNCTIONTYPE', 'ADDRTYPE']]\n",
    "test.loc[test.JUNCTIONTYPE.isnull() & test.ADDRTYPE.notnull() | test.JUNCTIONTYPE.notnull() & test.ADDRTYPE.isnull()]"
   ]
  },
  {
   "cell_type": "code",
   "execution_count": 35,
   "metadata": {},
   "outputs": [],
   "source": [
    "#This time as well, it seems JUNCTIONTYPE has an \"Unkown\" value. So we will change it to NaN as usual.\n",
    "database.JUNCTIONTYPE.mask(database.JUNCTIONTYPE.str.lower().isin(['unknown']), np.nan, inplace=True)"
   ]
  },
  {
   "cell_type": "code",
   "execution_count": 36,
   "metadata": {},
   "outputs": [
    {
     "data": {
      "text/plain": [
       "(175487, 26)"
      ]
     },
     "execution_count": 36,
     "metadata": {},
     "output_type": "execute_result"
    }
   ],
   "source": [
    "database.shape"
   ]
  },
  {
   "cell_type": "code",
   "execution_count": 37,
   "metadata": {},
   "outputs": [
    {
     "data": {
      "text/plain": [
       "(174788, 26)"
      ]
     },
     "execution_count": 37,
     "metadata": {},
     "output_type": "execute_result"
    }
   ],
   "source": [
    "#And now we will delete those rows in which both values are NaN since we cannot do any inference out of them.\n",
    "drop = database.loc[database.JUNCTIONTYPE.isnull() & database.ADDRTYPE.isnull()] #unusable rows\n",
    "database = database.loc[database.JUNCTIONTYPE.isnull() & database.ADDRTYPE.notnull() | database.JUNCTIONTYPE.notnull() & database.ADDRTYPE.isnull() \n",
    "                         | database.JUNCTIONTYPE.notnull() & database.ADDRTYPE.notnull()] #the dataframe with the usable rows\n",
    "database.shape"
   ]
  },
  {
   "cell_type": "code",
   "execution_count": 38,
   "metadata": {
    "scrolled": true
   },
   "outputs": [
    {
     "data": {
      "text/plain": [
       "JUNCTIONTYPE                                       ADDRTYPE    \n",
       "At Intersection (but not related to intersection)  Intersection     1837\n",
       "At Intersection (intersection related)             Block               4\n",
       "                                                   Intersection    60235\n",
       "Driveway Junction                                  Alley              49\n",
       "                                                   Block           10127\n",
       "Mid-Block (but intersection related)               Block           21633\n",
       "                                                   Intersection        1\n",
       "Mid-Block (not related to intersection)            Alley             148\n",
       "                                                   Block           78183\n",
       "                                                   Intersection        3\n",
       "Ramp Junction                                      Block             128\n",
       "                                                   Intersection       29\n",
       "Name: ADDRTYPE, dtype: int64"
      ]
     },
     "execution_count": 38,
     "metadata": {},
     "output_type": "execute_result"
    }
   ],
   "source": [
    "#As we did in Dates let's infer each one of their values by using Group By\n",
    "database.groupby(['JUNCTIONTYPE', 'ADDRTYPE']).ADDRTYPE.count()"
   ]
  },
  {
   "cell_type": "code",
   "execution_count": 39,
   "metadata": {},
   "outputs": [],
   "source": [
    "#We add a value to the Nan values of ADDRTYPE using JUNCTIONTYPE \n",
    "values = {\"At Intersection (but not related to intersection)\" : \"Intersection\",\n",
    "         \"At Intersection (intersection related)\" : \"Intersection\",\n",
    "         \"Driveway Junction\" : \"Block\",\n",
    "         \"Mid-Block (but intersection related)\" : \"Block\",\n",
    "         \"Mid-Block (not related to intersection)\" : \"Block\",\n",
    "         \"Ramp Junction\": \"Block\"}\n",
    "\n",
    "database.loc[database[\"ADDRTYPE\"].isna(), 'ADDRTYPE'] = database.loc[database[\"ADDRTYPE\"].isna(), 'JUNCTIONTYPE'].map(lambda x: values[x])"
   ]
  },
  {
   "cell_type": "code",
   "execution_count": 40,
   "metadata": {},
   "outputs": [],
   "source": [
    "#And finally, we do the same but to JUNCTIONTYPE.\n",
    "values = {\"Alley\" : \"Mid-Block (not related to intersection)\",\n",
    "         \"Block\" : \"Mid-Block (not related to intersection)\",\n",
    "         \"Intersection\" : \"At Intersection (intersection related)\"}\n",
    "\n",
    "database.loc[database[\"JUNCTIONTYPE\"].isna(), 'JUNCTIONTYPE'] = database.loc[database[\"JUNCTIONTYPE\"].isna(), 'ADDRTYPE'].map(lambda x: values[x])"
   ]
  },
  {
   "cell_type": "markdown",
   "metadata": {},
   "source": [
    "### Geographical Location"
   ]
  },
  {
   "cell_type": "code",
   "execution_count": 41,
   "metadata": {
    "scrolled": true
   },
   "outputs": [
    {
     "data": {
      "text/plain": [
       "(171467, 26)"
      ]
     },
     "execution_count": 41,
     "metadata": {},
     "output_type": "execute_result"
    }
   ],
   "source": [
    "#First we drop the rows that have null values which are the same in both X and Y columns.\n",
    "database = database.loc[database.Y.notnull() & database.X.notnull()]  #the dataframe with the usable rows\n",
    "database.shape"
   ]
  },
  {
   "cell_type": "code",
   "execution_count": 44,
   "metadata": {},
   "outputs": [
    {
     "data": {
      "text/html": [
       "<div>\n",
       "<style scoped>\n",
       "    .dataframe tbody tr th:only-of-type {\n",
       "        vertical-align: middle;\n",
       "    }\n",
       "\n",
       "    .dataframe tbody tr th {\n",
       "        vertical-align: top;\n",
       "    }\n",
       "\n",
       "    .dataframe thead th {\n",
       "        text-align: right;\n",
       "    }\n",
       "</style>\n",
       "<table border=\"1\" class=\"dataframe\">\n",
       "  <thead>\n",
       "    <tr style=\"text-align: right;\">\n",
       "      <th></th>\n",
       "      <th>OBJECTID</th>\n",
       "      <th>X</th>\n",
       "      <th>Y</th>\n",
       "    </tr>\n",
       "  </thead>\n",
       "  <tbody>\n",
       "    <tr>\n",
       "      <th>0</th>\n",
       "      <td>1</td>\n",
       "      <td>-122.323148</td>\n",
       "      <td>47.703140</td>\n",
       "    </tr>\n",
       "    <tr>\n",
       "      <th>1</th>\n",
       "      <td>2</td>\n",
       "      <td>-122.347294</td>\n",
       "      <td>47.647172</td>\n",
       "    </tr>\n",
       "    <tr>\n",
       "      <th>2</th>\n",
       "      <td>3</td>\n",
       "      <td>-122.334540</td>\n",
       "      <td>47.607871</td>\n",
       "    </tr>\n",
       "    <tr>\n",
       "      <th>3</th>\n",
       "      <td>4</td>\n",
       "      <td>-122.334803</td>\n",
       "      <td>47.604803</td>\n",
       "    </tr>\n",
       "    <tr>\n",
       "      <th>4</th>\n",
       "      <td>5</td>\n",
       "      <td>-122.306426</td>\n",
       "      <td>47.545739</td>\n",
       "    </tr>\n",
       "  </tbody>\n",
       "</table>\n",
       "</div>"
      ],
      "text/plain": [
       "   OBJECTID           X          Y\n",
       "0         1 -122.323148  47.703140\n",
       "1         2 -122.347294  47.647172\n",
       "2         3 -122.334540  47.607871\n",
       "3         4 -122.334803  47.604803\n",
       "4         5 -122.306426  47.545739"
      ]
     },
     "execution_count": 44,
     "metadata": {},
     "output_type": "execute_result"
    }
   ],
   "source": [
    "#Now we want to do some clustering, that is, group the coordinates in different groups. \n",
    "#We will use K-Means to group the coordinates.\n",
    "X = database.loc[:, ['OBJECTID','X','Y']]\n",
    "X.head(5)"
   ]
  },
  {
   "cell_type": "code",
   "execution_count": 45,
   "metadata": {},
   "outputs": [
    {
     "data": {
      "image/png": "[encoded data removed]",
      "text/plain": [
       "<Figure size 432x288 with 1 Axes>"
      ]
     },
     "metadata": {
      "needs_background": "light"
     },
     "output_type": "display_data"
    }
   ],
   "source": [
    "#First, we use the Elbow Method to choose the optimal nº of clusters\n",
    "from sklearn.cluster import KMeans\n",
    "wcss = []\n",
    "for i in range(1, 11):\n",
    "    kmeans = KMeans(n_clusters = i, init = 'k-means++', random_state = 0)\n",
    "    kmeans.fit(X[['X','Y']])\n",
    "    wcss.append(kmeans.inertia_)\n",
    "plt.plot(range(1, 11), wcss)\n",
    "plt.title('The Elbow Method')\n",
    "plt.xlabel('Number of clusters')\n",
    "plt.ylabel('WCSS')\n",
    "plt.show()"
   ]
  },
  {
   "cell_type": "code",
   "execution_count": 46,
   "metadata": {},
   "outputs": [],
   "source": [
    "#We choose 4 clusters.\n",
    "kmeans = KMeans(n_clusters = 4, init = 'k-means++', random_state = 0)\n",
    "X['Clusters'] = kmeans.fit_predict(X[['X','Y']])\n",
    "centers = kmeans.cluster_centers_\n",
    "labels = kmeans.predict(X[['X','Y']])"
   ]
  },
  {
   "cell_type": "code",
   "execution_count": 47,
   "metadata": {
    "scrolled": false
   },
   "outputs": [
    {
     "data": {
      "text/html": [
       "<div>\n",
       "<style scoped>\n",
       "    .dataframe tbody tr th:only-of-type {\n",
       "        vertical-align: middle;\n",
       "    }\n",
       "\n",
       "    .dataframe tbody tr th {\n",
       "        vertical-align: top;\n",
       "    }\n",
       "\n",
       "    .dataframe thead th {\n",
       "        text-align: right;\n",
       "    }\n",
       "</style>\n",
       "<table border=\"1\" class=\"dataframe\">\n",
       "  <thead>\n",
       "    <tr style=\"text-align: right;\">\n",
       "      <th></th>\n",
       "      <th>OBJECTID</th>\n",
       "      <th>X</th>\n",
       "      <th>Y</th>\n",
       "      <th>Clusters</th>\n",
       "    </tr>\n",
       "  </thead>\n",
       "  <tbody>\n",
       "    <tr>\n",
       "      <th>0</th>\n",
       "      <td>1</td>\n",
       "      <td>-122.323148</td>\n",
       "      <td>47.703140</td>\n",
       "      <td>2</td>\n",
       "    </tr>\n",
       "    <tr>\n",
       "      <th>1</th>\n",
       "      <td>2</td>\n",
       "      <td>-122.347294</td>\n",
       "      <td>47.647172</td>\n",
       "      <td>3</td>\n",
       "    </tr>\n",
       "    <tr>\n",
       "      <th>2</th>\n",
       "      <td>3</td>\n",
       "      <td>-122.334540</td>\n",
       "      <td>47.607871</td>\n",
       "      <td>3</td>\n",
       "    </tr>\n",
       "    <tr>\n",
       "      <th>3</th>\n",
       "      <td>4</td>\n",
       "      <td>-122.334803</td>\n",
       "      <td>47.604803</td>\n",
       "      <td>3</td>\n",
       "    </tr>\n",
       "    <tr>\n",
       "      <th>4</th>\n",
       "      <td>5</td>\n",
       "      <td>-122.306426</td>\n",
       "      <td>47.545739</td>\n",
       "      <td>1</td>\n",
       "    </tr>\n",
       "  </tbody>\n",
       "</table>\n",
       "</div>"
      ],
      "text/plain": [
       "   OBJECTID           X          Y  Clusters\n",
       "0         1 -122.323148  47.703140         2\n",
       "1         2 -122.347294  47.647172         3\n",
       "2         3 -122.334540  47.607871         3\n",
       "3         4 -122.334803  47.604803         3\n",
       "4         5 -122.306426  47.545739         1"
      ]
     },
     "execution_count": 47,
     "metadata": {},
     "output_type": "execute_result"
    }
   ],
   "source": [
    "#We chose 4 clusters so our database will have 0,1,2,3 as values.\n",
    "X.head(5)"
   ]
  },
  {
   "cell_type": "code",
   "execution_count": 48,
   "metadata": {},
   "outputs": [
    {
     "data": {
      "text/plain": [
       "<matplotlib.collections.PathCollection at 0x7f9384956790>"
      ]
     },
     "execution_count": 48,
     "metadata": {},
     "output_type": "execute_result"
    },
    {
     "data": {
      "image/png": "[encoded data removed]",
      "text/plain": [
       "<Figure size 432x288 with 2 Axes>"
      ]
     },
     "metadata": {
      "needs_background": "light"
     },
     "output_type": "display_data"
    }
   ],
   "source": [
    "#We can even do some visualization\n",
    "X.plot.scatter(x = 'X', y = 'Y', c=labels, s=50, cmap='viridis')\n",
    "plt.scatter(centers[:, 0], centers[:, 1], c='black', s=200, alpha=0.5)"
   ]
  },
  {
   "cell_type": "code",
   "execution_count": 49,
   "metadata": {
    "scrolled": true
   },
   "outputs": [
    {
     "data": {
      "text/html": [
       "<div>\n",
       "<style scoped>\n",
       "    .dataframe tbody tr th:only-of-type {\n",
       "        vertical-align: middle;\n",
       "    }\n",
       "\n",
       "    .dataframe tbody tr th {\n",
       "        vertical-align: top;\n",
       "    }\n",
       "\n",
       "    .dataframe thead th {\n",
       "        text-align: right;\n",
       "    }\n",
       "</style>\n",
       "<table border=\"1\" class=\"dataframe\">\n",
       "  <thead>\n",
       "    <tr style=\"text-align: right;\">\n",
       "      <th></th>\n",
       "      <th>SEVERITYCODE</th>\n",
       "      <th>STATUS</th>\n",
       "      <th>ADDRTYPE</th>\n",
       "      <th>SEVERITYCODE.1</th>\n",
       "      <th>SEVERITYDESC</th>\n",
       "      <th>COLLISIONTYPE</th>\n",
       "      <th>PERSONCOUNT</th>\n",
       "      <th>PEDCOUNT</th>\n",
       "      <th>PEDCYLCOUNT</th>\n",
       "      <th>VEHCOUNT</th>\n",
       "      <th>...</th>\n",
       "      <th>WEATHER</th>\n",
       "      <th>ROADCOND</th>\n",
       "      <th>LIGHTCOND</th>\n",
       "      <th>ST_COLCODE</th>\n",
       "      <th>ST_COLDESC</th>\n",
       "      <th>SEGLANEKEY</th>\n",
       "      <th>CROSSWALKKEY</th>\n",
       "      <th>HITPARKEDCAR</th>\n",
       "      <th>Frame</th>\n",
       "      <th>Clusters</th>\n",
       "    </tr>\n",
       "  </thead>\n",
       "  <tbody>\n",
       "    <tr>\n",
       "      <th>0</th>\n",
       "      <td>2</td>\n",
       "      <td>Matched</td>\n",
       "      <td>Intersection</td>\n",
       "      <td>2</td>\n",
       "      <td>Injury Collision</td>\n",
       "      <td>Angles</td>\n",
       "      <td>2</td>\n",
       "      <td>0</td>\n",
       "      <td>0</td>\n",
       "      <td>2</td>\n",
       "      <td>...</td>\n",
       "      <td>Overcast</td>\n",
       "      <td>Wet</td>\n",
       "      <td>Daylight</td>\n",
       "      <td>10</td>\n",
       "      <td>Entering at angle</td>\n",
       "      <td>0</td>\n",
       "      <td>0</td>\n",
       "      <td>N</td>\n",
       "      <td>Afternoon</td>\n",
       "      <td>2</td>\n",
       "    </tr>\n",
       "    <tr>\n",
       "      <th>1</th>\n",
       "      <td>1</td>\n",
       "      <td>Matched</td>\n",
       "      <td>Block</td>\n",
       "      <td>1</td>\n",
       "      <td>Property Damage Only Collision</td>\n",
       "      <td>Sideswipe</td>\n",
       "      <td>2</td>\n",
       "      <td>0</td>\n",
       "      <td>0</td>\n",
       "      <td>2</td>\n",
       "      <td>...</td>\n",
       "      <td>Raining</td>\n",
       "      <td>Wet</td>\n",
       "      <td>Dark - Street Lights On</td>\n",
       "      <td>11</td>\n",
       "      <td>From same direction - both going straight - bo...</td>\n",
       "      <td>0</td>\n",
       "      <td>0</td>\n",
       "      <td>N</td>\n",
       "      <td>Evening</td>\n",
       "      <td>3</td>\n",
       "    </tr>\n",
       "    <tr>\n",
       "      <th>2</th>\n",
       "      <td>1</td>\n",
       "      <td>Matched</td>\n",
       "      <td>Block</td>\n",
       "      <td>1</td>\n",
       "      <td>Property Damage Only Collision</td>\n",
       "      <td>Parked Car</td>\n",
       "      <td>4</td>\n",
       "      <td>0</td>\n",
       "      <td>0</td>\n",
       "      <td>3</td>\n",
       "      <td>...</td>\n",
       "      <td>Overcast</td>\n",
       "      <td>Dry</td>\n",
       "      <td>Daylight</td>\n",
       "      <td>32</td>\n",
       "      <td>One parked--one moving</td>\n",
       "      <td>0</td>\n",
       "      <td>0</td>\n",
       "      <td>N</td>\n",
       "      <td>Late Morning</td>\n",
       "      <td>3</td>\n",
       "    </tr>\n",
       "  </tbody>\n",
       "</table>\n",
       "<p>3 rows × 24 columns</p>\n",
       "</div>"
      ],
      "text/plain": [
       "   SEVERITYCODE   STATUS      ADDRTYPE  SEVERITYCODE.1  \\\n",
       "0             2  Matched  Intersection               2   \n",
       "1             1  Matched         Block               1   \n",
       "2             1  Matched         Block               1   \n",
       "\n",
       "                     SEVERITYDESC COLLISIONTYPE  PERSONCOUNT  PEDCOUNT  \\\n",
       "0                Injury Collision        Angles            2         0   \n",
       "1  Property Damage Only Collision     Sideswipe            2         0   \n",
       "2  Property Damage Only Collision    Parked Car            4         0   \n",
       "\n",
       "   PEDCYLCOUNT  VEHCOUNT  ...   WEATHER  ROADCOND                LIGHTCOND  \\\n",
       "0            0         2  ...  Overcast       Wet                 Daylight   \n",
       "1            0         2  ...   Raining       Wet  Dark - Street Lights On   \n",
       "2            0         3  ...  Overcast       Dry                 Daylight   \n",
       "\n",
       "  ST_COLCODE                                         ST_COLDESC SEGLANEKEY  \\\n",
       "0         10                                  Entering at angle          0   \n",
       "1         11  From same direction - both going straight - bo...          0   \n",
       "2         32                             One parked--one moving          0   \n",
       "\n",
       "  CROSSWALKKEY  HITPARKEDCAR         Frame  Clusters  \n",
       "0            0             N     Afternoon         2  \n",
       "1            0             N       Evening         3  \n",
       "2            0             N  Late Morning         3  \n",
       "\n",
       "[3 rows x 24 columns]"
      ]
     },
     "execution_count": 49,
     "metadata": {},
     "output_type": "execute_result"
    }
   ],
   "source": [
    "#We add the column ('Clusters') to our database using the OBJECTID.\n",
    "#Finally we drop the X, Y and OBJECTID columns from the database.\n",
    "X = X[['OBJECTID', 'Clusters']]\n",
    "database = database.merge(X, left_on='OBJECTID', right_on='OBJECTID')\n",
    "drop_features = ['OBJECTID', 'X', 'Y']\n",
    "database.drop(drop_features, axis = 1, inplace= True)\n",
    "database.head(3)"
   ]
  },
  {
   "cell_type": "markdown",
   "metadata": {},
   "source": [
    "### Categorical Columns"
   ]
  },
  {
   "cell_type": "code",
   "execution_count": 50,
   "metadata": {},
   "outputs": [],
   "source": [
    "#Now we shouldn't have any problem with missing values but that doesn't mean there are no other inconsistencies.\n",
    "##The column UNDERINFL (under influence of drugs/alcohol) has \"0,1,N,Y\" when it should be just \"N,Y\". We will assume O = N // 1= Y\n",
    "\n",
    "database.UNDERINFL.mask(database.UNDERINFL.isin(['0']), \"N\", inplace=True)\n",
    "database.UNDERINFL.mask(database.UNDERINFL.isin(['1']), \"Y\", inplace=True)"
   ]
  },
  {
   "cell_type": "code",
   "execution_count": 51,
   "metadata": {},
   "outputs": [
    {
     "data": {
      "text/plain": [
       "array(['N', 'Y'], dtype=object)"
      ]
     },
     "execution_count": 51,
     "metadata": {},
     "output_type": "execute_result"
    }
   ],
   "source": [
    "database['UNDERINFL'].unique()"
   ]
  },
  {
   "cell_type": "markdown",
   "metadata": {},
   "source": [
    "### Pair-columns"
   ]
  },
  {
   "cell_type": "code",
   "execution_count": 52,
   "metadata": {},
   "outputs": [
    {
     "data": {
      "text/plain": [
       "(171467, 22)"
      ]
     },
     "execution_count": 52,
     "metadata": {},
     "output_type": "execute_result"
    }
   ],
   "source": [
    "#As we said before, there are pair of columns in the dataset. \n",
    "#That means that in one of them the info is coded (_CODE) with numbers while in the other it is described in words.\n",
    "#Those are: ST_COLCODE & ST_COLDESC // SDOT_COLCODE & SDOT_COLDESC. We will drop one of each (the one that had less NaN values) \n",
    "\n",
    "duplicates = ['ST_COLDESC', 'SDOT_COLDESC']\n",
    "database.drop(duplicates, axis = 1, inplace = True)\n",
    "database.shape"
   ]
  },
  {
   "cell_type": "markdown",
   "metadata": {},
   "source": [
    "## Categorical Variable Encoding"
   ]
  },
  {
   "cell_type": "code",
   "execution_count": 53,
   "metadata": {},
   "outputs": [
    {
     "data": {
      "text/html": [
       "<div>\n",
       "<style scoped>\n",
       "    .dataframe tbody tr th:only-of-type {\n",
       "        vertical-align: middle;\n",
       "    }\n",
       "\n",
       "    .dataframe tbody tr th {\n",
       "        vertical-align: top;\n",
       "    }\n",
       "\n",
       "    .dataframe thead th {\n",
       "        text-align: right;\n",
       "    }\n",
       "</style>\n",
       "<table border=\"1\" class=\"dataframe\">\n",
       "  <thead>\n",
       "    <tr style=\"text-align: right;\">\n",
       "      <th></th>\n",
       "      <th>STATUS</th>\n",
       "      <th>ADDRTYPE</th>\n",
       "      <th>SEVERITYDESC</th>\n",
       "      <th>COLLISIONTYPE</th>\n",
       "      <th>JUNCTIONTYPE</th>\n",
       "      <th>UNDERINFL</th>\n",
       "      <th>WEATHER</th>\n",
       "      <th>ROADCOND</th>\n",
       "      <th>LIGHTCOND</th>\n",
       "      <th>HITPARKEDCAR</th>\n",
       "      <th>...</th>\n",
       "      <th>SEVERITYCODE.1</th>\n",
       "      <th>PERSONCOUNT</th>\n",
       "      <th>PEDCOUNT</th>\n",
       "      <th>PEDCYLCOUNT</th>\n",
       "      <th>VEHCOUNT</th>\n",
       "      <th>SDOT_COLCODE</th>\n",
       "      <th>ST_COLCODE</th>\n",
       "      <th>SEGLANEKEY</th>\n",
       "      <th>CROSSWALKKEY</th>\n",
       "      <th>Clusters</th>\n",
       "    </tr>\n",
       "  </thead>\n",
       "  <tbody>\n",
       "    <tr>\n",
       "      <th>0</th>\n",
       "      <td>0</td>\n",
       "      <td>1</td>\n",
       "      <td>0</td>\n",
       "      <td>0</td>\n",
       "      <td>1</td>\n",
       "      <td>0</td>\n",
       "      <td>4</td>\n",
       "      <td>7</td>\n",
       "      <td>5</td>\n",
       "      <td>0</td>\n",
       "      <td>...</td>\n",
       "      <td>2</td>\n",
       "      <td>2</td>\n",
       "      <td>0</td>\n",
       "      <td>0</td>\n",
       "      <td>2</td>\n",
       "      <td>11</td>\n",
       "      <td>10</td>\n",
       "      <td>0</td>\n",
       "      <td>0</td>\n",
       "      <td>2</td>\n",
       "    </tr>\n",
       "  </tbody>\n",
       "</table>\n",
       "<p>1 rows × 22 columns</p>\n",
       "</div>"
      ],
      "text/plain": [
       "   STATUS  ADDRTYPE  SEVERITYDESC  COLLISIONTYPE  JUNCTIONTYPE  UNDERINFL  \\\n",
       "0       0         1             0              0             1          0   \n",
       "\n",
       "   WEATHER  ROADCOND  LIGHTCOND  HITPARKEDCAR  ...  SEVERITYCODE.1  \\\n",
       "0        4         7          5             0  ...               2   \n",
       "\n",
       "   PERSONCOUNT  PEDCOUNT  PEDCYLCOUNT  VEHCOUNT  SDOT_COLCODE  ST_COLCODE  \\\n",
       "0            2         0            0         2            11          10   \n",
       "\n",
       "   SEGLANEKEY  CROSSWALKKEY  Clusters  \n",
       "0           0             0         2  \n",
       "\n",
       "[1 rows x 22 columns]"
      ]
     },
     "execution_count": 53,
     "metadata": {},
     "output_type": "execute_result"
    }
   ],
   "source": [
    "#We have 22 columns. Out of those, 11 columns are categorical. Let's encode those features.\n",
    "# Apply the Label encoder to each categorical feature \n",
    "from sklearn.preprocessing import LabelEncoder \n",
    "cat_features = ['STATUS', 'ADDRTYPE', 'SEVERITYDESC', 'COLLISIONTYPE', 'JUNCTIONTYPE',\n",
    "         'UNDERINFL', 'WEATHER', 'ROADCOND', 'LIGHTCOND', 'HITPARKEDCAR', 'Frame'] \n",
    "encoder = LabelEncoder() \n",
    "encoded = database[cat_features].apply(encoder.fit_transform)\n",
    "database.drop(cat_features, axis=1, inplace=True)\n",
    "database = pd.concat([encoded,database],axis = 1) \n",
    "database.head(1)"
   ]
  },
  {
   "cell_type": "markdown",
   "metadata": {},
   "source": [
    "## Correlations"
   ]
  },
  {
   "cell_type": "code",
   "execution_count": 54,
   "metadata": {},
   "outputs": [
    {
     "data": {
      "text/plain": [
       "SEVERITYCODE.1    1.000000\n",
       "SEVERITYCODE      1.000000\n",
       "PEDCOUNT          0.242683\n",
       "PEDCYLCOUNT       0.212615\n",
       "ADDRTYPE          0.182001\n",
       "CROSSWALKKEY      0.171725\n",
       "SDOT_COLCODE      0.161580\n",
       "PERSONCOUNT       0.115983\n",
       "SEGLANEKEY        0.102804\n",
       "LIGHTCOND         0.036987\n",
       "UNDERINFL         0.034294\n",
       "ROADCOND          0.009850\n",
       "WEATHER           0.002025\n",
       "STATUS           -0.001670\n",
       "Clusters         -0.009429\n",
       "Frame            -0.039731\n",
       "VEHCOUNT         -0.082966\n",
       "HITPARKEDCAR     -0.093434\n",
       "COLLISIONTYPE    -0.123980\n",
       "ST_COLCODE       -0.143857\n",
       "JUNCTIONTYPE     -0.189022\n",
       "SEVERITYDESC     -1.000000\n",
       "Name: SEVERITYCODE, dtype: float64"
      ]
     },
     "execution_count": 54,
     "metadata": {},
     "output_type": "execute_result"
    }
   ],
   "source": [
    "#First we check the columns correlated to our Dependent variable (SEVERITYCODE). \n",
    "correlations = database.corr()['SEVERITYCODE'].sort_values(ascending = False)\n",
    "correlations"
   ]
  },
  {
   "cell_type": "code",
   "execution_count": 55,
   "metadata": {},
   "outputs": [
    {
     "data": {
      "text/plain": [
       "(171467, 20)"
      ]
     },
     "execution_count": 55,
     "metadata": {},
     "output_type": "execute_result"
    }
   ],
   "source": [
    "#We drop the columns that are highly correlated to our Dependent Variable (SEVERITYCODE)\n",
    "drop = ['SEVERITYCODE.1', 'SEVERITYDESC']\n",
    "database.drop(drop, axis=1, inplace= True)\n",
    "database.shape"
   ]
  },
  {
   "cell_type": "code",
   "execution_count": 56,
   "metadata": {},
   "outputs": [
    {
     "data": {
      "text/plain": [
       "<matplotlib.axes._subplots.AxesSubplot at 0x7f938294f880>"
      ]
     },
     "execution_count": 56,
     "metadata": {},
     "output_type": "execute_result"
    },
    {
     "data": {
      "image/png": "[encoded data removed]",
      "text/plain": [
       "<Figure size 1296x1080 with 2 Axes>"
      ]
     },
     "metadata": {},
     "output_type": "display_data"
    }
   ],
   "source": [
    "#Now with the Correlation Matrix we check what features are highly correlated.\n",
    "sns.set(style=\"white\")\n",
    "corr = database.drop(columns = ['SEVERITYCODE']).corr()\n",
    "mask = np.zeros_like(corr, dtype=np.bool)\n",
    "mask[np.triu_indices_from(mask)] = True\n",
    "f, ax = plt.subplots(figsize=(18, 15))\n",
    "cmap = sns.diverging_palette(220, 10, as_cmap=True)\n",
    "sns.heatmap(corr, mask=mask, cmap=cmap, vmax=.3, center=0,square=True, linewidths=.5, \n",
    "            cbar_kws={\"shrink\": .5}, annot = True)"
   ]
  },
  {
   "cell_type": "code",
   "execution_count": 57,
   "metadata": {},
   "outputs": [
    {
     "data": {
      "text/plain": [
       "(171467, 19)"
      ]
     },
     "execution_count": 57,
     "metadata": {},
     "output_type": "execute_result"
    }
   ],
   "source": [
    "#We drop the highest correlated pair ('0.92'): ADDRTYPE - JUNCTIONTYPE\n",
    "database.drop('JUNCTIONTYPE', axis=1, inplace= True)\n",
    "database.shape"
   ]
  },
  {
   "cell_type": "markdown",
   "metadata": {},
   "source": [
    "## Feature Selection"
   ]
  },
  {
   "cell_type": "code",
   "execution_count": 58,
   "metadata": {},
   "outputs": [
    {
     "data": {
      "text/plain": [
       "Index(['STATUS', 'ADDRTYPE', 'COLLISIONTYPE', 'UNDERINFL', 'WEATHER',\n",
       "       'ROADCOND', 'LIGHTCOND', 'HITPARKEDCAR', 'Frame', 'SEVERITYCODE',\n",
       "       'PERSONCOUNT', 'PEDCOUNT', 'PEDCYLCOUNT', 'VEHCOUNT', 'SDOT_COLCODE',\n",
       "       'ST_COLCODE', 'SEGLANEKEY', 'CROSSWALKKEY', 'Clusters'],\n",
       "      dtype='object')"
      ]
     },
     "execution_count": 58,
     "metadata": {},
     "output_type": "execute_result"
    }
   ],
   "source": [
    "database.columns"
   ]
  },
  {
   "cell_type": "code",
   "execution_count": 59,
   "metadata": {},
   "outputs": [
    {
     "data": {
      "text/html": [
       "<div>\n",
       "<style scoped>\n",
       "    .dataframe tbody tr th:only-of-type {\n",
       "        vertical-align: middle;\n",
       "    }\n",
       "\n",
       "    .dataframe tbody tr th {\n",
       "        vertical-align: top;\n",
       "    }\n",
       "\n",
       "    .dataframe thead th {\n",
       "        text-align: right;\n",
       "    }\n",
       "</style>\n",
       "<table border=\"1\" class=\"dataframe\">\n",
       "  <thead>\n",
       "    <tr style=\"text-align: right;\">\n",
       "      <th></th>\n",
       "      <th>STATUS</th>\n",
       "      <th>COLLISIONPLACE</th>\n",
       "      <th>COLLISIONTYPE</th>\n",
       "      <th>DRUNK/DRUGGED</th>\n",
       "      <th>WEATHER</th>\n",
       "      <th>ROADCOND</th>\n",
       "      <th>LIGHTCOND</th>\n",
       "      <th>HITPARKEDCAR</th>\n",
       "      <th>PARTOFDAY</th>\n",
       "      <th>PEOPLEINVOLVED</th>\n",
       "      <th>PEDINVOLVED</th>\n",
       "      <th>BYCICLCOUNT</th>\n",
       "      <th>VEHCOUNT</th>\n",
       "      <th>CODECOL</th>\n",
       "      <th>DESCRIPCOL</th>\n",
       "      <th>LANESEGMENT</th>\n",
       "      <th>CROSSWALK</th>\n",
       "      <th>CLUSTERS</th>\n",
       "      <th>SEVERITYCODE</th>\n",
       "    </tr>\n",
       "  </thead>\n",
       "  <tbody>\n",
       "    <tr>\n",
       "      <th>0</th>\n",
       "      <td>0</td>\n",
       "      <td>1</td>\n",
       "      <td>0</td>\n",
       "      <td>0</td>\n",
       "      <td>4</td>\n",
       "      <td>7</td>\n",
       "      <td>5</td>\n",
       "      <td>0</td>\n",
       "      <td>0</td>\n",
       "      <td>2</td>\n",
       "      <td>0</td>\n",
       "      <td>0</td>\n",
       "      <td>2</td>\n",
       "      <td>11</td>\n",
       "      <td>10</td>\n",
       "      <td>0</td>\n",
       "      <td>0</td>\n",
       "      <td>2</td>\n",
       "      <td>2</td>\n",
       "    </tr>\n",
       "  </tbody>\n",
       "</table>\n",
       "</div>"
      ],
      "text/plain": [
       "   STATUS  COLLISIONPLACE  COLLISIONTYPE  DRUNK/DRUGGED  WEATHER  ROADCOND  \\\n",
       "0       0               1              0              0        4         7   \n",
       "\n",
       "   LIGHTCOND  HITPARKEDCAR  PARTOFDAY  PEOPLEINVOLVED  PEDINVOLVED  \\\n",
       "0          5             0          0               2            0   \n",
       "\n",
       "   BYCICLCOUNT  VEHCOUNT  CODECOL  DESCRIPCOL  LANESEGMENT  CROSSWALK  \\\n",
       "0            0         2       11          10            0          0   \n",
       "\n",
       "   CLUSTERS  SEVERITYCODE  \n",
       "0         2             2  "
      ]
     },
     "execution_count": 59,
     "metadata": {},
     "output_type": "execute_result"
    }
   ],
   "source": [
    "#There are 19 features so let's check if there are unimportant ones that can be excluded from the model. \n",
    "#We are going to try 2 approach and build 2 models. Finally we will compare the results and choose the model with the best results.\n",
    "#First, we change the name of some columns for a better understanding.\n",
    "column_names = ['STATUS', 'ADDRTYPE', 'COLLISIONTYPE', 'UNDERINFL',\n",
    "       'WEATHER', 'ROADCOND', 'LIGHTCOND', 'HITPARKEDCAR',\n",
    "       'Frame', 'PERSONCOUNT', 'PEDCOUNT', 'PEDCYLCOUNT',\n",
    "       'VEHCOUNT', 'SDOT_COLCODE', 'ST_COLCODE', 'SEGLANEKEY', 'CROSSWALKKEY', 'Clusters', 'SEVERITYCODE']\n",
    "\n",
    "database = database.reindex(columns = column_names ) \n",
    "database.rename(columns = {'STATUS':'STATUS', 'ADDRTYPE':'COLLISIONPLACE', \n",
    "                              'COLLISIONTYPE':'COLLISIONTYPE', 'UNDERINFL': 'DRUNK/DRUGGED', 'WEATHER' : 'WEATHER',\n",
    "                                    'ROADCOND': 'ROADCOND', 'LIGHTCOND': 'LIGHTCOND', 'HITPARKEDCAR':'HITPARKEDCAR',\n",
    "                                  'Frame':'PARTOFDAY', 'PERSONCOUNT': 'PEOPLEINVOLVED', 'PEDCOUNT': 'PEDINVOLVED',   \n",
    "                                    'PEDCYLCOUNT': 'BYCICLCOUNT', 'VEHCOUNT': 'VEHCOUNT', 'SDOT_COLCODE': 'CODECOL',\n",
    "                                   'ST_COLCODE': 'DESCRIPCOL', 'SEGLANEKEY': 'LANESEGMENT', 'CROSSWALKKEY': 'CROSSWALK', \n",
    "                                     'Clusters': 'CLUSTERS','SEVERITYCODE': 'SEVERITYCODE'}, inplace = True) \n",
    "database.head(1)"
   ]
  },
  {
   "cell_type": "code",
   "execution_count": 60,
   "metadata": {},
   "outputs": [
    {
     "name": "stdout",
     "output_type": "stream",
     "text": [
      "             Specs         Score\n",
      "16       CROSSWALK  2.697813e+09\n",
      "15     LANESEGMENT  7.483919e+07\n",
      "14      DESCRIPCOL  3.442892e+04\n",
      "13         CODECOL  1.346819e+04\n",
      "10     PEDINVOLVED  1.065864e+04\n",
      "11     BYCICLCOUNT  7.629970e+03\n",
      "2    COLLISIONTYPE  4.898943e+03\n",
      "1   COLLISIONPLACE  3.629938e+03\n",
      "9   PEOPLEINVOLVED  1.802910e+03\n",
      "7     HITPARKEDCAR  1.450752e+03\n"
     ]
    }
   ],
   "source": [
    "#First we will check with a type of Univariate Selection (Chi-squared method)\n",
    "from sklearn.feature_selection import SelectKBest\n",
    "from sklearn.feature_selection import chi2\n",
    "\n",
    "X = database.iloc[:,:-1]  #independent columns\n",
    "y = database.iloc[:,-1]    #target column i.e price range\n",
    "#apply SelectKBest class to extract top 10 best features\n",
    "bestfeatures = SelectKBest(score_func=chi2, k=11)\n",
    "fit = bestfeatures.fit(X,y)\n",
    "dfscores = pd.DataFrame(fit.scores_)\n",
    "dfcolumns = pd.DataFrame(X.columns)\n",
    "#concat two dataframes for better visualization \n",
    "featureScores = pd.concat([dfcolumns,dfscores],axis=1)\n",
    "featureScores.columns = ['Specs','Score']  #naming the dataframe columns\n",
    "print(featureScores.nlargest(10,'Score'))  #print 10 best features"
   ]
  },
  {
   "cell_type": "code",
   "execution_count": 61,
   "metadata": {
    "scrolled": false
   },
   "outputs": [
    {
     "name": "stdout",
     "output_type": "stream",
     "text": [
      "[7.14664953e-06 5.44104328e-02 1.46221803e-01 8.86109644e-03\n",
      " 4.69816731e-02 1.98265996e-02 4.27263254e-02 9.76571080e-03\n",
      " 5.78379330e-02 1.39094827e-01 4.98709935e-02 5.07336192e-02\n",
      " 5.87451717e-02 8.49109649e-02 1.42188305e-01 1.36380041e-02\n",
      " 2.24402701e-02 5.17391233e-02]\n"
     ]
    },
    {
     "data": {
      "image/png": "[encoded data removed]",
      "text/plain": [
       "<Figure size 432x288 with 1 Axes>"
      ]
     },
     "metadata": {},
     "output_type": "display_data"
    }
   ],
   "source": [
    "#We will try now with another technique (Feature Importance)\n",
    "\n",
    "from sklearn.ensemble import ExtraTreesClassifier\n",
    "\n",
    "model = ExtraTreesClassifier()\n",
    "model.fit(X,y)\n",
    "print(model.feature_importances_) \n",
    "feat_importances = pd.Series(model.feature_importances_, index=X.columns)\n",
    "feat_importances.nlargest(10).plot(kind='barh')\n",
    "plt.show()"
   ]
  },
  {
   "cell_type": "markdown",
   "metadata": {},
   "source": [
    "## Splitting into Train and Test Set (CHI-SQUARED VER.)"
   ]
  },
  {
   "cell_type": "code",
   "execution_count": 62,
   "metadata": {},
   "outputs": [],
   "source": [
    "#This will be our database for our model in the Chi-Squared Version.\n",
    "\n",
    "X = database[['CROSSWALK','LANESEGMENT', 'DESCRIPCOL' ,'CODECOL' ,'PEDINVOLVED',\n",
    "              'BYCICLCOUNT','COLLISIONTYPE','COLLISIONPLACE','PEOPLEINVOLVED','HITPARKEDCAR']]\n",
    "\n",
    "y = database[['SEVERITYCODE']]"
   ]
  },
  {
   "cell_type": "code",
   "execution_count": 63,
   "metadata": {},
   "outputs": [],
   "source": [
    "#We split into Training and Test Set\n",
    "from sklearn.model_selection import train_test_split\n",
    "X_train, X_test, y_train, y_test = train_test_split(X, y, test_size = 0.2, random_state = 0)"
   ]
  },
  {
   "cell_type": "markdown",
   "metadata": {},
   "source": [
    "## Scaling"
   ]
  },
  {
   "cell_type": "code",
   "execution_count": 64,
   "metadata": {},
   "outputs": [
    {
     "data": {
      "text/html": [
       "<div>\n",
       "<style scoped>\n",
       "    .dataframe tbody tr th:only-of-type {\n",
       "        vertical-align: middle;\n",
       "    }\n",
       "\n",
       "    .dataframe tbody tr th {\n",
       "        vertical-align: top;\n",
       "    }\n",
       "\n",
       "    .dataframe thead th {\n",
       "        text-align: right;\n",
       "    }\n",
       "</style>\n",
       "<table border=\"1\" class=\"dataframe\">\n",
       "  <thead>\n",
       "    <tr style=\"text-align: right;\">\n",
       "      <th></th>\n",
       "      <th>CROSSWALK</th>\n",
       "      <th>LANESEGMENT</th>\n",
       "      <th>DESCRIPCOL</th>\n",
       "      <th>CODECOL</th>\n",
       "      <th>PEDINVOLVED</th>\n",
       "      <th>BYCICLCOUNT</th>\n",
       "      <th>COLLISIONTYPE</th>\n",
       "      <th>COLLISIONPLACE</th>\n",
       "      <th>PEOPLEINVOLVED</th>\n",
       "      <th>HITPARKEDCAR</th>\n",
       "    </tr>\n",
       "  </thead>\n",
       "  <tbody>\n",
       "    <tr>\n",
       "      <th>144605</th>\n",
       "      <td>-0.139549</td>\n",
       "      <td>-0.087441</td>\n",
       "      <td>-0.560205</td>\n",
       "      <td>-0.055882</td>\n",
       "      <td>-0.195311</td>\n",
       "      <td>-0.179165</td>\n",
       "      <td>0.894618</td>\n",
       "      <td>-0.751029</td>\n",
       "      <td>-0.361451</td>\n",
       "      <td>-0.179071</td>\n",
       "    </tr>\n",
       "  </tbody>\n",
       "</table>\n",
       "</div>"
      ],
      "text/plain": [
       "        CROSSWALK  LANESEGMENT  DESCRIPCOL   CODECOL  PEDINVOLVED  \\\n",
       "144605  -0.139549    -0.087441   -0.560205 -0.055882    -0.195311   \n",
       "\n",
       "        BYCICLCOUNT  COLLISIONTYPE  COLLISIONPLACE  PEOPLEINVOLVED  \\\n",
       "144605    -0.179165       0.894618       -0.751029       -0.361451   \n",
       "\n",
       "        HITPARKEDCAR  \n",
       "144605     -0.179071  "
      ]
     },
     "execution_count": 64,
     "metadata": {},
     "output_type": "execute_result"
    }
   ],
   "source": [
    "#Now we do some Feature Scaling\n",
    "from sklearn.preprocessing import StandardScaler\n",
    "\n",
    "sc_X = StandardScaler()\n",
    "\n",
    "X_train2 = pd.DataFrame(sc_X.fit_transform(X_train))\n",
    "X_test2 = pd.DataFrame(sc_X.transform(X_test)) #we do the Feature Scaling\n",
    "\n",
    "X_train2.columns = X_train.columns.values \n",
    "X_test2.columns = X_test.columns.values #we give the new Scaled DataFrame column names\n",
    "\n",
    "X_train2.index = X_train.index.values\n",
    "X_test2.index = X_test.index.values #we give the new Scaled DataFrame each index\n",
    "\n",
    "X_train = X_train2\n",
    "X_test = X_test2\n",
    "\n",
    "X_train.head(1)"
   ]
  },
  {
   "cell_type": "markdown",
   "metadata": {},
   "source": [
    "## Modelling"
   ]
  },
  {
   "cell_type": "markdown",
   "metadata": {},
   "source": [
    "### Choosing the models"
   ]
  },
  {
   "cell_type": "code",
   "execution_count": 65,
   "metadata": {},
   "outputs": [],
   "source": [
    "#We write down a few interesting Classification models\n",
    "\n",
    "from sklearn.neighbors import KNeighborsClassifier\n",
    "from sklearn.linear_model import LogisticRegression\n",
    "from sklearn.naive_bayes import GaussianNB\n",
    "from sklearn.tree import DecisionTreeClassifier\n",
    "from sklearn.ensemble import RandomForestClassifier\n",
    "\n",
    "#Models \n",
    "\n",
    "forest = RandomForestClassifier(n_estimators = 10, criterion = 'entropy', \n",
    "                                random_state = 0)\n",
    "tree = DecisionTreeClassifier(criterion = 'entropy', random_state = 0)\n",
    "bayes = GaussianNB()\n",
    "k_nn = KNeighborsClassifier(n_neighbors = 5, metric = 'minkowski', p = 2)\n",
    "log = LogisticRegression(random_state = 0)\n",
    "\n",
    "models = [forest, tree, bayes, k_nn, log]\n",
    "scores = []"
   ]
  },
  {
   "cell_type": "markdown",
   "metadata": {},
   "source": [
    "### Cross-validation"
   ]
  },
  {
   "cell_type": "code",
   "execution_count": 66,
   "metadata": {},
   "outputs": [],
   "source": [
    "#Since we have an unbalanced database we use StratifiedKFold \n",
    "from sklearn.model_selection import cross_val_score\n",
    "from sklearn.model_selection import StratifiedKFold\n",
    "\n",
    "kfold = StratifiedKFold(n_splits=10, shuffle=True, random_state=1)\n",
    "for mod in models:\n",
    "    mod.fit(X_train, y_train.values.ravel())\n",
    "    acc = cross_val_score(mod, X_train, y_train.values.ravel(), \n",
    "                          scoring = \"accuracy\", cv = kfold, n_jobs = -1)\n",
    "    scores.append(acc.mean())"
   ]
  },
  {
   "cell_type": "code",
   "execution_count": 67,
   "metadata": {},
   "outputs": [
    {
     "data": {
      "text/html": [
       "<div>\n",
       "<style scoped>\n",
       "    .dataframe tbody tr th:only-of-type {\n",
       "        vertical-align: middle;\n",
       "    }\n",
       "\n",
       "    .dataframe tbody tr th {\n",
       "        vertical-align: top;\n",
       "    }\n",
       "\n",
       "    .dataframe thead th {\n",
       "        text-align: right;\n",
       "    }\n",
       "</style>\n",
       "<table border=\"1\" class=\"dataframe\">\n",
       "  <thead>\n",
       "    <tr style=\"text-align: right;\">\n",
       "      <th></th>\n",
       "      <th>Model</th>\n",
       "      <th>Accuracy (Chi-Squared)</th>\n",
       "    </tr>\n",
       "  </thead>\n",
       "  <tbody>\n",
       "    <tr>\n",
       "      <th>0</th>\n",
       "      <td>Random Forest</td>\n",
       "      <td>0.737135</td>\n",
       "    </tr>\n",
       "    <tr>\n",
       "      <th>1</th>\n",
       "      <td>Decision Tree</td>\n",
       "      <td>0.736384</td>\n",
       "    </tr>\n",
       "    <tr>\n",
       "      <th>2</th>\n",
       "      <td>Logistic Regression</td>\n",
       "      <td>0.732068</td>\n",
       "    </tr>\n",
       "    <tr>\n",
       "      <th>3</th>\n",
       "      <td>Naive Bayes</td>\n",
       "      <td>0.730173</td>\n",
       "    </tr>\n",
       "    <tr>\n",
       "      <th>4</th>\n",
       "      <td>K Nearest Neighbour</td>\n",
       "      <td>0.711992</td>\n",
       "    </tr>\n",
       "  </tbody>\n",
       "</table>\n",
       "</div>"
      ],
      "text/plain": [
       "                 Model  Accuracy (Chi-Squared)\n",
       "0        Random Forest                0.737135\n",
       "1        Decision Tree                0.736384\n",
       "2  Logistic Regression                0.732068\n",
       "3          Naive Bayes                0.730173\n",
       "4  K Nearest Neighbour                0.711992"
      ]
     },
     "execution_count": 67,
     "metadata": {},
     "output_type": "execute_result"
    }
   ],
   "source": [
    "#Here we create a table for visualization\n",
    "results = pd.DataFrame({\n",
    "    'Model': ['Random Forest', 'Decision Tree', 'Naive Bayes',\n",
    "              'K Nearest Neighbour', 'Logistic Regression'],\n",
    "    'Accuracy (Chi-Squared)': scores})\n",
    "\n",
    "result_df = results.sort_values(by='Accuracy (Chi-Squared)', \n",
    "                                ascending=False).reset_index(drop=True)\n",
    "result_df"
   ]
  },
  {
   "cell_type": "markdown",
   "metadata": {},
   "source": [
    "### Hyper-parameter tunning"
   ]
  },
  {
   "cell_type": "code",
   "execution_count": 68,
   "metadata": {},
   "outputs": [
    {
     "name": "stdout",
     "output_type": "stream",
     "text": [
      "Best Accuracy: 73.66 %\n",
      "Best Parameters: {'criterion': 'entropy', 'splitter': 'random'}\n"
     ]
    }
   ],
   "source": [
    "#To make it more time-efficient we will not do GridSearch on K-NN/Bayes since it is the model that gave us the worse results.\n",
    "#Decision Tree\n",
    "from sklearn.model_selection import GridSearchCV\n",
    "criterion = ['gini', 'entropy']\n",
    "splitter =['best', 'random']\n",
    "parameters = dict(criterion = criterion, splitter = splitter)\n",
    "\n",
    "\n",
    "grid_search = GridSearchCV(estimator = tree,\n",
    "                           param_grid = parameters,\n",
    "                           scoring = 'accuracy',\n",
    "                           cv = kfold,\n",
    "                           n_jobs = -1)\n",
    "grid_search.fit(X_train, y_train.values.ravel())\n",
    "best_accuracy = grid_search.best_score_\n",
    "best_parameters = grid_search.best_params_\n",
    "print(\"Best Accuracy: {:.2f} %\".format(best_accuracy*100))\n",
    "print(\"Best Parameters:\", best_parameters)"
   ]
  },
  {
   "cell_type": "code",
   "execution_count": 69,
   "metadata": {},
   "outputs": [
    {
     "name": "stdout",
     "output_type": "stream",
     "text": [
      "Best Accuracy: 73.22 %\n",
      "Best Parameters: {'C': 0.001, 'penalty': 'l2'}\n"
     ]
    }
   ],
   "source": [
    "#Logistic Regression\n",
    "penalty = ['l1', 'l2']\n",
    "C = [0.001, 0.01, 0.1, 1, 10, 100, 1000]\n",
    "parameters = dict(C=C, penalty=penalty)\n",
    "\n",
    "grid_search = GridSearchCV(estimator = log,\n",
    "                           param_grid = parameters,\n",
    "                           scoring = 'accuracy',\n",
    "                           cv = kfold,\n",
    "                           n_jobs = -1)\n",
    "grid_search.fit(X_train, y_train.values.ravel())\n",
    "best_accuracy = grid_search.best_score_\n",
    "best_parameters = grid_search.best_params_\n",
    "print(\"Best Accuracy: {:.2f} %\".format(best_accuracy*100))\n",
    "print(\"Best Parameters:\", best_parameters)"
   ]
  },
  {
   "cell_type": "code",
   "execution_count": 70,
   "metadata": {},
   "outputs": [
    {
     "name": "stdout",
     "output_type": "stream",
     "text": [
      "Best Accuracy: 73.78 %\n",
      "Best Parameters: {'criterion': 'gini', 'n_estimators': 200}\n"
     ]
    }
   ],
   "source": [
    "#Random Forest\n",
    "n_estimators = [50, 100, 150, 200]\n",
    "criterion = ['gini','entropy']\n",
    "\n",
    "parameters = dict(criterion = criterion, n_estimators = n_estimators)\n",
    "\n",
    "\n",
    "grid_search = GridSearchCV(estimator = forest,\n",
    "                           param_grid = parameters,\n",
    "                           scoring = 'accuracy',\n",
    "                           cv = kfold,\n",
    "                           n_jobs = -1)\n",
    "grid_search.fit(X_train, y_train.values.ravel())\n",
    "best_accuracy = grid_search.best_score_\n",
    "best_parameters = grid_search.best_params_\n",
    "print(\"Best Accuracy: {:.2f} %\".format(best_accuracy*100))\n",
    "print(\"Best Parameters:\", best_parameters)"
   ]
  },
  {
   "cell_type": "code",
   "execution_count": 71,
   "metadata": {},
   "outputs": [],
   "source": [
    "#After knowing the best parameters, we do the process again\n",
    "\n",
    "forest = RandomForestClassifier(n_estimators = 200, \n",
    "                            criterion = 'gini', random_state = 0)\n",
    "tree = DecisionTreeClassifier(criterion = 'entropy', \n",
    "                            splitter = 'random', random_state = 0)\n",
    "bayes = GaussianNB()\n",
    "k_nn = KNeighborsClassifier(n_neighbors = 18, \n",
    "        n_jobs = 1, weights = 'uniform', metric = 'minkowski', p = 2)\n",
    "log = LogisticRegression(C = 0.001, penalty = 'l2', random_state = 0)\n",
    "\n",
    "models2 = [forest, tree, bayes, k_nn, log]\n",
    "scores2 = []"
   ]
  },
  {
   "cell_type": "code",
   "execution_count": 72,
   "metadata": {},
   "outputs": [],
   "source": [
    "for mod in models2:\n",
    "    mod.fit(X_train, y_train.values.ravel())\n",
    "    acc = cross_val_score(mod, X_train, y_train.values.ravel(), \n",
    "                          scoring = \"accuracy\", cv = kfold, n_jobs = -1)\n",
    "    scores2.append(acc.mean())"
   ]
  },
  {
   "cell_type": "code",
   "execution_count": 73,
   "metadata": {},
   "outputs": [
    {
     "data": {
      "text/html": [
       "<div>\n",
       "<style scoped>\n",
       "    .dataframe tbody tr th:only-of-type {\n",
       "        vertical-align: middle;\n",
       "    }\n",
       "\n",
       "    .dataframe tbody tr th {\n",
       "        vertical-align: top;\n",
       "    }\n",
       "\n",
       "    .dataframe thead th {\n",
       "        text-align: right;\n",
       "    }\n",
       "</style>\n",
       "<table border=\"1\" class=\"dataframe\">\n",
       "  <thead>\n",
       "    <tr style=\"text-align: right;\">\n",
       "      <th></th>\n",
       "      <th>Model</th>\n",
       "      <th>Accuracy (Chi-Squared)</th>\n",
       "      <th>Accuracy with tuned param (Chi-Squared)</th>\n",
       "    </tr>\n",
       "  </thead>\n",
       "  <tbody>\n",
       "    <tr>\n",
       "      <th>0</th>\n",
       "      <td>Random Forest</td>\n",
       "      <td>0.737135</td>\n",
       "      <td>0.737762</td>\n",
       "    </tr>\n",
       "    <tr>\n",
       "      <th>1</th>\n",
       "      <td>Decision Tree</td>\n",
       "      <td>0.736384</td>\n",
       "      <td>0.736625</td>\n",
       "    </tr>\n",
       "    <tr>\n",
       "      <th>2</th>\n",
       "      <td>Logistic Regression</td>\n",
       "      <td>0.732068</td>\n",
       "      <td>0.732243</td>\n",
       "    </tr>\n",
       "    <tr>\n",
       "      <th>3</th>\n",
       "      <td>K Nearest Neighbour</td>\n",
       "      <td>0.711992</td>\n",
       "      <td>0.730851</td>\n",
       "    </tr>\n",
       "    <tr>\n",
       "      <th>4</th>\n",
       "      <td>Naive Bayes</td>\n",
       "      <td>0.730173</td>\n",
       "      <td>0.730173</td>\n",
       "    </tr>\n",
       "  </tbody>\n",
       "</table>\n",
       "</div>"
      ],
      "text/plain": [
       "                 Model  Accuracy (Chi-Squared)  \\\n",
       "0        Random Forest                0.737135   \n",
       "1        Decision Tree                0.736384   \n",
       "2  Logistic Regression                0.732068   \n",
       "3  K Nearest Neighbour                0.711992   \n",
       "4          Naive Bayes                0.730173   \n",
       "\n",
       "   Accuracy with tuned param (Chi-Squared)  \n",
       "0                                 0.737762  \n",
       "1                                 0.736625  \n",
       "2                                 0.732243  \n",
       "3                                 0.730851  \n",
       "4                                 0.730173  "
      ]
     },
     "execution_count": 73,
     "metadata": {},
     "output_type": "execute_result"
    }
   ],
   "source": [
    "#And for the table with the Optimised Results for the Chi-Squared results\n",
    "results = pd.DataFrame({\n",
    "    'Model': ['Random Forest', 'Decision Tree', 'Naive Bayes',\n",
    "              'K Nearest Neighbour', 'Logistic Regression'],\n",
    "    'Accuracy (Chi-Squared)': scores, \n",
    "    'Accuracy with tuned param (Chi-Squared)' : scores2})\n",
    "\n",
    "result_df = results.sort_values(by='Accuracy with tuned param (Chi-Squared)', \n",
    "                                ascending=False).reset_index(drop=True)\n",
    "result_df"
   ]
  },
  {
   "cell_type": "markdown",
   "metadata": {},
   "source": [
    "### Validation"
   ]
  },
  {
   "cell_type": "code",
   "execution_count": 74,
   "metadata": {},
   "outputs": [],
   "source": [
    "#We finally test each optimised model performance on the Test Set\n",
    "scores2_1 = []\n",
    "from sklearn.metrics import accuracy_score\n",
    "for mod in models2:\n",
    "    y_pred = mod.predict(X_test)\n",
    "    acc = accuracy_score(y_test, y_pred)\n",
    "    scores2_1.append(acc)"
   ]
  },
  {
   "cell_type": "code",
   "execution_count": 75,
   "metadata": {},
   "outputs": [
    {
     "data": {
      "text/html": [
       "<div>\n",
       "<style scoped>\n",
       "    .dataframe tbody tr th:only-of-type {\n",
       "        vertical-align: middle;\n",
       "    }\n",
       "\n",
       "    .dataframe tbody tr th {\n",
       "        vertical-align: top;\n",
       "    }\n",
       "\n",
       "    .dataframe thead th {\n",
       "        text-align: right;\n",
       "    }\n",
       "</style>\n",
       "<table border=\"1\" class=\"dataframe\">\n",
       "  <thead>\n",
       "    <tr style=\"text-align: right;\">\n",
       "      <th></th>\n",
       "      <th>Model</th>\n",
       "      <th>Accuracy (Chi-Squared)</th>\n",
       "      <th>Accuracy with tuned param (Chi-Squared)</th>\n",
       "      <th>Accuracy Test Set (Chi-Squared)</th>\n",
       "    </tr>\n",
       "  </thead>\n",
       "  <tbody>\n",
       "    <tr>\n",
       "      <th>0</th>\n",
       "      <td>Random Forest</td>\n",
       "      <td>0.737135</td>\n",
       "      <td>0.737762</td>\n",
       "      <td>0.739284</td>\n",
       "    </tr>\n",
       "    <tr>\n",
       "      <th>1</th>\n",
       "      <td>Decision Tree</td>\n",
       "      <td>0.736384</td>\n",
       "      <td>0.736625</td>\n",
       "      <td>0.738088</td>\n",
       "    </tr>\n",
       "    <tr>\n",
       "      <th>2</th>\n",
       "      <td>Logistic Regression</td>\n",
       "      <td>0.732068</td>\n",
       "      <td>0.732243</td>\n",
       "      <td>0.733277</td>\n",
       "    </tr>\n",
       "    <tr>\n",
       "      <th>3</th>\n",
       "      <td>Naive Bayes</td>\n",
       "      <td>0.730173</td>\n",
       "      <td>0.730173</td>\n",
       "      <td>0.732286</td>\n",
       "    </tr>\n",
       "    <tr>\n",
       "      <th>4</th>\n",
       "      <td>K Nearest Neighbour</td>\n",
       "      <td>0.711992</td>\n",
       "      <td>0.730851</td>\n",
       "      <td>0.713915</td>\n",
       "    </tr>\n",
       "  </tbody>\n",
       "</table>\n",
       "</div>"
      ],
      "text/plain": [
       "                 Model  Accuracy (Chi-Squared)  \\\n",
       "0        Random Forest                0.737135   \n",
       "1        Decision Tree                0.736384   \n",
       "2  Logistic Regression                0.732068   \n",
       "3          Naive Bayes                0.730173   \n",
       "4  K Nearest Neighbour                0.711992   \n",
       "\n",
       "   Accuracy with tuned param (Chi-Squared)  Accuracy Test Set (Chi-Squared)  \n",
       "0                                 0.737762                         0.739284  \n",
       "1                                 0.736625                         0.738088  \n",
       "2                                 0.732243                         0.733277  \n",
       "3                                 0.730173                         0.732286  \n",
       "4                                 0.730851                         0.713915  "
      ]
     },
     "execution_count": 75,
     "metadata": {},
     "output_type": "execute_result"
    }
   ],
   "source": [
    "#Finally, the table with the Validation results\n",
    "results = pd.DataFrame({\n",
    "    'Model': ['Random Forest', 'Decision Tree', 'Naive Bayes',\n",
    "              'K Nearest Neighbour', 'Logistic Regression'],\n",
    "    'Accuracy (Chi-Squared)': scores, \n",
    "    'Accuracy with tuned param (Chi-Squared)' : scores2,\n",
    "    'Accuracy Test Set (Chi-Squared)' : scores2_1})\n",
    "\n",
    "result_df = results.sort_values(by='Accuracy Test Set (Chi-Squared)', \n",
    "                                ascending=False).reset_index(drop=True)\n",
    "result_df"
   ]
  },
  {
   "cell_type": "markdown",
   "metadata": {},
   "source": [
    "## Splitting into Train and Test Set (FEATURE IMPORTANCE)"
   ]
  },
  {
   "cell_type": "code",
   "execution_count": 76,
   "metadata": {},
   "outputs": [],
   "source": [
    "#This will be our database for our model in the Feature Importance Version.\n",
    "X = database[['PEDINVOLVED','COLLISIONPLACE','BYCICLCOUNT','CLUSTERS','VEHCOUNT','PARTOFDAY',\n",
    "              'CODECOL','PEOPLEINVOLVED','DESCRIPCOL','COLLISIONTYPE']]\n",
    "\n",
    "y = database[['SEVERITYCODE']]"
   ]
  },
  {
   "cell_type": "code",
   "execution_count": 78,
   "metadata": {},
   "outputs": [],
   "source": [
    "#We split into Training and Test Set\n",
    "X_train, X_test, y_train, y_test = train_test_split(X, y, test_size = 0.2, random_state = 0)"
   ]
  },
  {
   "cell_type": "markdown",
   "metadata": {},
   "source": [
    "## Scaling"
   ]
  },
  {
   "cell_type": "code",
   "execution_count": 79,
   "metadata": {},
   "outputs": [],
   "source": [
    "#Now we do some Feature Scaling\n",
    "sc_X = StandardScaler()\n",
    "\n",
    "X_train2 = pd.DataFrame(sc_X.fit_transform(X_train))\n",
    "X_test2 = pd.DataFrame(sc_X.transform(X_test)) #we do the Feature Scaling\n",
    "\n",
    "X_train2.columns = X_train.columns.values \n",
    "X_test2.columns = X_test.columns.values #we give the new Scaled DataFrame the names of the columns\n",
    "\n",
    "X_train2.index = X_train.index.values\n",
    "X_test2.index = X_test.index.values #we give the new Scaled DataFrame the indexes that correspond to each of the rows\n",
    "\n",
    "X_train = X_train2\n",
    "X_test = X_test2"
   ]
  },
  {
   "cell_type": "markdown",
   "metadata": {},
   "source": [
    "## Modelling"
   ]
  },
  {
   "cell_type": "markdown",
   "metadata": {},
   "source": [
    "### Choosing the models"
   ]
  },
  {
   "cell_type": "code",
   "execution_count": 80,
   "metadata": {},
   "outputs": [],
   "source": [
    "#Models \n",
    "forest = RandomForestClassifier(n_estimators = 10, criterion = 'entropy', random_state = 0)\n",
    "tree = DecisionTreeClassifier(criterion = 'entropy', random_state = 0)\n",
    "bayes = GaussianNB()\n",
    "k_nn = KNeighborsClassifier(n_neighbors = 5, metric = 'minkowski', p = 2)\n",
    "log = LogisticRegression(random_state = 0)\n",
    "\n",
    "models = [forest, tree, bayes, k_nn, log]\n",
    "scores_fi = []"
   ]
  },
  {
   "cell_type": "markdown",
   "metadata": {},
   "source": [
    "### Cross-validation"
   ]
  },
  {
   "cell_type": "code",
   "execution_count": 81,
   "metadata": {},
   "outputs": [],
   "source": [
    "for mod in models:\n",
    "    mod.fit(X_train, y_train.values.ravel())\n",
    "    acc = cross_val_score(mod, X_train, y_train.values.ravel(), scoring = \"accuracy\", cv = kfold, n_jobs = -1)\n",
    "    scores_fi.append(acc.mean())"
   ]
  },
  {
   "cell_type": "code",
   "execution_count": 82,
   "metadata": {},
   "outputs": [
    {
     "data": {
      "text/html": [
       "<div>\n",
       "<style scoped>\n",
       "    .dataframe tbody tr th:only-of-type {\n",
       "        vertical-align: middle;\n",
       "    }\n",
       "\n",
       "    .dataframe tbody tr th {\n",
       "        vertical-align: top;\n",
       "    }\n",
       "\n",
       "    .dataframe thead th {\n",
       "        text-align: right;\n",
       "    }\n",
       "</style>\n",
       "<table border=\"1\" class=\"dataframe\">\n",
       "  <thead>\n",
       "    <tr style=\"text-align: right;\">\n",
       "      <th></th>\n",
       "      <th>Model</th>\n",
       "      <th>Accuracy (Feature Importance)</th>\n",
       "    </tr>\n",
       "  </thead>\n",
       "  <tbody>\n",
       "    <tr>\n",
       "      <th>0</th>\n",
       "      <td>Logistic Regression</td>\n",
       "      <td>0.733038</td>\n",
       "    </tr>\n",
       "    <tr>\n",
       "      <th>1</th>\n",
       "      <td>Random Forest</td>\n",
       "      <td>0.731317</td>\n",
       "    </tr>\n",
       "    <tr>\n",
       "      <th>2</th>\n",
       "      <td>Decision Tree</td>\n",
       "      <td>0.730588</td>\n",
       "    </tr>\n",
       "    <tr>\n",
       "      <th>3</th>\n",
       "      <td>Naive Bayes</td>\n",
       "      <td>0.730559</td>\n",
       "    </tr>\n",
       "    <tr>\n",
       "      <th>4</th>\n",
       "      <td>K Nearest Neighbour</td>\n",
       "      <td>0.707836</td>\n",
       "    </tr>\n",
       "  </tbody>\n",
       "</table>\n",
       "</div>"
      ],
      "text/plain": [
       "                 Model  Accuracy (Feature Importance)\n",
       "0  Logistic Regression                       0.733038\n",
       "1        Random Forest                       0.731317\n",
       "2        Decision Tree                       0.730588\n",
       "3          Naive Bayes                       0.730559\n",
       "4  K Nearest Neighbour                       0.707836"
      ]
     },
     "execution_count": 82,
     "metadata": {},
     "output_type": "execute_result"
    }
   ],
   "source": [
    "#Here we create a table for visualization\n",
    "results_fi = pd.DataFrame({\n",
    "    'Model': ['Random Forest', 'Decision Tree', 'Naive Bayes','K Nearest Neighbour', 'Logistic Regression'],\n",
    "    'Accuracy (Feature Importance)': scores_fi})\n",
    "\n",
    "result_df_fi = results_fi.sort_values(by='Accuracy (Feature Importance)', ascending=False).reset_index(drop=True)\n",
    "result_df_fi"
   ]
  },
  {
   "cell_type": "markdown",
   "metadata": {},
   "source": [
    "### Hyper-parameter tunning"
   ]
  },
  {
   "cell_type": "code",
   "execution_count": 83,
   "metadata": {},
   "outputs": [
    {
     "name": "stdout",
     "output_type": "stream",
     "text": [
      "Best Accuracy: 73.06 %\n",
      "Best Parameters: {'criterion': 'gini', 'splitter': 'random'}\n"
     ]
    }
   ],
   "source": [
    "#Decision Tree\n",
    "criterion = ['gini', 'entropy']\n",
    "splitter =['best', 'random']\n",
    "parameters = dict(criterion = criterion, splitter = splitter)\n",
    "\n",
    "\n",
    "grid_search = GridSearchCV(estimator = tree,\n",
    "                           param_grid = parameters,\n",
    "                           scoring = 'accuracy',\n",
    "                           cv = kfold,\n",
    "                           n_jobs = -1)\n",
    "grid_search.fit(X_train, y_train.values.ravel())\n",
    "best_accuracy = grid_search.best_score_\n",
    "best_parameters = grid_search.best_params_\n",
    "print(\"Best Accuracy: {:.2f} %\".format(best_accuracy*100))\n",
    "print(\"Best Parameters:\", best_parameters)"
   ]
  },
  {
   "cell_type": "code",
   "execution_count": 84,
   "metadata": {},
   "outputs": [
    {
     "name": "stdout",
     "output_type": "stream",
     "text": [
      "Best Accuracy: 73.31 %\n",
      "Best Parameters: {'C': 0.01, 'penalty': 'l2'}\n"
     ]
    }
   ],
   "source": [
    "#Logistic Regression\n",
    "penalty = ['l1', 'l2']\n",
    "C = [0.001, 0.01, 0.1, 1, 10, 100, 1000]\n",
    "parameters = dict(C=C, penalty=penalty)\n",
    "\n",
    "grid_search = GridSearchCV(estimator = log,\n",
    "                           param_grid = parameters,\n",
    "                           scoring = 'accuracy',\n",
    "                           cv = kfold,\n",
    "                           n_jobs = -1)\n",
    "grid_search.fit(X_train, y_train.values.ravel())\n",
    "best_accuracy = grid_search.best_score_\n",
    "best_parameters = grid_search.best_params_\n",
    "print(\"Best Accuracy: {:.2f} %\".format(best_accuracy*100))\n",
    "print(\"Best Parameters:\", best_parameters)"
   ]
  },
  {
   "cell_type": "code",
   "execution_count": 85,
   "metadata": {},
   "outputs": [
    {
     "name": "stdout",
     "output_type": "stream",
     "text": [
      "Best Accuracy: 73.37 %\n",
      "Best Parameters: {'criterion': 'gini', 'n_estimators': 200}\n"
     ]
    }
   ],
   "source": [
    "#Random Forest\n",
    "n_estimators = [50, 100, 150, 200]\n",
    "criterion = ['gini','entropy']\n",
    "\n",
    "parameters = dict(criterion = criterion, n_estimators = n_estimators)\n",
    "\n",
    "\n",
    "grid_search = GridSearchCV(estimator = forest,\n",
    "                           param_grid = parameters,\n",
    "                           scoring = 'accuracy',\n",
    "                           cv = kfold,\n",
    "                           n_jobs = -1)\n",
    "grid_search.fit(X_train, y_train.values.ravel())\n",
    "best_accuracy = grid_search.best_score_\n",
    "best_parameters = grid_search.best_params_\n",
    "print(\"Best Accuracy: {:.2f} %\".format(best_accuracy*100))\n",
    "print(\"Best Parameters:\", best_parameters)"
   ]
  },
  {
   "cell_type": "code",
   "execution_count": 86,
   "metadata": {},
   "outputs": [],
   "source": [
    "#After knowing the best parameters, we do the process again with the Cross-Validation method\n",
    "forest = RandomForestClassifier(n_estimators = 200, criterion = 'gini', random_state = 0)\n",
    "tree = DecisionTreeClassifier(criterion = 'gini', splitter = 'random', random_state = 0)\n",
    "bayes = GaussianNB()\n",
    "k_nn = KNeighborsClassifier(n_neighbors = 18, n_jobs = 1, weights = 'uniform', metric = 'minkowski', p = 2)\n",
    "log = LogisticRegression(C = 0.01, penalty = 'l2', random_state = 0)\n",
    "\n",
    "models2 = [forest, tree, bayes, k_nn, log]\n",
    "scores2_fi = []"
   ]
  },
  {
   "cell_type": "code",
   "execution_count": 87,
   "metadata": {},
   "outputs": [],
   "source": [
    "for mod in models2:\n",
    "    mod.fit(X_train, y_train.values.ravel())\n",
    "    acc = cross_val_score(mod, X_train, y_train.values.ravel(), scoring = \"accuracy\", cv = kfold)\n",
    "    scores2_fi.append(acc.mean())"
   ]
  },
  {
   "cell_type": "code",
   "execution_count": 88,
   "metadata": {},
   "outputs": [
    {
     "data": {
      "text/html": [
       "<div>\n",
       "<style scoped>\n",
       "    .dataframe tbody tr th:only-of-type {\n",
       "        vertical-align: middle;\n",
       "    }\n",
       "\n",
       "    .dataframe tbody tr th {\n",
       "        vertical-align: top;\n",
       "    }\n",
       "\n",
       "    .dataframe thead th {\n",
       "        text-align: right;\n",
       "    }\n",
       "</style>\n",
       "<table border=\"1\" class=\"dataframe\">\n",
       "  <thead>\n",
       "    <tr style=\"text-align: right;\">\n",
       "      <th></th>\n",
       "      <th>Model</th>\n",
       "      <th>Accuracy (Feature Importance)</th>\n",
       "      <th>Accuracy with tuned param (Feature Importance)</th>\n",
       "    </tr>\n",
       "  </thead>\n",
       "  <tbody>\n",
       "    <tr>\n",
       "      <th>0</th>\n",
       "      <td>Random Forest</td>\n",
       "      <td>0.731317</td>\n",
       "      <td>0.733679</td>\n",
       "    </tr>\n",
       "    <tr>\n",
       "      <th>1</th>\n",
       "      <td>Logistic Regression</td>\n",
       "      <td>0.733038</td>\n",
       "      <td>0.733096</td>\n",
       "    </tr>\n",
       "    <tr>\n",
       "      <th>2</th>\n",
       "      <td>Decision Tree</td>\n",
       "      <td>0.730588</td>\n",
       "      <td>0.730603</td>\n",
       "    </tr>\n",
       "    <tr>\n",
       "      <th>3</th>\n",
       "      <td>Naive Bayes</td>\n",
       "      <td>0.730559</td>\n",
       "      <td>0.730559</td>\n",
       "    </tr>\n",
       "    <tr>\n",
       "      <th>4</th>\n",
       "      <td>K Nearest Neighbour</td>\n",
       "      <td>0.707836</td>\n",
       "      <td>0.727701</td>\n",
       "    </tr>\n",
       "  </tbody>\n",
       "</table>\n",
       "</div>"
      ],
      "text/plain": [
       "                 Model  Accuracy (Feature Importance)  \\\n",
       "0        Random Forest                       0.731317   \n",
       "1  Logistic Regression                       0.733038   \n",
       "2        Decision Tree                       0.730588   \n",
       "3          Naive Bayes                       0.730559   \n",
       "4  K Nearest Neighbour                       0.707836   \n",
       "\n",
       "   Accuracy with tuned param (Feature Importance)  \n",
       "0                                        0.733679  \n",
       "1                                        0.733096  \n",
       "2                                        0.730603  \n",
       "3                                        0.730559  \n",
       "4                                        0.727701  "
      ]
     },
     "execution_count": 88,
     "metadata": {},
     "output_type": "execute_result"
    }
   ],
   "source": [
    "#And for the table with the Optimised Results for the Feature Importance method\n",
    "results_fi = pd.DataFrame({\n",
    "    'Model': ['Random Forest', 'Decision Tree', 'Naive Bayes','K Nearest Neighbour', 'Logistic Regression'],\n",
    "    'Accuracy (Feature Importance)': scores_fi, 'Accuracy with tuned param (Feature Importance)' : scores2_fi})\n",
    "\n",
    "result_df_fi = results_fi.sort_values(by='Accuracy with tuned param (Feature Importance)', ascending=False).reset_index(drop=True)\n",
    "result_df_fi"
   ]
  },
  {
   "cell_type": "markdown",
   "metadata": {},
   "source": [
    "### Validation"
   ]
  },
  {
   "cell_type": "code",
   "execution_count": 89,
   "metadata": {},
   "outputs": [],
   "source": [
    "#We finally test each optimised model performance on the Test Set\n",
    "scores2_1_fi = []\n",
    "for mod in models2:\n",
    "    y_pred = mod.predict(X_test)\n",
    "    acc = accuracy_score(y_test, y_pred)\n",
    "    scores2_1_fi.append(acc)"
   ]
  },
  {
   "cell_type": "code",
   "execution_count": 90,
   "metadata": {},
   "outputs": [
    {
     "data": {
      "text/html": [
       "<div>\n",
       "<style scoped>\n",
       "    .dataframe tbody tr th:only-of-type {\n",
       "        vertical-align: middle;\n",
       "    }\n",
       "\n",
       "    .dataframe tbody tr th {\n",
       "        vertical-align: top;\n",
       "    }\n",
       "\n",
       "    .dataframe thead th {\n",
       "        text-align: right;\n",
       "    }\n",
       "</style>\n",
       "<table border=\"1\" class=\"dataframe\">\n",
       "  <thead>\n",
       "    <tr style=\"text-align: right;\">\n",
       "      <th></th>\n",
       "      <th>Model</th>\n",
       "      <th>Accuracy (Feature Importance)</th>\n",
       "      <th>Accuracy with tuned param (Feature Importance)</th>\n",
       "      <th>Accuracy Test Set (Feature Importance)</th>\n",
       "    </tr>\n",
       "  </thead>\n",
       "  <tbody>\n",
       "    <tr>\n",
       "      <th>0</th>\n",
       "      <td>Random Forest</td>\n",
       "      <td>0.731317</td>\n",
       "      <td>0.733679</td>\n",
       "      <td>0.735697</td>\n",
       "    </tr>\n",
       "    <tr>\n",
       "      <th>1</th>\n",
       "      <td>Logistic Regression</td>\n",
       "      <td>0.733038</td>\n",
       "      <td>0.733096</td>\n",
       "      <td>0.733773</td>\n",
       "    </tr>\n",
       "    <tr>\n",
       "      <th>2</th>\n",
       "      <td>Decision Tree</td>\n",
       "      <td>0.730588</td>\n",
       "      <td>0.730603</td>\n",
       "      <td>0.733569</td>\n",
       "    </tr>\n",
       "    <tr>\n",
       "      <th>3</th>\n",
       "      <td>K Nearest Neighbour</td>\n",
       "      <td>0.707836</td>\n",
       "      <td>0.727701</td>\n",
       "      <td>0.733364</td>\n",
       "    </tr>\n",
       "    <tr>\n",
       "      <th>4</th>\n",
       "      <td>Naive Bayes</td>\n",
       "      <td>0.730559</td>\n",
       "      <td>0.730559</td>\n",
       "      <td>0.733131</td>\n",
       "    </tr>\n",
       "  </tbody>\n",
       "</table>\n",
       "</div>"
      ],
      "text/plain": [
       "                 Model  Accuracy (Feature Importance)  \\\n",
       "0        Random Forest                       0.731317   \n",
       "1  Logistic Regression                       0.733038   \n",
       "2        Decision Tree                       0.730588   \n",
       "3  K Nearest Neighbour                       0.707836   \n",
       "4          Naive Bayes                       0.730559   \n",
       "\n",
       "   Accuracy with tuned param (Feature Importance)  \\\n",
       "0                                        0.733679   \n",
       "1                                        0.733096   \n",
       "2                                        0.730603   \n",
       "3                                        0.727701   \n",
       "4                                        0.730559   \n",
       "\n",
       "   Accuracy Test Set (Feature Importance)  \n",
       "0                                0.735697  \n",
       "1                                0.733773  \n",
       "2                                0.733569  \n",
       "3                                0.733364  \n",
       "4                                0.733131  "
      ]
     },
     "execution_count": 90,
     "metadata": {},
     "output_type": "execute_result"
    }
   ],
   "source": [
    "#Finally, the table with the Validation results (Feature Importance)\n",
    "results_fi = pd.DataFrame({\n",
    "    'Model': ['Random Forest', 'Decision Tree', 'Naive Bayes','K Nearest Neighbour', 'Logistic Regression'],\n",
    "    'Accuracy (Feature Importance)': scores_fi, \n",
    "    'Accuracy with tuned param (Feature Importance)' : scores2_fi,\n",
    "    'Accuracy Test Set (Feature Importance)': scores2_1_fi})\n",
    "\n",
    "result_df_fi = results_fi.sort_values(by='Accuracy Test Set (Feature Importance)', ascending=False).reset_index(drop=True)\n",
    "result_df_fi"
   ]
  },
  {
   "cell_type": "markdown",
   "metadata": {},
   "source": [
    "### Concatenation"
   ]
  },
  {
   "cell_type": "code",
   "execution_count": 91,
   "metadata": {
    "scrolled": false
   },
   "outputs": [
    {
     "data": {
      "text/html": [
       "<div>\n",
       "<style scoped>\n",
       "    .dataframe tbody tr th:only-of-type {\n",
       "        vertical-align: middle;\n",
       "    }\n",
       "\n",
       "    .dataframe tbody tr th {\n",
       "        vertical-align: top;\n",
       "    }\n",
       "\n",
       "    .dataframe thead th {\n",
       "        text-align: right;\n",
       "    }\n",
       "</style>\n",
       "<table border=\"1\" class=\"dataframe\">\n",
       "  <thead>\n",
       "    <tr style=\"text-align: right;\">\n",
       "      <th></th>\n",
       "      <th>Model</th>\n",
       "      <th>Accuracy Test Set (Chi-Squared)</th>\n",
       "      <th>Accuracy Test Set (Feature Importance)</th>\n",
       "    </tr>\n",
       "  </thead>\n",
       "  <tbody>\n",
       "    <tr>\n",
       "      <th>0</th>\n",
       "      <td>Random Forest</td>\n",
       "      <td>0.739284</td>\n",
       "      <td>0.735697</td>\n",
       "    </tr>\n",
       "    <tr>\n",
       "      <th>1</th>\n",
       "      <td>Decision Tree</td>\n",
       "      <td>0.738088</td>\n",
       "      <td>0.733773</td>\n",
       "    </tr>\n",
       "    <tr>\n",
       "      <th>2</th>\n",
       "      <td>Logistic Regression</td>\n",
       "      <td>0.733277</td>\n",
       "      <td>0.733569</td>\n",
       "    </tr>\n",
       "    <tr>\n",
       "      <th>3</th>\n",
       "      <td>Naive Bayes</td>\n",
       "      <td>0.732286</td>\n",
       "      <td>0.733364</td>\n",
       "    </tr>\n",
       "    <tr>\n",
       "      <th>4</th>\n",
       "      <td>K Nearest Neighbour</td>\n",
       "      <td>0.713915</td>\n",
       "      <td>0.733131</td>\n",
       "    </tr>\n",
       "  </tbody>\n",
       "</table>\n",
       "</div>"
      ],
      "text/plain": [
       "                 Model  Accuracy Test Set (Chi-Squared)  \\\n",
       "0        Random Forest                         0.739284   \n",
       "1        Decision Tree                         0.738088   \n",
       "2  Logistic Regression                         0.733277   \n",
       "3          Naive Bayes                         0.732286   \n",
       "4  K Nearest Neighbour                         0.713915   \n",
       "\n",
       "   Accuracy Test Set (Feature Importance)  \n",
       "0                                0.735697  \n",
       "1                                0.733773  \n",
       "2                                0.733569  \n",
       "3                                0.733364  \n",
       "4                                0.733131  "
      ]
     },
     "execution_count": 91,
     "metadata": {},
     "output_type": "execute_result"
    }
   ],
   "source": [
    "#And we put both tables together\n",
    "results_chi = result_df[['Model', 'Accuracy Test Set (Chi-Squared)']]\n",
    "results_feat = result_df_fi[['Accuracy Test Set (Feature Importance)']]\n",
    "final_results = results_chi.join(results_feat)\n",
    "final_results"
   ]
  },
  {
   "cell_type": "code",
   "execution_count": 99,
   "metadata": {},
   "outputs": [],
   "source": [
    "#The model with the best accuracy is the Random Forest (73,93%) of the Chi-squared version.\n",
    "#Let's check what is the importance of each feature\n",
    "\n",
    "X = database[['CROSSWALK','LANESEGMENT', 'DESCRIPCOL' ,'CODECOL' ,'PEDINVOLVED',\n",
    "              'BYCICLCOUNT','COLLISIONTYPE','COLLISIONPLACE','PEOPLEINVOLVED','HITPARKEDCAR']]\n",
    "\n",
    "y = database[['SEVERITYCODE']]\n",
    "\n",
    "X_train, X_test, y_train, y_test = train_test_split(X, y, test_size = 0.2, random_state = 0)"
   ]
  },
  {
   "cell_type": "code",
   "execution_count": 100,
   "metadata": {},
   "outputs": [],
   "source": [
    "#Now we do some Feature Scaling\n",
    "sc_X = StandardScaler()\n",
    "\n",
    "X_train2 = pd.DataFrame(sc_X.fit_transform(X_train))\n",
    "X_test2 = pd.DataFrame(sc_X.transform(X_test)) #we do the Feature Scaling\n",
    "\n",
    "X_train2.columns = X_train.columns.values \n",
    "X_test2.columns = X_test.columns.values #we give the new Scaled DataFrame column names\n",
    "\n",
    "X_train2.index = X_train.index.values\n",
    "X_test2.index = X_test.index.values #we give the new Scaled DataFrame each index\n",
    "\n",
    "X_train = X_train2\n",
    "X_test = X_test2"
   ]
  },
  {
   "cell_type": "code",
   "execution_count": 101,
   "metadata": {},
   "outputs": [
    {
     "name": "stdout",
     "output_type": "stream",
     "text": [
      "CROSSWALK = 4.11 %\n",
      "LANESEGMENT = 3.39 %\n",
      "DESCRIPCOL = 28.13 %\n",
      "CODECOL = 11.29 %\n",
      "PEDINVOLVED = 9.11 %\n",
      "BYCICLCOUNT = 10.03 %\n",
      "COLLISIONTYPE = 17.85 %\n",
      "COLLISIONPLACE = 3.54 %\n",
      "PEOPLEINVOLVED = 12.12 %\n",
      "HITPARKEDCAR = 0.42 %\n"
     ]
    }
   ],
   "source": [
    "X = 'CROSSWALK','LANESEGMENT', 'DESCRIPCOL' ,'CODECOL' ,'PEDINVOLVED','BYCICLCOUNT', \\\n",
    "    'COLLISIONTYPE','COLLISIONPLACE','PEOPLEINVOLVED','HITPARKEDCAR'\n",
    "\n",
    "forest = RandomForestClassifier(n_estimators = 200, \n",
    "                            criterion = 'gini', random_state = 0)\n",
    "forest.fit(X_train, y_train.values.ravel())\n",
    "for name, importance in zip(X, forest.feature_importances_):\n",
    "    print(name, \"=\", \"{:.2f} %\".format(importance*100))"
   ]
  },
  {
   "cell_type": "code",
   "execution_count": 102,
   "metadata": {
    "scrolled": true
   },
   "outputs": [
    {
     "data": {
      "image/png": "[encoded data removed]",
      "text/plain": [
       "<Figure size 432x288 with 1 Axes>"
      ]
     },
     "metadata": {},
     "output_type": "display_data"
    }
   ],
   "source": [
    "#And we plot it.\n",
    "\n",
    "features = X\n",
    "importances = forest.feature_importances_\n",
    "indices = np.argsort(importances)\n",
    "\n",
    "plt.title('Random Forest Chi-Squared')\n",
    "plt.barh(range(len(indices)), importances[indices], color='b', align='center')\n",
    "plt.yticks(range(len(indices)), [features[i] for i in indices])\n",
    "plt.xlabel('Relative Importance')\n",
    "plt.show()"
   ]
  },
  {
   "cell_type": "markdown",
   "metadata": {},
   "source": [
    "## MODELLING (NO FEATURE SELECTION)"
   ]
  },
  {
   "cell_type": "code",
   "execution_count": 103,
   "metadata": {},
   "outputs": [],
   "source": [
    "##As an EXTRA, just for the sake of it, let's do the whole modelling with the database without Feature Selection and check results:\n",
    "X = database.iloc[:,:-1]\n",
    "\n",
    "y = database.iloc[:,-1]"
   ]
  },
  {
   "cell_type": "code",
   "execution_count": 104,
   "metadata": {},
   "outputs": [],
   "source": [
    "#We split into Training and Test Set\n",
    "X_train, X_test, y_train, y_test = train_test_split(X, y, test_size = 0.2, random_state = 0)"
   ]
  },
  {
   "cell_type": "markdown",
   "metadata": {},
   "source": [
    "## Scaling"
   ]
  },
  {
   "cell_type": "code",
   "execution_count": 105,
   "metadata": {},
   "outputs": [
    {
     "data": {
      "text/html": [
       "<div>\n",
       "<style scoped>\n",
       "    .dataframe tbody tr th:only-of-type {\n",
       "        vertical-align: middle;\n",
       "    }\n",
       "\n",
       "    .dataframe tbody tr th {\n",
       "        vertical-align: top;\n",
       "    }\n",
       "\n",
       "    .dataframe thead th {\n",
       "        text-align: right;\n",
       "    }\n",
       "</style>\n",
       "<table border=\"1\" class=\"dataframe\">\n",
       "  <thead>\n",
       "    <tr style=\"text-align: right;\">\n",
       "      <th></th>\n",
       "      <th>STATUS</th>\n",
       "      <th>COLLISIONPLACE</th>\n",
       "      <th>COLLISIONTYPE</th>\n",
       "      <th>DRUNK/DRUGGED</th>\n",
       "      <th>WEATHER</th>\n",
       "      <th>ROADCOND</th>\n",
       "      <th>LIGHTCOND</th>\n",
       "      <th>HITPARKEDCAR</th>\n",
       "      <th>PARTOFDAY</th>\n",
       "      <th>PEOPLEINVOLVED</th>\n",
       "      <th>PEDINVOLVED</th>\n",
       "      <th>BYCICLCOUNT</th>\n",
       "      <th>VEHCOUNT</th>\n",
       "      <th>CODECOL</th>\n",
       "      <th>DESCRIPCOL</th>\n",
       "      <th>LANESEGMENT</th>\n",
       "      <th>CROSSWALK</th>\n",
       "      <th>CLUSTERS</th>\n",
       "    </tr>\n",
       "  </thead>\n",
       "  <tbody>\n",
       "    <tr>\n",
       "      <th>144605</th>\n",
       "      <td>-0.0027</td>\n",
       "      <td>-0.751029</td>\n",
       "      <td>0.894618</td>\n",
       "      <td>-0.23405</td>\n",
       "      <td>0.726142</td>\n",
       "      <td>1.633772</td>\n",
       "      <td>0.608948</td>\n",
       "      <td>-0.179071</td>\n",
       "      <td>0.784453</td>\n",
       "      <td>-0.361451</td>\n",
       "      <td>-0.195311</td>\n",
       "      <td>-0.179165</td>\n",
       "      <td>0.047103</td>\n",
       "      <td>-0.055882</td>\n",
       "      <td>-0.560205</td>\n",
       "      <td>-0.087441</td>\n",
       "      <td>-0.139549</td>\n",
       "      <td>0.032674</td>\n",
       "    </tr>\n",
       "  </tbody>\n",
       "</table>\n",
       "</div>"
      ],
      "text/plain": [
       "        STATUS  COLLISIONPLACE  COLLISIONTYPE  DRUNK/DRUGGED   WEATHER  \\\n",
       "144605 -0.0027       -0.751029       0.894618       -0.23405  0.726142   \n",
       "\n",
       "        ROADCOND  LIGHTCOND  HITPARKEDCAR  PARTOFDAY  PEOPLEINVOLVED  \\\n",
       "144605  1.633772   0.608948     -0.179071   0.784453       -0.361451   \n",
       "\n",
       "        PEDINVOLVED  BYCICLCOUNT  VEHCOUNT   CODECOL  DESCRIPCOL  LANESEGMENT  \\\n",
       "144605    -0.195311    -0.179165  0.047103 -0.055882   -0.560205    -0.087441   \n",
       "\n",
       "        CROSSWALK  CLUSTERS  \n",
       "144605  -0.139549  0.032674  "
      ]
     },
     "execution_count": 105,
     "metadata": {},
     "output_type": "execute_result"
    }
   ],
   "source": [
    "#Now we do some Feature Scaling\n",
    "sc_X = StandardScaler()\n",
    "\n",
    "X_train2 = pd.DataFrame(sc_X.fit_transform(X_train))\n",
    "X_test2 = pd.DataFrame(sc_X.transform(X_test)) #we do the Feature Scaling\n",
    "\n",
    "X_train2.columns = X_train.columns.values \n",
    "X_test2.columns = X_test.columns.values #we give the new Scaled DataFrame column names\n",
    "\n",
    "X_train2.index = X_train.index.values\n",
    "X_test2.index = X_test.index.values #we give the new Scaled DataFrame each index\n",
    "\n",
    "X_train = X_train2\n",
    "X_test = X_test2\n",
    "\n",
    "X_train.head(1)"
   ]
  },
  {
   "cell_type": "markdown",
   "metadata": {},
   "source": [
    "## Modelling"
   ]
  },
  {
   "cell_type": "markdown",
   "metadata": {},
   "source": [
    "### Choosing the models"
   ]
  },
  {
   "cell_type": "code",
   "execution_count": 106,
   "metadata": {},
   "outputs": [],
   "source": [
    "#Models \n",
    "\n",
    "forest = RandomForestClassifier(n_estimators = 10, criterion = 'entropy', \n",
    "                                random_state = 0)\n",
    "tree = DecisionTreeClassifier(criterion = 'entropy', random_state = 0)\n",
    "bayes = GaussianNB()\n",
    "k_nn = KNeighborsClassifier(n_neighbors = 5, metric = 'minkowski', p = 2)\n",
    "log = LogisticRegression(random_state = 0)\n",
    "\n",
    "models = [forest, tree, bayes, k_nn, log]\n",
    "scores_all = []"
   ]
  },
  {
   "cell_type": "markdown",
   "metadata": {},
   "source": [
    "### Cross-validation"
   ]
  },
  {
   "cell_type": "code",
   "execution_count": 107,
   "metadata": {},
   "outputs": [],
   "source": [
    "#Since we have an unbalanced database we use StratifiedKFold \n",
    "kfold = StratifiedKFold(n_splits=10, shuffle=True, random_state=1)\n",
    "for mod in models:\n",
    "    mod.fit(X_train, y_train.values.ravel())\n",
    "    acc = cross_val_score(mod, X_train, y_train.values.ravel(), \n",
    "                          scoring = \"accuracy\", cv = kfold, n_jobs = -1)\n",
    "    scores_all.append(acc.mean())"
   ]
  },
  {
   "cell_type": "code",
   "execution_count": 108,
   "metadata": {},
   "outputs": [
    {
     "data": {
      "text/html": [
       "<div>\n",
       "<style scoped>\n",
       "    .dataframe tbody tr th:only-of-type {\n",
       "        vertical-align: middle;\n",
       "    }\n",
       "\n",
       "    .dataframe tbody tr th {\n",
       "        vertical-align: top;\n",
       "    }\n",
       "\n",
       "    .dataframe thead th {\n",
       "        text-align: right;\n",
       "    }\n",
       "</style>\n",
       "<table border=\"1\" class=\"dataframe\">\n",
       "  <thead>\n",
       "    <tr style=\"text-align: right;\">\n",
       "      <th></th>\n",
       "      <th>Model</th>\n",
       "      <th>Accuracy (No Feature Select.)</th>\n",
       "    </tr>\n",
       "  </thead>\n",
       "  <tbody>\n",
       "    <tr>\n",
       "      <th>0</th>\n",
       "      <td>Logistic Regression</td>\n",
       "      <td>0.732994</td>\n",
       "    </tr>\n",
       "    <tr>\n",
       "      <th>1</th>\n",
       "      <td>Random Forest</td>\n",
       "      <td>0.720966</td>\n",
       "    </tr>\n",
       "    <tr>\n",
       "      <th>2</th>\n",
       "      <td>Decision Tree</td>\n",
       "      <td>0.713552</td>\n",
       "    </tr>\n",
       "    <tr>\n",
       "      <th>3</th>\n",
       "      <td>K Nearest Neighbour</td>\n",
       "      <td>0.704461</td>\n",
       "    </tr>\n",
       "    <tr>\n",
       "      <th>4</th>\n",
       "      <td>Naive Bayes</td>\n",
       "      <td>0.388189</td>\n",
       "    </tr>\n",
       "  </tbody>\n",
       "</table>\n",
       "</div>"
      ],
      "text/plain": [
       "                 Model  Accuracy (No Feature Select.)\n",
       "0  Logistic Regression                       0.732994\n",
       "1        Random Forest                       0.720966\n",
       "2        Decision Tree                       0.713552\n",
       "3  K Nearest Neighbour                       0.704461\n",
       "4          Naive Bayes                       0.388189"
      ]
     },
     "execution_count": 108,
     "metadata": {},
     "output_type": "execute_result"
    }
   ],
   "source": [
    "#Here we create a table for visualization\n",
    "results_all = pd.DataFrame({\n",
    "    'Model': ['Random Forest', 'Decision Tree', 'Naive Bayes',\n",
    "              'K Nearest Neighbour', 'Logistic Regression'],\n",
    "    'Accuracy (No Feature Select.)': scores_all})\n",
    "\n",
    "result_df_all = results_all.sort_values(by='Accuracy (No Feature Select.)', \n",
    "                                ascending=False).reset_index(drop=True)\n",
    "result_df_all"
   ]
  },
  {
   "cell_type": "markdown",
   "metadata": {},
   "source": [
    "### Hyper-parameter tunning"
   ]
  },
  {
   "cell_type": "code",
   "execution_count": 109,
   "metadata": {},
   "outputs": [
    {
     "name": "stdout",
     "output_type": "stream",
     "text": [
      "Best Accuracy: 71.38 %\n",
      "Best Parameters: {'criterion': 'gini', 'splitter': 'random'}\n"
     ]
    }
   ],
   "source": [
    "#To make it more time-efficient we will not do GridSearch on K-NN/Bayes since it is the model that gave us the worse results.\n",
    "#Decision Tree\n",
    "criterion = ['gini', 'entropy']\n",
    "splitter =['best', 'random']\n",
    "parameters = dict(criterion = criterion, splitter = splitter)\n",
    "\n",
    "\n",
    "grid_search = GridSearchCV(estimator = tree,\n",
    "                           param_grid = parameters,\n",
    "                           scoring = 'accuracy',\n",
    "                           cv = kfold,\n",
    "                           n_jobs = -1)\n",
    "grid_search.fit(X_train, y_train.values.ravel())\n",
    "best_accuracy = grid_search.best_score_\n",
    "best_parameters = grid_search.best_params_\n",
    "print(\"Best Accuracy: {:.2f} %\".format(best_accuracy*100))\n",
    "print(\"Best Parameters:\", best_parameters)"
   ]
  },
  {
   "cell_type": "code",
   "execution_count": 110,
   "metadata": {},
   "outputs": [
    {
     "name": "stdout",
     "output_type": "stream",
     "text": [
      "Best Accuracy: 73.30 %\n",
      "Best Parameters: {'C': 0.1, 'penalty': 'l2'}\n"
     ]
    }
   ],
   "source": [
    "#Logistic Regression\n",
    "penalty = ['l1', 'l2']\n",
    "C = [0.001, 0.01, 0.1, 1, 10, 100, 1000]\n",
    "parameters = dict(C=C, penalty=penalty)\n",
    "\n",
    "grid_search = GridSearchCV(estimator = log,\n",
    "                           param_grid = parameters,\n",
    "                           scoring = 'accuracy',\n",
    "                           cv = kfold,\n",
    "                           n_jobs = -1)\n",
    "grid_search.fit(X_train, y_train.values.ravel())\n",
    "best_accuracy = grid_search.best_score_\n",
    "best_parameters = grid_search.best_params_\n",
    "print(\"Best Accuracy: {:.2f} %\".format(best_accuracy*100))\n",
    "print(\"Best Parameters:\", best_parameters)"
   ]
  },
  {
   "cell_type": "code",
   "execution_count": 111,
   "metadata": {},
   "outputs": [
    {
     "name": "stdout",
     "output_type": "stream",
     "text": [
      "Best Accuracy: 72.52 %\n",
      "Best Parameters: {'criterion': 'entropy', 'n_estimators': 200}\n"
     ]
    }
   ],
   "source": [
    "#Random Forest\n",
    "n_estimators = [50, 100, 150, 200]\n",
    "criterion = ['gini','entropy']\n",
    "\n",
    "parameters = dict(criterion = criterion, n_estimators = n_estimators)\n",
    "\n",
    "\n",
    "grid_search = GridSearchCV(estimator = forest,\n",
    "                           param_grid = parameters,\n",
    "                           scoring = 'accuracy',\n",
    "                           cv = kfold,\n",
    "                           n_jobs = -1)\n",
    "grid_search.fit(X_train, y_train.values.ravel())\n",
    "best_accuracy = grid_search.best_score_\n",
    "best_parameters = grid_search.best_params_\n",
    "print(\"Best Accuracy: {:.2f} %\".format(best_accuracy*100))\n",
    "print(\"Best Parameters:\", best_parameters)"
   ]
  },
  {
   "cell_type": "code",
   "execution_count": 112,
   "metadata": {},
   "outputs": [],
   "source": [
    "#After knowing the best parameters, we do the process again\n",
    "\n",
    "forest = RandomForestClassifier(n_estimators = 200, \n",
    "                            criterion = 'entropy', random_state = 0)\n",
    "tree = DecisionTreeClassifier(criterion = 'gini', \n",
    "                            splitter = 'random', random_state = 0)\n",
    "bayes = GaussianNB()\n",
    "k_nn = KNeighborsClassifier(n_neighbors = 18, \n",
    "        n_jobs = 1, weights = 'uniform', metric = 'minkowski', p = 2)\n",
    "log = LogisticRegression(C = 0.1, penalty = 'l2', random_state = 0)\n",
    "\n",
    "models2 = [forest, tree, bayes, k_nn, log]\n",
    "scores2_all = []"
   ]
  },
  {
   "cell_type": "code",
   "execution_count": 113,
   "metadata": {},
   "outputs": [],
   "source": [
    "for mod in models2:\n",
    "    mod.fit(X_train, y_train.values.ravel())\n",
    "    acc = cross_val_score(mod, X_train, y_train.values.ravel(), \n",
    "                          scoring = \"accuracy\", cv = kfold, n_jobs = -1)\n",
    "    scores2_all.append(acc.mean())"
   ]
  },
  {
   "cell_type": "code",
   "execution_count": 114,
   "metadata": {},
   "outputs": [
    {
     "data": {
      "text/html": [
       "<div>\n",
       "<style scoped>\n",
       "    .dataframe tbody tr th:only-of-type {\n",
       "        vertical-align: middle;\n",
       "    }\n",
       "\n",
       "    .dataframe tbody tr th {\n",
       "        vertical-align: top;\n",
       "    }\n",
       "\n",
       "    .dataframe thead th {\n",
       "        text-align: right;\n",
       "    }\n",
       "</style>\n",
       "<table border=\"1\" class=\"dataframe\">\n",
       "  <thead>\n",
       "    <tr style=\"text-align: right;\">\n",
       "      <th></th>\n",
       "      <th>Model</th>\n",
       "      <th>Accuracy (No Feature Select.)</th>\n",
       "      <th>Accuracy with tuned param (No Feature Select.)</th>\n",
       "    </tr>\n",
       "  </thead>\n",
       "  <tbody>\n",
       "    <tr>\n",
       "      <th>0</th>\n",
       "      <td>Logistic Regression</td>\n",
       "      <td>0.732994</td>\n",
       "      <td>0.733001</td>\n",
       "    </tr>\n",
       "    <tr>\n",
       "      <th>1</th>\n",
       "      <td>K Nearest Neighbour</td>\n",
       "      <td>0.704461</td>\n",
       "      <td>0.728030</td>\n",
       "    </tr>\n",
       "    <tr>\n",
       "      <th>2</th>\n",
       "      <td>Random Forest</td>\n",
       "      <td>0.720966</td>\n",
       "      <td>0.725157</td>\n",
       "    </tr>\n",
       "    <tr>\n",
       "      <th>3</th>\n",
       "      <td>Decision Tree</td>\n",
       "      <td>0.713552</td>\n",
       "      <td>0.713829</td>\n",
       "    </tr>\n",
       "    <tr>\n",
       "      <th>4</th>\n",
       "      <td>Naive Bayes</td>\n",
       "      <td>0.388189</td>\n",
       "      <td>0.388189</td>\n",
       "    </tr>\n",
       "  </tbody>\n",
       "</table>\n",
       "</div>"
      ],
      "text/plain": [
       "                 Model  Accuracy (No Feature Select.)  \\\n",
       "0  Logistic Regression                       0.732994   \n",
       "1  K Nearest Neighbour                       0.704461   \n",
       "2        Random Forest                       0.720966   \n",
       "3        Decision Tree                       0.713552   \n",
       "4          Naive Bayes                       0.388189   \n",
       "\n",
       "   Accuracy with tuned param (No Feature Select.)  \n",
       "0                                        0.733001  \n",
       "1                                        0.728030  \n",
       "2                                        0.725157  \n",
       "3                                        0.713829  \n",
       "4                                        0.388189  "
      ]
     },
     "execution_count": 114,
     "metadata": {},
     "output_type": "execute_result"
    }
   ],
   "source": [
    "#And for the table with the Optimised Results for the Chi-Squared results\n",
    "results_all = pd.DataFrame({\n",
    "    'Model': ['Random Forest', 'Decision Tree', 'Naive Bayes',\n",
    "              'K Nearest Neighbour', 'Logistic Regression'],\n",
    "    'Accuracy (No Feature Select.)': scores_all, \n",
    "    'Accuracy with tuned param (No Feature Select.)' : scores2_all})\n",
    "\n",
    "result_df_all = results_all.sort_values(by='Accuracy with tuned param (No Feature Select.)', \n",
    "                                ascending=False).reset_index(drop=True)\n",
    "result_df_all"
   ]
  },
  {
   "cell_type": "markdown",
   "metadata": {},
   "source": [
    "### Validation"
   ]
  },
  {
   "cell_type": "code",
   "execution_count": 115,
   "metadata": {},
   "outputs": [],
   "source": [
    "#We finally test each optimised model performance on the Test Set\n",
    "scores2_1_all = []\n",
    "for mod in models2:\n",
    "    y_pred = mod.predict(X_test)\n",
    "    acc = accuracy_score(y_test, y_pred)\n",
    "    scores2_1_all.append(acc)"
   ]
  },
  {
   "cell_type": "code",
   "execution_count": 116,
   "metadata": {},
   "outputs": [
    {
     "data": {
      "text/html": [
       "<div>\n",
       "<style scoped>\n",
       "    .dataframe tbody tr th:only-of-type {\n",
       "        vertical-align: middle;\n",
       "    }\n",
       "\n",
       "    .dataframe tbody tr th {\n",
       "        vertical-align: top;\n",
       "    }\n",
       "\n",
       "    .dataframe thead th {\n",
       "        text-align: right;\n",
       "    }\n",
       "</style>\n",
       "<table border=\"1\" class=\"dataframe\">\n",
       "  <thead>\n",
       "    <tr style=\"text-align: right;\">\n",
       "      <th></th>\n",
       "      <th>Model</th>\n",
       "      <th>Accuracy (No Feature Select.)</th>\n",
       "      <th>Accuracy with tuned param (No Feature Select.)</th>\n",
       "      <th>Accuracy Test Set (No Feature Select.)</th>\n",
       "    </tr>\n",
       "  </thead>\n",
       "  <tbody>\n",
       "    <tr>\n",
       "      <th>0</th>\n",
       "      <td>Logistic Regression</td>\n",
       "      <td>0.732994</td>\n",
       "      <td>0.733001</td>\n",
       "      <td>0.735172</td>\n",
       "    </tr>\n",
       "    <tr>\n",
       "      <th>1</th>\n",
       "      <td>K Nearest Neighbour</td>\n",
       "      <td>0.704461</td>\n",
       "      <td>0.728030</td>\n",
       "      <td>0.732169</td>\n",
       "    </tr>\n",
       "    <tr>\n",
       "      <th>2</th>\n",
       "      <td>Random Forest</td>\n",
       "      <td>0.720966</td>\n",
       "      <td>0.725157</td>\n",
       "      <td>0.729457</td>\n",
       "    </tr>\n",
       "    <tr>\n",
       "      <th>3</th>\n",
       "      <td>Decision Tree</td>\n",
       "      <td>0.713552</td>\n",
       "      <td>0.713829</td>\n",
       "      <td>0.719164</td>\n",
       "    </tr>\n",
       "    <tr>\n",
       "      <th>4</th>\n",
       "      <td>Naive Bayes</td>\n",
       "      <td>0.388189</td>\n",
       "      <td>0.388189</td>\n",
       "      <td>0.347583</td>\n",
       "    </tr>\n",
       "  </tbody>\n",
       "</table>\n",
       "</div>"
      ],
      "text/plain": [
       "                 Model  Accuracy (No Feature Select.)  \\\n",
       "0  Logistic Regression                       0.732994   \n",
       "1  K Nearest Neighbour                       0.704461   \n",
       "2        Random Forest                       0.720966   \n",
       "3        Decision Tree                       0.713552   \n",
       "4          Naive Bayes                       0.388189   \n",
       "\n",
       "   Accuracy with tuned param (No Feature Select.)  \\\n",
       "0                                        0.733001   \n",
       "1                                        0.728030   \n",
       "2                                        0.725157   \n",
       "3                                        0.713829   \n",
       "4                                        0.388189   \n",
       "\n",
       "   Accuracy Test Set (No Feature Select.)  \n",
       "0                                0.735172  \n",
       "1                                0.732169  \n",
       "2                                0.729457  \n",
       "3                                0.719164  \n",
       "4                                0.347583  "
      ]
     },
     "execution_count": 116,
     "metadata": {},
     "output_type": "execute_result"
    }
   ],
   "source": [
    "#Finally, the table with the Validation results\n",
    "results_all = pd.DataFrame({\n",
    "    'Model': ['Random Forest', 'Decision Tree', 'Naive Bayes',\n",
    "              'K Nearest Neighbour', 'Logistic Regression'],\n",
    "    'Accuracy (No Feature Select.)': scores_all, \n",
    "    'Accuracy with tuned param (No Feature Select.)' : scores2_all,\n",
    "    'Accuracy Test Set (No Feature Select.)' : scores2_1_all})\n",
    "\n",
    "result_df_all = results_all.sort_values(by='Accuracy Test Set (No Feature Select.)', \n",
    "                                ascending=False).reset_index(drop=True)\n",
    "result_df_all"
   ]
  },
  {
   "cell_type": "code",
   "execution_count": 117,
   "metadata": {},
   "outputs": [
    {
     "data": {
      "text/html": [
       "<div>\n",
       "<style scoped>\n",
       "    .dataframe tbody tr th:only-of-type {\n",
       "        vertical-align: middle;\n",
       "    }\n",
       "\n",
       "    .dataframe tbody tr th {\n",
       "        vertical-align: top;\n",
       "    }\n",
       "\n",
       "    .dataframe thead th {\n",
       "        text-align: right;\n",
       "    }\n",
       "</style>\n",
       "<table border=\"1\" class=\"dataframe\">\n",
       "  <thead>\n",
       "    <tr style=\"text-align: right;\">\n",
       "      <th></th>\n",
       "      <th>Model</th>\n",
       "      <th>Accuracy Test Set (Chi-Squared)</th>\n",
       "      <th>Accuracy Test Set (Feature Importance)</th>\n",
       "      <th>Accuracy Test Set (No Feature Select.)</th>\n",
       "    </tr>\n",
       "  </thead>\n",
       "  <tbody>\n",
       "    <tr>\n",
       "      <th>0</th>\n",
       "      <td>Random Forest</td>\n",
       "      <td>0.739284</td>\n",
       "      <td>0.735697</td>\n",
       "      <td>0.735172</td>\n",
       "    </tr>\n",
       "    <tr>\n",
       "      <th>1</th>\n",
       "      <td>Decision Tree</td>\n",
       "      <td>0.738088</td>\n",
       "      <td>0.733773</td>\n",
       "      <td>0.732169</td>\n",
       "    </tr>\n",
       "    <tr>\n",
       "      <th>2</th>\n",
       "      <td>Logistic Regression</td>\n",
       "      <td>0.733277</td>\n",
       "      <td>0.733569</td>\n",
       "      <td>0.729457</td>\n",
       "    </tr>\n",
       "    <tr>\n",
       "      <th>3</th>\n",
       "      <td>Naive Bayes</td>\n",
       "      <td>0.732286</td>\n",
       "      <td>0.733364</td>\n",
       "      <td>0.719164</td>\n",
       "    </tr>\n",
       "    <tr>\n",
       "      <th>4</th>\n",
       "      <td>K Nearest Neighbour</td>\n",
       "      <td>0.713915</td>\n",
       "      <td>0.733131</td>\n",
       "      <td>0.347583</td>\n",
       "    </tr>\n",
       "  </tbody>\n",
       "</table>\n",
       "</div>"
      ],
      "text/plain": [
       "                 Model  Accuracy Test Set (Chi-Squared)  \\\n",
       "0        Random Forest                         0.739284   \n",
       "1        Decision Tree                         0.738088   \n",
       "2  Logistic Regression                         0.733277   \n",
       "3          Naive Bayes                         0.732286   \n",
       "4  K Nearest Neighbour                         0.713915   \n",
       "\n",
       "   Accuracy Test Set (Feature Importance)  \\\n",
       "0                                0.735697   \n",
       "1                                0.733773   \n",
       "2                                0.733569   \n",
       "3                                0.733364   \n",
       "4                                0.733131   \n",
       "\n",
       "   Accuracy Test Set (No Feature Select.)  \n",
       "0                                0.735172  \n",
       "1                                0.732169  \n",
       "2                                0.729457  \n",
       "3                                0.719164  \n",
       "4                                0.347583  "
      ]
     },
     "execution_count": 117,
     "metadata": {},
     "output_type": "execute_result"
    }
   ],
   "source": [
    "#And we put both tables together\n",
    "results_chi = result_df[['Model', 'Accuracy Test Set (Chi-Squared)']]\n",
    "results_feat = result_df_fi[['Accuracy Test Set (Feature Importance)']]\n",
    "results_all = result_df_all[['Accuracy Test Set (No Feature Select.)']]\n",
    "half_results = results_chi.join(results_feat)\n",
    "final_results = half_results.join(results_all)\n",
    "final_results"
   ]
  },
  {
   "cell_type": "markdown",
   "metadata": {},
   "source": [
    "#### More information on this project on:  https://medium.com/@jgarciaportillo/seattle-car-accident-project-ibm-applied-data-science-5b548fdbb25a"
   ]
  }
 ],
 "metadata": {
  "kernelspec": {
   "display_name": "Python 3",
   "language": "python",
   "name": "python3"
  },
  "language_info": {
   "codemirror_mode": {
    "name": "ipython",
    "version": 3
   },
   "file_extension": ".py",
   "mimetype": "text/x-python",
   "name": "python",
   "nbconvert_exporter": "python",
   "pygments_lexer": "ipython3",
   "version": "3.7.4"
  },
  "toc": {
   "base_numbering": 1,
   "nav_menu": {},
   "number_sections": true,
   "sideBar": true,
   "skip_h1_title": false,
   "title_cell": "Table of Contents",
   "title_sidebar": "Contents",
   "toc_cell": false,
   "toc_position": {},
   "toc_section_display": true,
   "toc_window_display": false
  }
 },
 "nbformat": 4,
 "nbformat_minor": 4
}
